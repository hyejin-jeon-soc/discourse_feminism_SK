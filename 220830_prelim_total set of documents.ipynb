{
 "cells": [
  {
   "cell_type": "code",
   "execution_count": 1,
   "id": "6c267c89",
   "metadata": {},
   "outputs": [],
   "source": [
    "\"\"\"\n",
    "본 코드는 'Prelim_feminism' and 'chosun_cleanning' 기반으로 재구성됨\n",
    "\n",
    "chosun9099와 df_clean을 vlookup으로 merge함 \n",
    "\n",
    "조선일보의 경우, 클리닝 완료된 상태를 머지함(완벽한 클리닝상태 아님)\n",
    "빅카인즈는 명사화된 그대로 돌림\n",
    "\n",
    "\"\"\"\n",
    "\n",
    "import pandas as pd\n",
    "import numpy as np\n",
    "import matplotlib.pyplot as plt\n",
    "from pykospacing import Spacing #얘는 두번돌리면 안됨 ㅅㅂ 이유가 뭐야\n",
    "from konlpy.tag import Okt\n",
    "from collections import Counter\n",
    "from tqdm import tqdm"
   ]
  },
  {
   "cell_type": "code",
   "execution_count": 28,
   "id": "41e39a63",
   "metadata": {},
   "outputs": [],
   "source": [
    "chosun9099 = pd.read_csv('C:/Users/Hyejin/Documents/Python Scripts/02_feminism/chosun9099.csv', encoding='utf-8')\n",
    "df_clean= pd.read_csv('C:/Users/Hyejin/Documents/Python Scripts/02_feminism/df_clean.csv',encoding='utf-8')"
   ]
  },
  {
   "cell_type": "code",
   "execution_count": 29,
   "id": "b4d50a19",
   "metadata": {},
   "outputs": [],
   "source": [
    "# 변수이름 통일해줍시다\n",
    "chosun9099.rename(columns = {'main_pos_f' : 'word' }, inplace = True) #변수이름 변경\n",
    "chosun9099['platform'] = '조선일보' #단일값변수생성"
   ]
  },
  {
   "cell_type": "code",
   "execution_count": 30,
   "id": "46dfbf1a",
   "metadata": {},
   "outputs": [],
   "source": [
    "\"\"\"\n",
    "https://yganalyst.github.io/data_handling/Pd_12/\n",
    "참조_데이터 merge\n",
    "\n",
    "\"\"\"\n",
    "\n",
    "# inner 옵션으로 두 데이터의 교집합만 뽑아냄\n",
    "merge9099 = pd.concat([chosun9099,df_clean], axis = 0, join = 'inner')\n",
    "merge9099 = merge9099.reset_index()\n",
    "merge9099 = merge9099.drop(['index'], axis = 1)"
   ]
  },
  {
   "cell_type": "code",
   "execution_count": null,
   "id": "8008cd0c",
   "metadata": {},
   "outputs": [],
   "source": [
    "merge9099.head(10)"
   ]
  },
  {
   "cell_type": "code",
   "execution_count": 66,
   "id": "e447313d",
   "metadata": {},
   "outputs": [
    {
     "data": {
      "text/html": [
       "<div>\n",
       "<style scoped>\n",
       "    .dataframe tbody tr th:only-of-type {\n",
       "        vertical-align: middle;\n",
       "    }\n",
       "\n",
       "    .dataframe tbody tr th {\n",
       "        vertical-align: top;\n",
       "    }\n",
       "\n",
       "    .dataframe thead th {\n",
       "        text-align: right;\n",
       "    }\n",
       "</style>\n",
       "<table border=\"1\" class=\"dataframe\">\n",
       "  <thead>\n",
       "    <tr style=\"text-align: right;\">\n",
       "      <th></th>\n",
       "      <th>date</th>\n",
       "      <th>URL</th>\n",
       "      <th>word</th>\n",
       "      <th>platform</th>\n",
       "      <th>keyword</th>\n",
       "    </tr>\n",
       "  </thead>\n",
       "  <tbody>\n",
       "    <tr>\n",
       "      <th>628</th>\n",
       "      <td>1996-09-11 00:00:00</td>\n",
       "      <td>NaN</td>\n",
       "      <td>캐럴 페이트먼 성의 계약 최신사상 흐름 현대판 가부장 사회 계약 비판 여성신체 추상...</td>\n",
       "      <td>한겨레</td>\n",
       "      <td>[캐럴, 페이트먼, 성의, 계약, 최신사상, 흐름, 현대판, 가부장, 사회, 계약,...</td>\n",
       "    </tr>\n",
       "    <tr>\n",
       "      <th>629</th>\n",
       "      <td>1996-09-04 00:00:00</td>\n",
       "      <td>NaN</td>\n",
       "      <td>데버러 카메론 페미니즘 언어이론 최신사상 흐름 언어 천착 여성 차별 원인 전제 공통...</td>\n",
       "      <td>한겨레</td>\n",
       "      <td>[데버러, 카메론, 페미니즘, 언어이론, 최신사상, 흐름, 언어, 천착, 여성, 차...</td>\n",
       "    </tr>\n",
       "    <tr>\n",
       "      <th>630</th>\n",
       "      <td>1996-03-17 00:00:00</td>\n",
       "      <td>NaN</td>\n",
       "      <td>반영 지역 현실 적극 여성연구 활기 접근 부산 대구 광주전남 생활 실태 접근 보고서...</td>\n",
       "      <td>한겨레</td>\n",
       "      <td>[반영, 지역, 현실, 적극, 여성연구, 활기, 접근, 부산, 대구, 광주전남, 생...</td>\n",
       "    </tr>\n",
       "    <tr>\n",
       "      <th>631</th>\n",
       "      <td>1996-01-09 00:00:00</td>\n",
       "      <td>NaN</td>\n",
       "      <td>여성 평등 세상 변혁 모태 해외석학 개도국 여성 빈곤 성차별 이중굴레 인신매매 피해...</td>\n",
       "      <td>한겨레</td>\n",
       "      <td>[여성, 평등, 세상, 변혁, 모태, 해외석학, 개도국, 여성, 빈곤, 성차별, 이...</td>\n",
       "    </tr>\n",
       "    <tr>\n",
       "      <th>632</th>\n",
       "      <td>1995-12-24 00:00:00</td>\n",
       "      <td>NaN</td>\n",
       "      <td>결산 여성    회의 맹활약 역량 결산 여성    회의 맹활약 역량 위안부 부각 성...</td>\n",
       "      <td>동아일보</td>\n",
       "      <td>[결산, 여성, , , , 회의, 맹활약, 역량, 결산, 여성, , , , 회의, ...</td>\n",
       "    </tr>\n",
       "    <tr>\n",
       "      <th>633</th>\n",
       "      <td>1995-01-07 00:00:00</td>\n",
       "      <td>NaN</td>\n",
       "      <td>미대륙 세계 시각 개인주의 약자 불만 견제 증오 선동 정치판 확산 기세 미국 라디오...</td>\n",
       "      <td>한겨레</td>\n",
       "      <td>[미대륙, 세계, 시각, 개인주의, 약자, 불만, 견제, 증오, 선동, 정치판, 확...</td>\n",
       "    </tr>\n",
       "    <tr>\n",
       "      <th>634</th>\n",
       "      <td>1994-12-20 00:00:00</td>\n",
       "      <td>NaN</td>\n",
       "      <td>종합병원 신은경 이정화 탤런트 화요일 사람 세대 전형 실제성격 소극적 내성적 스타 ...</td>\n",
       "      <td>한겨레</td>\n",
       "      <td>[종합병원, 신은경, 이정화, 탤런트, 화요일, 사람, 세대, 전형, 실제성격, 소...</td>\n",
       "    </tr>\n",
       "    <tr>\n",
       "      <th>635</th>\n",
       "      <td>1994-03-16 00:00:00</td>\n",
       "      <td>NaN</td>\n",
       "      <td>민족문학 성차별 민족 문학 비판 김양선 정순진씨 이인휘 정인택 송기원 겨냥 반여성 ...</td>\n",
       "      <td>한겨레</td>\n",
       "      <td>[민족문학, 성차별, 민족, 문학, 비판, 김양선, 정순진씨, 이인휘, 정인택, 송...</td>\n",
       "    </tr>\n",
       "    <tr>\n",
       "      <th>636</th>\n",
       "      <td>1994-02-06 00:00:00</td>\n",
       "      <td>NaN</td>\n",
       "      <td>서울방송 집중 여자 방송주평 슈퍼우먼 신데렐라 환상 추구 성차별구조 과대포장 외면 ...</td>\n",
       "      <td>한겨레</td>\n",
       "      <td>[서울방송, 집중, 여자, 방송주평, 슈퍼우먼, 신데렐라, 환상, 추구, 성차별구조...</td>\n",
       "    </tr>\n",
       "    <tr>\n",
       "      <th>637</th>\n",
       "      <td>1993-01-27 00:00:00</td>\n",
       "      <td>NaN</td>\n",
       "      <td>여성 이론 현실서규명 여성학대중교양 흐름 자리 신부 남성콤플렉스 불평등 출간 준비 ...</td>\n",
       "      <td>한겨레</td>\n",
       "      <td>[여성, 이론, 현실서규명, 여성학대중교양, 흐름, 자리, 신부, 남성콤플렉스, 불...</td>\n",
       "    </tr>\n",
       "  </tbody>\n",
       "</table>\n",
       "</div>"
      ],
      "text/plain": [
       "                    date  URL  \\\n",
       "628  1996-09-11 00:00:00  NaN   \n",
       "629  1996-09-04 00:00:00  NaN   \n",
       "630  1996-03-17 00:00:00  NaN   \n",
       "631  1996-01-09 00:00:00  NaN   \n",
       "632  1995-12-24 00:00:00  NaN   \n",
       "633  1995-01-07 00:00:00  NaN   \n",
       "634  1994-12-20 00:00:00  NaN   \n",
       "635  1994-03-16 00:00:00  NaN   \n",
       "636  1994-02-06 00:00:00  NaN   \n",
       "637  1993-01-27 00:00:00  NaN   \n",
       "\n",
       "                                                  word platform  \\\n",
       "628  캐럴 페이트먼 성의 계약 최신사상 흐름 현대판 가부장 사회 계약 비판 여성신체 추상...      한겨레   \n",
       "629  데버러 카메론 페미니즘 언어이론 최신사상 흐름 언어 천착 여성 차별 원인 전제 공통...      한겨레   \n",
       "630  반영 지역 현실 적극 여성연구 활기 접근 부산 대구 광주전남 생활 실태 접근 보고서...      한겨레   \n",
       "631  여성 평등 세상 변혁 모태 해외석학 개도국 여성 빈곤 성차별 이중굴레 인신매매 피해...      한겨레   \n",
       "632  결산 여성    회의 맹활약 역량 결산 여성    회의 맹활약 역량 위안부 부각 성...     동아일보   \n",
       "633  미대륙 세계 시각 개인주의 약자 불만 견제 증오 선동 정치판 확산 기세 미국 라디오...      한겨레   \n",
       "634  종합병원 신은경 이정화 탤런트 화요일 사람 세대 전형 실제성격 소극적 내성적 스타 ...      한겨레   \n",
       "635  민족문학 성차별 민족 문학 비판 김양선 정순진씨 이인휘 정인택 송기원 겨냥 반여성 ...      한겨레   \n",
       "636  서울방송 집중 여자 방송주평 슈퍼우먼 신데렐라 환상 추구 성차별구조 과대포장 외면 ...      한겨레   \n",
       "637  여성 이론 현실서규명 여성학대중교양 흐름 자리 신부 남성콤플렉스 불평등 출간 준비 ...      한겨레   \n",
       "\n",
       "                                               keyword  \n",
       "628  [캐럴, 페이트먼, 성의, 계약, 최신사상, 흐름, 현대판, 가부장, 사회, 계약,...  \n",
       "629  [데버러, 카메론, 페미니즘, 언어이론, 최신사상, 흐름, 언어, 천착, 여성, 차...  \n",
       "630  [반영, 지역, 현실, 적극, 여성연구, 활기, 접근, 부산, 대구, 광주전남, 생...  \n",
       "631  [여성, 평등, 세상, 변혁, 모태, 해외석학, 개도국, 여성, 빈곤, 성차별, 이...  \n",
       "632  [결산, 여성, , , , 회의, 맹활약, 역량, 결산, 여성, , , , 회의, ...  \n",
       "633  [미대륙, 세계, 시각, 개인주의, 약자, 불만, 견제, 증오, 선동, 정치판, 확...  \n",
       "634  [종합병원, 신은경, 이정화, 탤런트, 화요일, 사람, 세대, 전형, 실제성격, 소...  \n",
       "635  [민족문학, 성차별, 민족, 문학, 비판, 김양선, 정순진씨, 이인휘, 정인택, 송...  \n",
       "636  [서울방송, 집중, 여자, 방송주평, 슈퍼우먼, 신데렐라, 환상, 추구, 성차별구조...  \n",
       "637  [여성, 이론, 현실서규명, 여성학대중교양, 흐름, 자리, 신부, 남성콤플렉스, 불...  "
      ]
     },
     "execution_count": 66,
     "metadata": {},
     "output_type": "execute_result"
    }
   ],
   "source": [
    "merge9099.tail(10) #조선일보랑 상태비교"
   ]
  },
  {
   "cell_type": "code",
   "execution_count": 65,
   "id": "4e92cd9e",
   "metadata": {},
   "outputs": [],
   "source": [
    "merge9099['word'] = merge9099['word'].str.lower()\n",
    "merge9099['word'] = merge9099['word'].str.replace(\"[^A-Za-z-가-힣]\", \" \",  regex = True)\n",
    "merge9099['word'] = merge9099['word'].str.replace(\"+\", \" \",  regex = True) # 다중공백제거"
   ]
  },
  {
   "cell_type": "markdown",
   "id": "cab37550",
   "metadata": {},
   "source": [
    "## word 변수를 keyword 변수화: 띄어쓰기 or ',' 기준으로 단어를 묶음"
   ]
  },
  {
   "cell_type": "code",
   "execution_count": 61,
   "id": "090cf664",
   "metadata": {},
   "outputs": [],
   "source": [
    "merge9099['keyword'] = merge9099['word'].apply(lambda x: str(x).split(' '))"
   ]
  },
  {
   "cell_type": "markdown",
   "id": "749bdbee",
   "metadata": {},
   "source": [
    "# Basic ananlysis 시작"
   ]
  },
  {
   "cell_type": "code",
   "execution_count": 63,
   "id": "ae73a2da",
   "metadata": {},
   "outputs": [
    {
     "name": "stdout",
     "output_type": "stream",
     "text": [
      "[(3, 3), (5, 7), (18, 3), (20, 1), (23, 1), (24, 1), (25, 1), (26, 1), (27, 1), (28, 1), (29, 1), (30, 1), (31, 1), (32, 1), (33, 1), (34, 1), (35, 2), (36, 1), (37, 1), (38, 2), (39, 1), (40, 1), (41, 1), (42, 1), (43, 1), (44, 1), (45, 2), (46, 1), (47, 1), (48, 2), (49, 1), (50, 1), (51, 1), (52, 1), (53, 3), (54, 2), (55, 1), (56, 1), (57, 4), (58, 1), (59, 1), (60, 1), (61, 1), (62, 1), (63, 3), (64, 2), (65, 1), (66, 1), (67, 1), (68, 1), (69, 1), (70, 1), (71, 1), (72, 1), (73, 1), (74, 1), (75, 1), (76, 2), (77, 1), (78, 2), (79, 1), (80, 1), (81, 6), (82, 1), (83, 1), (84, 4), (85, 1), (86, 2), (87, 2), (88, 1), (89, 2), (90, 1), (91, 6), (92, 3), (93, 5), (94, 1), (95, 1), (96, 1), (97, 3), (98, 1), (99, 1), (100, 3), (101, 2), (102, 2), (103, 1), (104, 1), (105, 3), (106, 2), (107, 1), (108, 1), (109, 1), (110, 1), (111, 1), (112, 1), (113, 2), (114, 10), (115, 1), (116, 1), (117, 5), (118, 9), (119, 1), (120, 1), (121, 1), (122, 2), (123, 1), (124, 1), (125, 1), (126, 1), (127, 1), (128, 1), (129, 1), (130, 1), (131, 1), (132, 2), (133, 1), (134, 1), (135, 1), (136, 1), (137, 1), (138, 1), (139, 1), (140, 1), (141, 1), (142, 1), (143, 2), (144, 1), (145, 1), (146, 2), (147, 1), (148, 1), (149, 5), (150, 1), (151, 3), (152, 1), (153, 1), (154, 1), (155, 1), (156, 4), (157, 1), (158, 1), (159, 1), (160, 1), (161, 1), (162, 1), (163, 1), (164, 1), (165, 1), (166, 1), (167, 1), (168, 1), (169, 1), (170, 1), (171, 1), (172, 1), (173, 1), (174, 1), (175, 1), (176, 4), (177, 1), (178, 1), (179, 2), (180, 1), (181, 1), (182, 1), (183, 1), (184, 1), (185, 1), (186, 1), (187, 1), (188, 1), (189, 2), (190, 3), (191, 1), (192, 1), (193, 1), (194, 1), (195, 1), (196, 1), (197, 1), (198, 1), (199, 1), (200, 1), (201, 1)]\n"
     ]
    }
   ],
   "source": [
    "from gensim import corpora, models\n",
    "import gensim #젠심 임포트 전에 안해서 꼭 하렴\n",
    "\n",
    "\n",
    "# TOTAL documents yr from 90 to 10 (조선일부 부분적 포함)\n",
    "merge9099_dic = corpora.Dictionary(merge9099['keyword'])\n",
    "merge9099_corpus = [merge9099_dic.doc2bow(text) for text in merge9099['keyword']] #[]안 딕셔너리는 앞서 지정된 딕셔너리를 의미\n",
    "\n",
    "print(merge9099_corpus[1]) # 수행된 결과에서 두번째 뉴스 출력. 첫번째 문서의 인덱스는 0"
   ]
  },
  {
   "cell_type": "markdown",
   "id": "309f49c9",
   "metadata": {},
   "source": [
    "# PPL score & coherence Score to select Topic N = k"
   ]
  },
  {
   "cell_type": "code",
   "execution_count": 71,
   "id": "576087a0",
   "metadata": {},
   "outputs": [
    {
     "name": "stdout",
     "output_type": "stream",
     "text": [
      "2 the process complete\n",
      "3 the process complete\n",
      "4 the process complete\n",
      "5 the process complete\n",
      "6 the process complete\n",
      "7 the process complete\n",
      "8 the process complete\n",
      "9 the process complete\n",
      "10 the process complete\n",
      "11 the process complete\n",
      "12 the process complete\n",
      "13 the process complete\n",
      "14 the process complete\n",
      "15 the process complete\n",
      "16 the process complete\n",
      "17 the process complete\n",
      "18 the process complete\n",
      "19 the process complete\n",
      "20 the process complete\n",
      "21 the process complete\n",
      "22 the process complete\n",
      "23 the process complete\n",
      "24 the process complete\n"
     ]
    }
   ],
   "source": [
    "'''\n",
    "https://brunch.co.kr/@jiheon0105/38 \n",
    "참조링크\n",
    "\n",
    "'''\n",
    "\n",
    "\n",
    "import gensim \n",
    "from gensim.models import CoherenceModel\n",
    "Lda = gensim.models.ldamodel.LdaModel # 아래 for문 앞에 쓰임 c\n",
    "\n",
    "\n",
    "# Total documents = merge 9099\n",
    "merge9099_ppl = []\n",
    "merge9099_cohere = []\n",
    "\n",
    "## range from 2 to 25, 25 is not included\n",
    "for i in range(2,25):\n",
    "    merge9099_lda = Lda(merge9099_corpus, num_topics = i, id2word= merge9099_dic, passes = 100 , iterations = 300,  chunksize = 150, random_state = 0, alpha = 'auto')\n",
    "    merge9099_ppl.append(merge9099_lda.log_perplexity(merge9099_corpus)) #혼잡도 아래 일관도\n",
    "    merge9099_cohere.append(CoherenceModel(model = merge9099_lda, texts = merge9099['keyword'] , dictionary = merge9099_dic, coherence='c_v', topn = 10).get_coherence())\n",
    "    print(i, 'the process complete')"
   ]
  },
  {
   "cell_type": "markdown",
   "id": "a9ea3ad5",
   "metadata": {},
   "source": [
    "# Plots - merge9099 (partially chosun)"
   ]
  },
  {
   "cell_type": "code",
   "execution_count": 72,
   "id": "303b671c",
   "metadata": {},
   "outputs": [
    {
     "data": {
      "image/png": "[encoded data removed]",
      "text/plain": [
       "<Figure size 432x288 with 1 Axes>"
      ]
     },
     "metadata": {
      "needs_background": "light"
     },
     "output_type": "display_data"
    },
    {
     "data": {
      "text/plain": [
       "[-8.441550216653567,\n",
       " -8.496460583479953,\n",
       " -8.521128549441501,\n",
       " -8.553582072624277,\n",
       " -8.565165917663599,\n",
       " -8.775519981467056,\n",
       " -9.133914583982879,\n",
       " -9.722788719645699,\n",
       " -10.487964487337381,\n",
       " -11.31131169313175,\n",
       " -12.094444827122173,\n",
       " -12.768352063402512,\n",
       " -13.316313509591467,\n",
       " -13.763849853196158,\n",
       " -14.180196799061022,\n",
       " -14.507508556318998,\n",
       " -14.83006852555838,\n",
       " -16.57344875022283,\n",
       " -16.954326731697805,\n",
       " -17.31059409892904,\n",
       " -17.67277529766005]"
      ]
     },
     "execution_count": 72,
     "metadata": {},
     "output_type": "execute_result"
    }
   ],
   "source": [
    "import matplotlib.pyplot as plt\n",
    "\n",
    "'''\n",
    "https://github.com/2017100898/BlogTopic\n",
    "\n",
    "참조할것\n",
    "\n",
    "'''\n",
    "\n",
    "\n",
    "# merge9099, 코드 안돌아가면 위에 숫자 인덱싱 몇번했는지 확인해서 맞춰서 쓰렴\n",
    "\n",
    "x = range(2,25)\n",
    "plt.plot(x, merge9099_ppl, marker = '*')\n",
    "plt.xticks(np.arange(min(x), max(x)+1, 1.0))\n",
    "plt.xlabel(\"number of Topics\")\n",
    "plt.ylabel(\"Perplexity Score\")\n",
    "plt.show()\n",
    "\n",
    "merge9099_ppl[2:25] # min 22, cohere고려시.. 20"
   ]
  },
  {
   "cell_type": "code",
   "execution_count": 73,
   "id": "ee702012",
   "metadata": {},
   "outputs": [
    {
     "data": {
      "image/png": "[encoded data removed]",
      "text/plain": [
       "<Figure size 432x288 with 1 Axes>"
      ]
     },
     "metadata": {
      "needs_background": "light"
     },
     "output_type": "display_data"
    },
    {
     "data": {
      "text/plain": [
       "[0.41911101509402643,\n",
       " 0.45261287201992195,\n",
       " 0.4073551900141424,\n",
       " 0.3894787721877619,\n",
       " 0.38857110799005506,\n",
       " 0.35924827466228243,\n",
       " 0.386398420452882,\n",
       " 0.35531418614362786,\n",
       " 0.418945123348953,\n",
       " 0.38844856510860465,\n",
       " 0.3920528922402898,\n",
       " 0.40314104517582455,\n",
       " 0.4599993236170895,\n",
       " 0.41012117918045526,\n",
       " 0.4195196264811531,\n",
       " 0.3997134423397174,\n",
       " 0.4299428422554282,\n",
       " 0.45617153054132953,\n",
       " 0.4426269007888243,\n",
       " 0.4470988126407901,\n",
       " 0.45340812933377217]"
      ]
     },
     "execution_count": 73,
     "metadata": {},
     "output_type": "execute_result"
    }
   ],
   "source": [
    "x = range(2,25)\n",
    "plt.plot(x, merge9099_cohere, color = 'brown', marker = '*')\n",
    "plt.xticks(np.arange(min(x), max(x)+1, 1.0))\n",
    "plt.xlabel(\"number of Topics\")\n",
    "plt.ylabel(\"Coherence Score\")\n",
    "plt.show()\n",
    "\n",
    "merge9099_cohere[2:31] # max: 8, ppl고려시 20"
   ]
  },
  {
   "cell_type": "markdown",
   "id": "115a036d",
   "metadata": {},
   "source": [
    "# Topic Extraction"
   ]
  },
  {
   "cell_type": "code",
   "execution_count": 75,
   "id": "0ba93bea",
   "metadata": {},
   "outputs": [
    {
     "name": "stdout",
     "output_type": "stream",
     "text": [
      "(0, '0.085*\"세대\" + 0.017*\"음식\" + 0.012*\"수정\" + 0.012*\"화장실\" + 0.012*\"보도\" + 0.012*\"기분\" + 0.011*\"이익\" + 0.010*\"프로그램\"')\n",
      "(1, '0.065*\"게임\" + 0.000*\"\" + 0.000*\"메갈\" + 0.000*\"일러스트\" + 0.000*\"씨\" + 0.000*\"커뮤니티\" + 0.000*\"프리랜서\" + 0.000*\"메갈리아\"')\n",
      "(2, '0.024*\"미술\" + 0.016*\"세기\" + 0.016*\"문명\" + 0.014*\"민족주의\" + 0.012*\"시대\" + 0.011*\"저항\" + 0.011*\"특정\" + 0.010*\"인간\"')\n",
      "(3, '0.023*\"페이지\" + 0.017*\"보부아르\" + 0.017*\"철학\" + 0.016*\"반발\" + 0.014*\"신화\" + 0.012*\"일본군\" + 0.010*\"필자\" + 0.009*\"이론가\"')\n",
      "(4, '0.050*\"여성학\" + 0.023*\"연구\" + 0.017*\"법대\" + 0.014*\"여대\" + 0.011*\"미즈\" + 0.008*\"사회학\" + 0.007*\"연구회\" + 0.007*\"회장\"')\n",
      "(5, '0.071*\"후보\" + 0.055*\"선거\" + 0.022*\"법률\" + 0.021*\"식민지\" + 0.018*\"복지\" + 0.016*\"동참\" + 0.015*\"시민운동\" + 0.011*\"합법\"')\n",
      "(6, '0.000*\"관광객들\" + 0.000*\"교육생\" + 0.000*\"고산\" + 0.000*\"공가\" + 0.000*\"관광\" + 0.000*\"가이드라\" + 0.000*\"금잔화\" + 0.000*\"구아바잎\"')\n",
      "(7, '0.064*\"여자\" + 0.037*\"남자\" + 0.024*\"모델\" + 0.020*\"드라마\" + 0.013*\"회사\" + 0.012*\"광고\" + 0.011*\"살인\" + 0.011*\"강남역\"')\n",
      "(8, '0.084*\"대통령\" + 0.025*\"검사\" + 0.019*\"신은경\" + 0.014*\"검찰\" + 0.014*\"은폐\" + 0.013*\"선생님\" + 0.009*\"장미\" + 0.008*\"자랑\"')\n",
      "(9, '0.094*\"일본\" + 0.034*\"민족\" + 0.028*\"아시아\" + 0.021*\"빈곤\" + 0.020*\"보호\" + 0.019*\"정부\" + 0.016*\"한국인\" + 0.014*\"발굴\"')\n",
      "(10, '0.009*\"일자\" + 0.007*\"북경\" + 0.007*\"국민대\" + 0.005*\"성씨\" + 0.005*\"취득\" + 0.003*\"박사학위\" + 0.002*\"경대\" + 0.002*\"최씨\"')\n",
      "(11, '0.025*\"한국\" + 0.019*\"사회\" + 0.018*\"생각\" + 0.015*\"교수\" + 0.014*\"미국\" + 0.013*\"사람\" + 0.010*\"사건\" + 0.008*\"국가\"')\n",
      "(12, '0.041*\"지역\" + 0.022*\"인터넷\" + 0.021*\"노동자\" + 0.021*\"피해\" + 0.021*\"폭력\" + 0.019*\"백인\" + 0.013*\"내부\" + 0.013*\"진행\"')\n",
      "(13, '0.078*\"영화\" + 0.050*\"정부\" + 0.029*\"감독\" + 0.026*\"지지\" + 0.018*\"시위\" + 0.013*\"영상\" + 0.013*\"기사\" + 0.013*\"트럼프\"')\n",
      "(14, '0.012*\"프로이트\" + 0.011*\"엮음\" + 0.010*\"라캉\" + 0.009*\"거울\" + 0.009*\"연재\" + 0.009*\"무의식\" + 0.008*\"표시\" + 0.008*\"동아일보\"')\n",
      "(15, '0.020*\"작품\" + 0.018*\"작가\" + 0.014*\"소설\" + 0.011*\"아이\" + 0.011*\"사랑\" + 0.009*\"문학\" + 0.009*\"성\" + 0.008*\"어머니\"')\n",
      "(16, '0.007*\"법정\" + 0.004*\"캐치프레이즈\" + 0.003*\"교내\" + 0.002*\"이승\" + 0.002*\"엘리스\" + 0.002*\"상대로\" + 0.002*\"역은\" + 0.001*\"누에\"')\n",
      "(17, '0.122*\"여성\" + 0.041*\"페미니즘\" + 0.037*\"남성\" + 0.017*\"사회\" + 0.013*\"운동\" + 0.012*\"주장\" + 0.011*\"페미니스트\" + 0.010*\"정치\"')\n",
      "(18, '0.024*\"서울시\" + 0.024*\"방안\" + 0.019*\"할머니\" + 0.014*\"위원장\" + 0.011*\"촉진\" + 0.009*\"아쉬움\" + 0.008*\"공항\" + 0.008*\"요인\"')\n",
      "(19, '0.010*\"전일\" + 0.003*\"예술의전당\" + 0.003*\"한국화\" + 0.002*\"그릇\" + 0.002*\"황주리\" + 0.001*\"갤러리\" + 0.001*\"과천\" + 0.001*\"이응노\"')\n",
      "(20, '0.012*\"결심\" + 0.007*\"주한\" + 0.004*\"르노\" + 0.004*\"개그우먼\" + 0.004*\"눈빛\" + 0.003*\"아니에\" + 0.003*\"압력\" + 0.003*\"열정\"')\n"
     ]
    }
   ],
   "source": [
    "# 빈도상 너무 많이 나오는 남성, 여성을 삭제해야 하는가? \n",
    "\n",
    "merge9099_lda = Lda(merge9099_corpus, num_topics = 21, id2word= merge9099_dic, passes = 100 , iterations = 300,  chunksize = 150, random_state = 0, alpha = 'auto')\n",
    "merge9099_topic = merge9099_lda.print_topics(num_topics = 21, num_words = 8)\n",
    "\n",
    "for topic in merge9099_topic:\n",
    "    print(topic)\n"
   ]
  },
  {
   "cell_type": "markdown",
   "id": "208fcadb",
   "metadata": {},
   "source": [
    "# visualization"
   ]
  },
  {
   "cell_type": "code",
   "execution_count": 76,
   "id": "39f80acf",
   "metadata": {},
   "outputs": [],
   "source": [
    "'''\n",
    "위키독스 그대로 돌리면 안됨, 아래 위키독스(https://wikidocs.net/30708) 코드\n",
    "\n",
    "import pyLDAvis.gensim\n",
    "pyLDAvis.enable_notebook()\n",
    "vis = pyLDAvis.gensim.prepare(ldamodel, corpus, dictionary)\n",
    "pyLDAvis.display(vis)\n",
    "\n",
    "'''\n",
    "\n",
    "import pyLDAvis\n",
    "import pyLDAvis.gensim_models\n",
    "\n"
   ]
  },
  {
   "cell_type": "code",
   "execution_count": 78,
   "id": "e7ace705",
   "metadata": {},
   "outputs": [
    {
     "name": "stderr",
     "output_type": "stream",
     "text": [
      "C:\\Users\\Hyejin\\anaconda3\\lib\\site-packages\\pyLDAvis\\_prepare.py:246: FutureWarning: In a future version of pandas all arguments of DataFrame.drop except for the argument 'labels' will be keyword-only\n",
      "  default_term_info = default_term_info.sort_values(\n"
     ]
    }
   ],
   "source": [
    "'''\n",
    "I was able to control the problem based on how many topics (num_topics) I used when creating the LDA model - gensim.models.ldamodel.LdaModel. \\\\\\\n",
    "If I set the number of topics to 10 or more the problem occurred; 9 or fewer and it did not. Maybe this is based on the corpus I used.\n",
    "\n",
    "Object of type complex is not JSON serializable ldavis 로 구글에 검색했을때 찾은 답변\n",
    "그래서 앞에 모델로 돌아가서 토픽 개수를 수정해봄; 13개 부터 에러 메시지 \"TypeError: Object of type complex is not JSON serializable \" 나옴\n",
    "\n",
    "\n",
    "'''\n",
    "\n",
    "pyLDAvis.enable_notebook()\n",
    "vis_merge9099 = pyLDAvis.gensim_models.prepare(merge9099_lda, merge9099_corpus, merge9099_dic)\n",
    "# mds='mmds', 다른 코드는 이 옵션 안넣어도 돌아가는데 왜 이건 꼭 넣어야 할까... 그리고 그래프 모양이 달라짐\n",
    "#  sort_topics=False 넣으면 12개도 에러뜸 ㅅㅂ\n"
   ]
  },
  {
   "cell_type": "code",
   "execution_count": 79,
   "id": "15ab6692",
   "metadata": {},
   "outputs": [
    {
     "data": {
      "text/html": [
       "\n",
       "<link rel=\"stylesheet\" type=\"text/css\" href=\"https://cdn.jsdelivr.net/gh/bmabey/pyLDAvis@3.3.1/pyLDAvis/js/ldavis.v1.0.0.css\">\n",
       "\n",
       "\n",
       "<div id=\"ldavis_el2036024262862757127453999385\"></div>\n",
       "<script type=\"text/javascript\">\n",
       "\n",
       "var ldavis_el2036024262862757127453999385_data = {\"mdsDat\": {\"x\": [-0.37982412277617617, -0.3986774140827914, -0.23269637746448874, -0.14275495161613194, -0.07890677259926497, -0.013393769382187766, 0.010675858111231406, 0.0505590446540768, 0.06850690481296744, 0.0859498966065627, 0.09555861794831326, 0.09454453526155174, 0.09696135674219873, 0.08183866309863269, 0.09633410185061934, 0.09489307965669863, 0.0950510727870214, 0.09472226008696151, 0.09437462654686843, 0.09371717391459315, 0.09256621584274444], \"y\": [-0.09467108759910425, -0.14147664190078946, 0.34451388201422134, 0.005011139960475753, -0.05528492880588875, 0.09494660949466291, 0.016610688755749645, -0.02150317615907565, -0.007599916975504916, -0.020657689142660595, -0.01819077620960426, -0.018933687678089728, -0.020837073870914203, -0.004036116095271493, -0.012925867850523748, -0.008324224594931054, -0.00714365386107092, -0.008564424972933188, -0.007572222059423596, -0.0071524497712949055, -0.006208382678029196], \"topics\": [1, 2, 3, 4, 5, 6, 7, 8, 9, 10, 11, 12, 13, 14, 15, 16, 17, 18, 19, 20, 21], \"cluster\": [1, 1, 1, 1, 1, 1, 1, 1, 1, 1, 1, 1, 1, 1, 1, 1, 1, 1, 1, 1, 1], \"Freq\": [32.573101118581526, 28.61737405293619, 13.8600151243777, 5.275192212589072, 4.401619080734716, 3.7841799805164973, 3.610798611146978, 1.8026186082906095, 1.4098122604376633, 1.2072275316289498, 0.8542080434852547, 0.7568479758432768, 0.7430395777610109, 0.46833564065882705, 0.28101859110835853, 0.10531393174409535, 0.0801482625569908, 0.08014449905313291, 0.04921036015261374, 0.03792189503054583, 0.0018726413659980476]}, \"tinfo\": {\"Term\": [\"\\uc5ec\\uc131\", \"\\ub0a8\\uc131\", \"\\ud398\\ubbf8\\ub2c8\\uc998\", \"\\uc5ec\\uc790\", \"\\uc601\\ud654\", \"\\ud55c\\uad6d\", \"\\ub0a8\\uc790\", \"\\uc77c\\ubcf8\", \"\\uc815\\ubd80\", \"\\ud3ed\\ub825\", \"\\uc9c0\\uc5ed\", \"\\uc0ac\\ud68c\", \"\\uad50\\uc218\", \"\\uc0dd\\uac01\", \"\\uc5ec\\uc131\\ud559\", \"\\uc791\\ud488\", \"\\uc138\\ub300\", \"\\uc138\\uae30\", \"\\uc791\\uac00\", \"\\ud398\\ubbf8\\ub2c8\\uc2a4\\ud2b8\", \"\\uc0ac\\ub78c\", \"\\ubbf8\\uc220\", \"\\uc18c\\uc124\", \"\\uac10\\ub3c5\", \"\\uc0ac\\uac74\", \"\\ub300\\ud1b5\\ub839\", \"\\uc138\\uacc4\", \"\\uc6b4\\ub3d9\", \"\\ubaa8\\ub378\", \"\\uc9c0\\uc9c0\", \"\\ud55c\\uad6d\", \"\\uc0ac\\uac74\", \"\\uad6d\\uac00\", \"\\uad50\\uc721\", \"\\ud53c\\ud574\\uc790\", \"\\ub300\\ud559\", \"\\uacbd\\uc81c\", \"\\uc911\\uc694\", \"\\uc815\\ucc45\", \"\\uc778\\uad8c\", \"\\uccad\\ub144\", \"\\uc131\\ud3ed\\ub825\", \"\\ub098\\ub77c\", \"\\ubaa9\\uc18c\\ub9ac\", \"\\uc11c\\uc6b8\", \"\\uc774\\ub984\", \"\\uad8c\\ub9ac\", \"\\ub178\\ub3d9\", \"\\uc2dc\\uc7a5\", \"\\ub2e8\\uccb4\", \"\\uac00\\ub2a5\", \"\\uc778\\ud130\\ubdf0\", \"\\ud559\\uad50\", \"\\ub178\\ub825\", \"\\uae30\\ud68d\", \"\\uad6d\\ubbfc\", \"\\ud589\\ub3d9\", \"\\uace0\\ubbfc\", \"\\uc720\\uad50\", \"\\ud655\\ub300\", \"\\uad50\\uc218\", \"\\uc0dd\\uac01\", \"\\uc9c8\\ubb38\", \"\\ud65c\\ub3d9\", \"\\uc0ac\\ub78c\", \"\\ubbf8\\uad6d\", \"\\ud3c9\\ud654\", \"\\uc138\\uc0c1\", \"\\uc0ac\\ud68c\", \"\\ucc38\\uc5ec\", \"\\uc2dc\\uc791\", \"\\uad00\\uc2ec\", \"\\uc774\\uc57c\\uae30\", \"\\uc138\\uacc4\", \"\\uc0c1\\ud669\", \"\\ud398\\ubbf8\\ub2c8\\uc998\", \"\\ub0a8\\uc131\", \"\\ud398\\ubbf8\\ub2c8\\uc2a4\\ud2b8\", \"\\uc790\\uc720\", \"\\ud610\\uc624\", \"\\uc5b8\\uc5b4\", \"\\uacfc\\ud559\", \"\\ud3c9\\ub4f1\", \"\\ucc28\\uc774\", \"\\ud3ec\\ub974\\ub178\", \"\\uc5b5\\uc555\", \"\\uac00\\ubd80\\uc7a5\\uc81c\", \"\\uc5ec\\uc131\\uc6b4\\ub3d9\", \"\\uc8fc\\uc758\", \"\\uad8c\\ub825\", \"\\uc2dc\\ubbfc\", \"\\ub17c\\ub780\", \"\\uacf5\\uaca9\", \"\\ub17c\\uc7c1\", \"\\uc131\\ucc28\\ubcc4\", \"\\uc9d1\\ub2e8\", \"\\ud574\\ubc29\", \"\\uc81c\\ub3c4\", \"\\ubd88\\ud3c9\\ub4f1\", \"\\uc5ec\\uc131\", \"\\uc9c0\\uc740\\uc774\", \"\\uc758\\uc6d0\", \"\\ud574\\uc11d\", \"\\uc815\\uccb4\\uc131\", \"\\uc9c0\\uc704\", \"\\uac15\\uac04\", \"\\uc11c\\uad6c\", \"\\ud398\\ubbf8\\ub2c8\\uc998\", \"\\uc774\\ub860\", \"\\ub0a8\\ub140\", \"\\ube44\\ud310\", \"\\ud45c\\ud604\", \"\\uc6b4\\ub3d9\", \"\\uc8fc\\uc7a5\", \"\\ucc28\\ubcc4\", \"\\uc815\\uce58\", \"\\uc874\\uc7ac\", \"\\uc0ac\\ud68c\", \"\\uc774\\ud574\", \"\\ubb38\\ud654\", \"\\ud604\\uc2e4\", \"\\uc138\\uacc4\", \"\\uc138\\uae30\", \"\\ub0a8\\uc790\", \"\\ub144\\ub300\", \"\\uc18c\\uc124\", \"\\uc544\\uc774\", \"\\uc0ac\\ub791\", \"\\uc5b4\\uba38\\ub2c8\", \"\\ub0a8\\ud3b8\", \"\\uc120\\ud0dd\", \"\\ubc30\\uc81c\", \"\\uccad\\uc18c\\ub144\", \"\\uc0dd\\ubb3c\\ud559\", \"\\uc2e0\\uccb4\", \"\\uacc4\\uc57d\", \"\\uc544\\ub0b4\", \"\\ud76c\\uc0dd\", \"\\uc815\\uccb4\", \"\\uc57d\\uc790\", \"\\ub3c4\\uc2dc\", \"\\uadf8\\ub9bc\", \"\\uc874\\uc911\", \"\\uc8fc\\ubd80\", \"\\ub290\\ub08c\", \"\\uc5c4\\ub9c8\", \"\\uc5ec\\uc131\\uc0c1\", \"\\ud654\\uc81c\", \"\\uc81c\\uc791\", \"\\uc778\\uc0dd\", \"\\ub178\\ucd9c\", \"\\ub2e4\\uc218\", \"\\ucd9c\\ud310\\uc0ac\", \"\\ub2e4\\ub978\", \"\\ubd88\\ub9cc\", \"\\ubb38\\ud559\", \"\\uc791\\ud488\", \"\\uc791\\uac00\", \"\\uc131\", \"\\uc8fc\\uc778\\uacf5\", \"\\uc2dc\\uc778\", \"\\ub3c5\\uc790\", \"\\ubb38\\uc81c\", \"\\uc0b6\", \"\\uacb0\\ud63c\", \"\\uc544\\ubc84\\uc9c0\", \"\\ubaa8\\uc2b5\", \"\\ub144\\ub300\", \"\\uc774\\uc57c\\uae30\", \"\\ud604\\ub300\", \"\\uc0dd\\ud65c\", \"\\uc0ac\\ub78c\", \"\\uc5ec\\uc790\", \"\\uc8fc\\uc81c\", \"\\uc778\\uac04\", \"\\ubbf8\\uc220\", \"\\ubb38\\uba85\", \"\\ubbfc\\uc871\\uc8fc\\uc758\", \"\\ub9e4\\uccb4\", \"\\ud601\\uba85\", \"\\uc870\\uac74\", \"\\ud574\\uccb4\", \"\\ub514\\uc9c0\\ud138\", \"\\uc758\\ub3c4\", \"\\ud3ec\\uc2a4\\ud2b8\\ubaa8\\ub354\\ub2c8\\uc998\", \"\\ubbf8\\ub514\\uc5b4\", \"\\ubbfc\\uc911\", \"\\uc720\\uc77c\", \"\\ubcf4\\ud3b8\", \"\\uad6c\\ucd95\", \"\\uad6d\\uc801\", \"\\ub300\\ud56d\", \"\\uc778\\ubb38\\ud559\", \"\\uc0dd\\uba85\", \"\\ub124\\ud2b8\\uc6cc\\ud06c\", \"\\uc774\\uc6a9\\uc790\", \"\\uc870\\uc791\", \"\\ubcc0\\ud601\", \"\\uad6c\\uc18d\", \"\\uc885\\ub958\", \"\\ud3ed\\ud589\", \"\\ud0c0\\uc774\", \"\\ube44\\uba85\", \"\\uc131\\ub9bd\", \"\\ubcc0\\ud615\", \"\\uc0ac\\ud0dc\", \"\\ud2b9\\uc815\", \"\\ucc98\\ub9ac\", \"\\uc800\\ud56d\", \"\\uac00\\ub2a5\\uc131\", \"\\uc608\\uc220\", \"\\uc18c\\ube44\", \"\\uc815\\ubcf4\", \"\\uc138\\uae30\", \"\\uc774\\ubbf8\\uc9c0\", \"\\uc2dc\\ub300\", \"\\uac1c\\ub150\", \"\\uc778\\uac04\", \"\\uc804\\ub7b5\", \"\\ud30c\\uad34\", \"\\uc8fc\\uccb4\", \"\\uc5ed\\uc0ac\", \"\\uc804\\uc7c1\", \"\\uc758\\ubbf8\", \"\\uc138\\uacc4\", \"\\uc9c0\\uc5ed\", \"\\uc778\\ud130\\ub137\", \"\\ub178\\ub3d9\\uc790\", \"\\ud53c\\ud574\", \"\\ubc31\\uc778\", \"\\ub0b4\\ubd80\", \"\\uc548\\uc804\", \"\\ubd80\\uc0b0\", \"\\uae30\\uc5b5\", \"\\ud76c\\ub9dd\", \"\\ub0a8\\uc131\\uc131\", \"\\uc77c\\uc81c\", \"\\uc0b0\\uc5c5\", \"\\ub9c8\\uc744\", \"\\uc704\\uacc4\", \"\\uc9c0\\uc810\", \"\\ud68d\\ub4dd\", \"\\ub450\\ub824\\uc6c0\", \"\\uac04\\uc8fc\", \"\\uad00\\ub9ac\", \"\\ub300\\ud55c\\ubbfc\\uad6d\", \"\\ucd1b\\ubd88\", \"\\uc0dd\\ud0dc\", \"\\uc624\\ube60\", \"\\uc120\\uc0dd\", \"\\ub300\\uad6c\", \"\\ubcd1\\uc6d0\", \"\\uba85\\uc81c\", \"\\ub9c8\\ub974\\ud06c\\uc2a4\", \"\\ub2e8\\uc808\", \"\\uac70\\ub300\", \"\\uc131\\ucc30\", \"\\uacf5\\ub3d9\\uccb4\", \"\\ub2e8\\uc5b4\", \"\\uc9c4\\ud589\", \"\\ud3ed\\ub825\", \"\\uc704\\uce58\", \"\\uc870\\uc120\", \"\\uacfc\\uac70\", \"\\uc874\\uc7ac\", \"\\uc544\\ubc84\\uc9c0\", \"\\uc138\\uacc4\", \"\\uc704\\uae30\", \"\\ub4dc\\ub77c\\ub9c8\", \"\\ud68c\\uc0ac\", \"\\uc0b4\\uc778\", \"\\uac15\\ub0a8\\uc5ed\", \"\\uc2a4\\ud0c0\", \"\\ucd2c\\uc601\", \"\\ucc29\\ucde8\", \"\\uc5ec\\ud559\\uc0dd\", \"\\uc5f0\\uc560\", \"\\uc601\\ud5a5\\ub825\", \"\\uc0c1\\ud488\", \"\\ubb34\\uae30\", \"\\uac00\\ud574\", \"\\uc6d0\\ub798\", \"\\ub3d9\\ub8cc\", \"\\uc608\\uc678\", \"\\ub355\\ubd84\", \"\\uc0b4\\ud574\", \"\\uacf5\\uc2dd\", \"\\uc790\\ub9e4\", \"\\ud3c9\\uade0\", \"\\ud1b5\\uc81c\", \"\\uce74\\uba54\\ub77c\", \"\\uc601\\ud63c\", \"\\uc608\\uc0c1\", \"\\uc624\\ud574\", \"\\uae00\\ub85c\\ub9ac\\uc544\", \"\\uc5f0\\uae30\\uc790\", \"\\ucd95\\uc801\", \"\\uc18c\\uc18d\", \"\\uc790\\ubcf8\", \"\\ubaa8\\ub378\", \"\\ubc29\\uc1a1\", \"\\uad11\\uace0\", \"\\uc5bc\\ub9c8\", \"\\uc5ec\\uc790\", \"\\ub0a8\\uc790\", \"\\uc704\\ud611\", \"\\uc5f0\\uae30\", \"\\ubd80\\uc871\", \"\\uadf8\\uac04\", \"\\uac15\\uc694\", \"\\uc9c0\\uc9c0\", \"\\uc2dc\\uc704\", \"\\uae30\\uc0ac\", \"\\ud2b8\\ub7fc\\ud504\", \"\\ubbfc\\uc8fc\\ub2f9\", \"\\ubc30\\uc6b0\", \"\\uc5f0\\uadf9\", \"\\ud560\\ub9ac\\uc6b0\\ub4dc\", \"\\uacf5\\uc5f0\", \"\\uac10\\ub3c5\", \"\\uc5f0\\ucd9c\", \"\\uac1c\\ubd09\", \"\\uc790\\ub140\", \"\\uad6c\\ub3c4\", \"\\ucd09\\uad6c\", \"\\uc0c1\\uc601\", \"\\uc608\\uc0b0\", \"\\uc21c\\uc218\", \"\\uc885\\uc18d\", \"\\uadf9\\uc7a5\", \"\\uad50\\uc0ac\", \"\\uc5ec\\uc131\\uc601\\ud654\", \"\\ucd95\\uc18c\", \"\\uc601\\ud654\\uc81c\", \"\\ub2e4\\ud050\\uba58\\ud130\\ub9ac\", \"\\ud074\\ub7fd\", \"\\uc2dc\\ud589\", \"\\ub2ec\\ub7ec\", \"\\uae34\\uc7a5\", \"\\uad00\\uac1d\", \"\\uc601\\ud654\", \"\\uc601\\uc0c1\", \"\\ub3d9\\ub4f1\", \"\\uc815\\ubd80\", \"\\ub300\\ud559\\uc0dd\", \"\\ucd94\\uc9c4\", \"\\ubb34\\ub300\", \"\\ucd9c\\uc5f0\", \"\\uc77c\\ubcf8\", \"\\ubbfc\\uc871\", \"\\ube48\\uace4\", \"\\ud55c\\uad6d\\uc778\", \"\\ud55c\\ubc18\\ub3c4\", \"\\ud3ec\\ub7fc\", \"\\uad11\\uc7a5\", \"\\ucd08\\uccad\", \"\\ub300\\ub9cc\", \"\\uc9d1\\uad8c\", \"\\uad50\\ud68c\", \"\\uc99d\\uc5b8\", \"\\uc9c0\\ubc29\", \"\\ubb38\\uc778\", \"\\uc2dc\\uc9d1\", \"\\uc911\\uac04\", \"\\uc124\\ubb38\\uc870\\uc0ac\", \"\\uc11c\\ud3c9\", \"\\uacbd\\ub0a8\", \"\\uc5b4\\ub978\", \"\\ud14c\\uc774\\ube14\", \"\\uc758\\uc0ac\\uc18c\\ud1b5\", \"\\ubc15\\uc218\", \"\\uadf8\\ub9bc\\uc790\", \"\\ub180\\uc774\", \"\\ub0a8\\ubd81\\ud55c\", \"\\uc0ac\\ud68c\\uc790\", \"\\uc885\\uacb0\", \"\\uadfc\\ub300\\uc0ac\", \"\\ubb38\\ud559\\uc0c1\", \"\\ubc1c\\uad74\", \"\\ubcf4\\ud638\", \"\\uc544\\uc2dc\\uc544\", \"\\ud1a0\\ub860\\ud68c\", \"\\ud64d\\ucf69\", \"\\uc0ac\\uad00\", \"\\uc815\\ubd80\", \"\\uc911\\uad6d\", \"\\ucd94\\uc9c4\", \"\\ubd80\\uc871\", \"\\uc774\\ub150\", \"\\uc9c0\\ubaa9\", \"\\uc18c\\uc124\\uac00\", \"\\ud398\\uc774\\uc9c0\", \"\\ubcf4\\ubd80\\uc544\\ub974\", \"\\ubc18\\ubc1c\", \"\\uc77c\\ubcf8\\uad70\", \"\\ud544\\uc790\", \"\\uc774\\ub860\\uac00\", \"\\uc9c0\\uc74c\", \"\\uc81c\\uad6d\\uc8fc\\uc758\", \"\\uc9c4\\uc804\", \"\\uce68\\ub7b5\", \"\\uc720\\ud559\", \"\\uc0ac\\ub974\\ud2b8\\ub974\", \"\\ud398\\ubbf8\\ub2c8\\uc998\\uc774\\ub860\", \"\\uc18c\\uc720\\uc790\", \"\\uc5ed\\uc0ac\\ud559\", \"\\ub178\\ub144\", \"\\uc62e\\uae40\", \"\\uc2e0\\ube44\", \"\\ud6a1\\ud3ec\", \"\\uc5d8\\ub9ac\\uc544\\ub370\", \"\\uba85\\uae30\", \"\\ud574\\uccb4\\uc8fc\\uc758\", \"\\uc218\\uc11d\", \"\\uc218\\ub9ce\\uc740\", \"\\ud55c\\ud0c4\", \"\\uc0ac\\ud6c4\", \"\\uc0ac\\ud68c\\uc0c1\", \"\\uc815\\uc2e0\\ubd84\\uc11d\", \"\\uae09\\uc18d\\ub3c4\", \"\\ud06c\\ub9ac\\uc2a4\\ud14c\\ubc14\", \"\\uc81c\\uc758\\uc131\", \"\\uc2dc\\ubaac\", \"\\uad11\\uae30\", \"\\ucca0\\ud559\", \"\\uc2e0\\ud654\", \"\\ubd84\\uc11d\", \"\\uc5f0\\uad6c\", \"\\uc218\\uce58\", \"\\uc9c4\\uc2e4\", \"\\uc800\\uc11c\", \"\\uc0c1\\uc9d5\", \"\\uc138\\ub300\", \"\\uc218\\uc815\", \"\\ud654\\uc7a5\\uc2e4\", \"\\uae30\\ubd84\", \"\\uc774\\uc775\", \"\\uc77c\\ubcf8\\uc778\", \"\\uac10\\uc5fc\", \"\\uac80\\uc99d\", \"\\uc2e0\\uacbd\", \"\\ubd09\\uc0ac\", \"\\uc591\\uc2ec\", \"\\uacf5\\uc801\", \"\\uc804\\uc5fc\\ubcd1\", \"\\ucde8\\ud5a5\", \"\\uc720\\ubc1c\", \"\\uc9c4\\ud589\\uc790\", \"\\uc21c\\uc704\", \"\\uc911\\ud559\\uad50\", \"\\uace0\\uad50\", \"\\ud328\\ud134\", \"\\ud3ec\\uc778\\ud2b8\", \"\\uacf5\\uc0b0\\uc8fc\\uc758\", \"\\uc5d0\\ub108\\uc9c0\", \"\\uac70\\uc808\", \"\\ud3b8\\uc131\", \"\\ub4b7\\uace8\\ubaa9\", \"\\uc9c0\\ud0f1\", \"\\uc624\\ub77d\", \"\\uc774\\uc591\", \"\\uc778\\uc5f0\", \"\\uc2dc\\uccad\\uc790\", \"\\uc74c\\uc2dd\", \"\\ubcf4\\ub3c4\", \"\\ucca0\\uac70\", \"\\uac1c\\ud3b8\", \"\\ud504\\ub85c\", \"\\uc5ed\\uc0ac\\ud559\\uc790\", \"\\ud504\\ub85c\\uadf8\\ub7a8\", \"\\ud658\\uc790\", \"\\ub300\\ud1b5\\ub839\", \"\\uac80\\uc0ac\", \"\\uc2e0\\uc740\\uacbd\", \"\\uac80\\ucc30\", \"\\uc740\\ud3d0\", \"\\uc120\\uc0dd\\ub2d8\", \"\\uc7a5\\ubbf8\", \"\\uc790\\ub791\", \"\\ud0d0\\uc0c9\", \"\\uc885\\ud569\\ubcd1\\uc6d0\", \"\\uc7ac\\ub2a5\", \"\\ud654\\uc7a5\\ud488\", \"\\uc804\\ubb38\\uc9c1\", \"\\uccad\\ucd98\", \"\\uc5b8\\ub860\\uc0ac\", \"\\ud1b5\\ubcf4\", \"\\ud638\\ub791\\uc774\", \"\\ubca0\\ub2c8\\uc2a4\\ube44\\uc5d4\\ub0a0\\ub808\", \"\\ucc28\\uc778\\ud45c\", \"\\ucd94\\uc0c1\\ud654\", \"\\uc218\\uc6d0\", \"\\uc5d0\\ud53c\\uc18c\\ub4dc\", \"\\ubc15\\uc18c\\ud604\", \"\\ub2e8\\uace8\", \"\\uc774\\uc2b9\\uc5f0\", \"\\ucd9c\\uc785\", \"\\ud574\\uad70\", \"\\uc815\\uc0ac\", \"\\uace0\\uc0dd\", \"\\ud64d\\ub9ac\\ub098\", \"\\ud0e4\\ub7f0\\ud2b8\", \"\\ubcf8\\ub2a5\", \"\\uc790\\uc2e0\\uac10\", \"\\ubc30\\uce58\", \"\\ud0dc\\ud3c9\\uc591\", \"\\ub2e8\\ud3b8\", \"\\uc790\\uadf9\", \"\\ubcc0\\uc2e0\", \"\\uc120\\uac70\", \"\\ubc95\\ub960\", \"\\uc2dd\\ubbfc\\uc9c0\", \"\\ubcf5\\uc9c0\", \"\\ub3d9\\ucc38\", \"\\uc2dc\\ubbfc\\uc6b4\\ub3d9\", \"\\ud6c4\\ubcf4\", \"\\ud569\\ubc95\", \"\\uc2dc\\ubbfc\\uc0ac\\ud68c\", \"\\ub3c5\\uc7ac\", \"\\ub2e4\\ubb38\\ud654\", \"\\ud1a0\\ud06c\\uc1fc\", \"\\ucee4\\ud53c\", \"\\ud559\\uc0dd\\uc6b4\\ub3d9\", \"\\uac10\\uc2dc\", \"\\ubaa8\\ub2c8\\ud130\\ub9c1\", \"\\uc778\\ud504\\ub77c\", \"\\ubb38\\ud559\\uc0ac\", \"\\ubcf5\\uadc0\", \"\\ud574\\ud504\\ub2dd\", \"\\ud559\\uc0dd\\ud68c\\uc7a5\", \"\\ub178\\uc120\", \"\\uc11c\\uae30\", \"\\uc138\\uacc4\\uc0ac\", \"\\uc0ac\\ud45c\", \"\\uc2ec\\ubd80\\ub984\", \"\\uc785\\uc0ac\", \"\\uc88c\\uc775\", \"\\ub179\\uc0c9\", \"\\uc218\\uc694\", \"\\ub2f9\\uc120\", \"\\ubcf4\\ud638\", \"\\uc9c4\\ubcf4\", \"\\uc11c\\uc6b8\\uc2dc\", \"\\ubc29\\uc548\", \"\\ud560\\uba38\\ub2c8\", \"\\ucd09\\uc9c4\", \"\\uc544\\uc26c\\uc6c0\", \"\\uacf5\\ud56d\", \"\\uc694\\uc778\", \"\\uc9d1\\ud589\", \"\\ud50c\\ub7ab\\ud3fc\", \"\\uc790\\uad81\", \"\\ubcf4\\uc870\", \"\\uacf5\\uc0ac\", \"\\uc18c\\uc6a9\\ub3cc\\uc774\", \"\\uc138\\uc885\\ub300\", \"\\uc0ac\\uc9c4\\uc791\\uac00\", \"\\ub7ec\\ube0c\", \"\\uc0c1\\uc6d0\\uc758\\uc6d0\", \"\\uc5d0\\ub85c\\ud2f1\", \"\\uad8c\\uc7a5\", \"\\uad6c\\uc11d\", \"\\uc5ec\\uc131\\uac74\\uac15\", \"\\uad6d\\uc7a5\", \"\\uac1c\\ub9c9\\uc2dd\", \"\\ud560\\uc544\\ubc84\\uc9c0\", \"\\uac74\\uad6d\\ub300\", \"\\ub3d9\\uc22d\\uc544\\ud2b8\\uc13c\\ud130\", \"\\uc218\\uc6d0\\ub300\", \"\\uad11\\ucc44\", \"\\uc0b0\\ubd80\\uc778\\uacfc\", \"\\ucd9c\\uc5f0\\uc790\", \"\\uc5f0\\uc218\", \"\\ubc30\\uce58\", \"\\uc704\\uc6d0\\uc7a5\", \"\\ub300\\uc804\", \"\\uc790\\uc2e0\\uac10\", \"\\ubc29\\uc740\\uc9c4\", \"\\uac1c\\ub9c9\", \"\\ucd94\\uc9c4\", \"\\ubc95\\ub300\", \"\\ubbf8\\uc988\", \"\\uc5ec\\uc131\\uc5f0\\uad6c\", \"\\uc870\\ud615\", \"\\uc5f0\\uad6c\\ubaa8\\uc784\", \"\\uc545\\uc601\\ud5a5\", \"\\ubc15\\uc0ac\\uacfc\\uc815\", \"\\ubcc4\\uac1c\", \"\\ud6a8\\uc131\", \"\\ud6a8\\uc131\\uc5ec\\ub300\", \"\\ud55c\\uad6d\\uc5ec\\uc131\\ud559\\ud68c\", \"\\uc815\\ub144\", \"\\uc11d\\uc0ac\\uacfc\\uc815\", \"\\uace0\\ub4f1\\uad50\\uc721\", \"\\uccb4\\ub974\\ub178\\ube4c\", \"\\ud1f4\\uc784\", \"\\ud55c\\uad6d\\uc5ec\\uc131\\uc5f0\\uad6c\\uc18c\", \"\\uc2dd\\ub7c9\", \"\\uc131\\uc2e0\\uc5ec\\ub300\", \"\\uc0ac\\ud559\\uacfc\", \"\\uc870\\uc625\\ub77c\", \"\\uc815\\uc138\\ud654\", \"\\uc870\\ud61c\\uc815\", \"\\uc7a5\\ud544\\ud654\", \"\\uc219\\ub300\", \"\\ubd07\\ubb3c\", \"\\ub110\\ub9ac\", \"\\uc878\\uc5c5\\uc0dd\", \"\\ubb34\\ud06c\\uc9c0\", \"\\uc808\\uac10\", \"\\uc5f0\\uad6c\", \"\\ubc1c\\uc871\", \"\\uc5ec\\ub300\", \"\\uc5ec\\uc131\\ud559\", \"\\uc774\\ub300\", \"\\uc5f0\\uad6c\\ud68c\", \"\\uac15\\uc0ac\", \"\\uc0ac\\ud68c\\ud559\", \"\\uac1c\\uc124\", \"\\uacc4\\uba85\\ub300\", \"\\ud68c\\uc7a5\", \"\\uc5f0\\uad6c\\uc18c\", \"\\uc8fc\\ucd95\", \"\\uc5ec\\uc131\\ubb38\\uc81c\", \"\\uac15\\uc758\", \"\\ud559\\ubb38\", \"\\ubb38\\uc81c\", \"\\ud604\\uc7ac\", \"\\ud559\\uc220\", \"\\uc774\\ud654\\uc5ec\\ub300\", \"\\ubd84\\uc11d\", \"\\uc131\", \"\\ud504\\ub85c\\uc774\\ud2b8\", \"\\uc5ee\\uc74c\", \"\\ub77c\\uce89\", \"\\uc5f0\\uc7ac\", \"\\ud45c\\uc2dc\", \"\\ub3d9\\uc544\\uc77c\\ubcf4\", \"\\ubb34\\uad00\\uc2ec\", \"\\ubb34\\ub825\\uac10\", \"\\uad34\\ub9ac\", \"\\uc815\\uc2e0\\ubb38\\ud654\\uc5f0\\uad6c\\uc6d0\", \"\\ud3ec\\ud654\", \"\\uadf8\\ubb3c\", \"\\uc790\\ud06c\\ub77c\\uce89\", \"\\uc774\\uc9d1\\ud2b8\", \"\\ud5c8\\uc0c1\", \"\\uc9c0\\uccb4\", \"\\uc774\\uc131\\uc911\\uc2ec\\uc8fc\\uc758\", \"\\ub370\\uce74\\ub974\\ud2b8\", \"\\uaecd\\uc9c8\", \"\\uc911\\uc131\\uc801\", \"\\uc0c1\\uc9d5\\uacc4\", \"\\ub78c\\uc138\\uc2a4\", \"\\uc5fc\\uc18c\", \"\\ubbf8\\ub85c\", \"\\uc0ac\\ub824\", \"\\uac15\\ub82c\\ud55c\", \"\\uc8fc\\ub3c4\\ud558\\uace0\", \"\\ubc24\\uc2dc\", \"\\ub09c\\ud574\\ud55c\", \"\\ud45c\\uc81c\", \"\\ubb34\\uc758\\uc2dd\", \"\\uac70\\uc6b8\", \"\\ub3c5\\ucc3d\", \"\\ub0a8\\uadfc\", \"\\uc815\\uc2e0\\ubd84\\uc11d\\ud559\", \"\\ucda9\\uc871\", \"\\uc695\\ub9dd\", \"\\uac8c\\uc784\", \"\\uba54\\uac08\", \"\\uc77c\\ub7ec\\uc2a4\\ud2b8\", \"\\uc528\", \"\\ucee4\\ubba4\\ub2c8\\ud2f0\", \"\\ud504\\ub9ac\\ub79c\\uc11c\", \"\\uac8c\\uc784\\uc5c5\\uacc4\", \"\\uc0ac\\ub0e5\", \"\\ubc15\\uc9c0\\uc740\", \"\\uad50\\uccb4\", \"\\uc18c\\ube44\\uc790\", \"\\ud314\\ub85c\\uc789\", \"\\uc678\\uc8fc\", \"\\uac8c\\uc784\\uc5c5\", \"\\ud2b8\\uc704\\ud130\", \"\\uc774\\uc6a9\\uc790\\ub4e4\", \"\\uc5c5\\uacc4\", \"\\ucc3d\\uc791\\ubb3c\", \"\\uc0ac\\uc774\\ubc84\\ubd88\\ub9c1\", \"\\ub514\\uc2dc\", \"\\uacf5\\uc9c0\", \"\\ubc25\\uc904\", \"\\uc791\\uac00\\ub4e4\", \"\\uc758\\ub8b0\", \"\\uacc4\\uc815\", \"\\ud1f4\\ucd9c\", \"rt\", \"\\uae40\\ud658\\ubbfc\", \"\\uc131\\uc0c1\\ubbfc\", \"\\uc544\\ub974\\ud2f0\", \"\\uac8c\\uc784\\ud68c\\uc0ac\", \"\\ub531\\uc9c0\", \"\\uc758\\ud639\", \"\\ub125\\uc2a8\", \"\\uba54\\uac08\\ub9ac\\uc544\", \"\\ubbf8\\ub7ec\\ub9c1\", \"sns\", \"\\uc790\\uccb4\", \"\\uc5ec\\uc131\\ud610\\uc624\", \"\\uc6d4\", \"\", \"\\ub0a8\\uc131\\ub4e4\", \"\\uc5ec\\uc131\\ub4e4\", \"\\ub144\", \"\\ubbf8\\ud22c\", \"\\uc804\\uc77c\", \"\\ud55c\\uad6d\\ud654\", \"\\uadf8\\ub987\", \"\\ud669\\uc8fc\\ub9ac\", \"\\uacfc\\ucc9c\", \"\\uae40\\uadfc\\uc911\", \"\\ub0a8\\uad00\", \"\\ubc31\\uc21c\\uc2e4\", \"\\ubc31\\uc545\\ubbf8\\uc220\\uad00\", \"\\uc774\\uc751\\ub178\", \"\\uc774\\uc885\\ud55c\", \"\\uc784\\uc885\\ub450\", \"\\uac15\\uc694\\ubc30\", \"\\uc11c\\uc591\\ud654\", \"\\uc2e0\\uc9c4\\uc791\\uac00\", \"\\uc778\\ubb3c\\uc0c1\", \"\\uc608\\uc220\\uc758\\uc804\\ub2f9\", \"\\uac15\\ub82c\\ud558\\uace0\", \"\\uac15\\uc0c1\\uc911\", \"\\uac15\\uc5f0\\uade0\", \"\\uac24\\ub7ec\\ub9ac\\ub098\\uc778\", \"\\uac24\\ub7ec\\ub9ac\\uc544\\ubbf8\", \"\\uac24\\ub7ec\\ub9ac\\uc608\\ub8e8\", \"\\uacfd\\ub0a8\\uc2e0\", \"\\uad00\\ud6c8\\ubbf8\\uc220\\uad00\", \"\\uad8c\\uc5ec\\ud604\", \"\\uad8c\\uc601\\uad6c\", \"\\uad8c\\uc601\\ud638\", \"\\uad8c\\uc624\\ubd09\", \"\\uadf8\\ub85c\\ub9ac\\uce58\\ud654\\ub791\", \"\\uac1c\\uc778\\uc804\", \"\\uac1c\\uad00\", \"\\uc218\\uc0c1\\uc791\", \"\\uac24\\ub7ec\\ub9ac\", \"\\uc2e0\\uc791\", \"\\uae30\\ub150\", \"\\uc911\\uacac\", \"\\uadf8\\ub8f9\\uc804\", \"\\uacb0\\uc2ec\", \"\\uc8fc\\ud55c\", \"\\ub974\\ub178\", \"\\uac1c\\uadf8\\uc6b0\\uba3c\", \"\\ub208\\ube5b\", \"\\uc544\\ub2c8\\uc5d0\", \"\\uc555\\ub825\", \"\\uc790\\ud3c9\", \"\\uc54c\\ub9ac\", \"\\ud68c\\uc0c9\", \"\\uc810\\ucc28\", \"\\uc911\\uc694\\ud558\\uac8c\", \"\\ub180\\ub77c\\uc6b4\", \"\\uc778\\uce6d\", \"\\ub2e4\\ub97c\", \"\\ub3c4\\uc0c1\", \"\\ub9ce\\uc558\\ub2e4\\uba70\", \"\\ubb38\\ud654\\uc6d0\", \"\\uce74\\ud504\\uce74\", \"\\ud398\\ub809\", \"\\ud3b8\\ube48\", \"\\ud50c\\ub85c\\ubca0\\ub974\", \"\\ud5e4\\ubc0d\\uc6e8\\uc774\", \"\\uc5ec\\uc790\\ub3c4\", \"\\uac1c\\uadf8\", \"\\uc870\\ud61c\\ub828\", \"\\ub2e8\\uc21c\\ud55c\", \"\\uc544\\ub984\\ub2e4\", \"\\uc678\\uad6d\\uc5b4\\ub300\", \"\\ubb34\\uac70\\uc6b4\", \"\\uc5f4\\uc815\", \"\\ub300\\uc0ac\\uad00\", \"\\uc790\\uc804\", \"\\uc77c\\uc790\", \"\\ubd81\\uacbd\", \"\\uad6d\\ubbfc\\ub300\", \"\\uc131\\uc528\", \"\\ucde8\\ub4dd\", \"\\uacbd\\ub300\", \"\\ucd5c\\uc528\", \"\\ud398\\uc2dc\\ubbf8\\uc998\", \"\\ubc15\\uc0ac\\ud559\\uc704\", \"\\ucd5c\\uc6b1\\uacbd\", \"\\ud574\\ub2f9\", \"\\uc2ec\\uc5f0\\uc625\", \"\\uac19\\ub2e4\\ub294\", \"\\uac15\\ub82c\\ud558\\uac8c\", \"\\ubc29\\uc801\", \"\\uc218\\uad50\", \"\\ud55c\\uc911\", \"\\uad6d\\ub9bd\\ud604\\ub300\\ubbf8\\uc220\\uad00\", \"\\uc758\\ud558\\uba74\", \"\\uc8fc\\uc7ac\", \"\\uc788\\uc5c8\\uc2b5\\ub2c8\\ub2e4\", \"\\uc5b4\\ub835\\ub2e4\\uace0\", \"\\uc9c0\\ub09c\\ud574\", \"\\uc6b0\\uc870\\uad50\", \"\\ub9f9\\ud65c\\uc57d\", \"\\ud328\\uc18c\", \"\\uacb0\\uc0b0\", \"\\ud56d\\uc18c\\uc2ec\", \"dtv\", \"\\uac00\\uc0b0\\uc810\\uc81c\\ub3c4\", \"\\uc5ec\\uc131\\uacc4\", \"\\uae09\", \"\\uc131\\ube44\", \"\\uc704\\uc548\\ubd80\", \"\", \"\\ub300\", \"\\uba85\", \"\\ub144\", \"\\ubc95\\uc815\", \"\\uce90\\uce58\\ud504\\ub808\\uc774\\uc988\", \"\\uad50\\ub0b4\", \"\\uc774\\uc2b9\", \"\\uc5d8\\ub9ac\\uc2a4\", \"\\uc0c1\\ub300\\ub85c\", \"\\uc5ed\\uc740\", \"\\ub204\\uc5d0\", \"\\uc6e8\\uc778\", \"\\uc2ec\\uac01\\ud55c\", \"\\uba38\\ub808\\uc774\", \"\\ucc44\\uc724\\uc77c\", \"\\ub300\\uac15\\ub2f9\", \"\\ubcc0\\uc7ac\\ub780\", \"\\uc815\\uc720\\uc131\", \"\\ud14c\\ub808\\uc0ac\\uc758\\ucd08\\uc0c1\", \"\\ud30c\\uc2a4\\ud1a0\\ub974\\ubca0\\uac00\", \"\\ub9c9\\uc6d4\\uc77c\", \"\\ucca8\\uc608\\ud55c\", \"\\ud761\\uc5f0\", \"\\ubc14\\uc6b0\\ub137\\uc800\\ud32c\", \"\\uc6b0\\uc775\\ub4e4\", \"\\uc57c\\uc694\\ub9ac\", \"\\uc5ec\\uc131\\ube44\\ud558\", \"\\uc77c\\ubcf8\\ub300\\uc0ac\\uad00\", \"\\ubc43\\uc9c0\", \"\\ud0dc\\ud48d\", \"kg\", \"\\uac00\\uc871\\uc911\\uc2ec\\uc801\", \"\\uace1\\uc808\", \"\\ubd80\\uc6d0\", \"\\ud398\\ubc0b\", \"\\ub9c8\\uc4f0\\uc774\", \"\\uc774\\ud504\", \"\\uc18c\\uc218\\uc790\\ub4e4\", \"\\uc5b8\\ub2c8\", \"\\uc704\\uc548\\ubd80\", \"\\ub3d9\\uc544\\ub9ac\", \"\\ud3b8\\uc9d1\\uc7a5\", \"\\uc5ec\\uc131\\ub4e4\", \"\", \"\\ub144\", \"\\ub9cc\", \"\\uac00\\ub2f9\", \"\\ub0a8\\uc131\\ud2b9\\uad8c\\uc8fc\\uc758\", \"\\ub530\\uc2a4\\ud568\\uc744\", \"\\ub9de\\uc120\", \"\\ubd84\\ub178\\ud558\\uae30\\ubcf4\\ub2e4\\ub294\", \"\\ubd88\\ud589\\ud558\\uc9c0\\ub9cc\", \"\\ubfd0\\uc784\\uc744\", \"\\uc0c1\\uc77c\", \"\\uc2a4\\ub7ec\", \"\\uc2a4\\ub7ec\\uc6cc\\ud55c\", \"\\uc774\\uc704\", \"\\uc788\\ub294\\uac00\\uc5d0\", \"\\ucf5c\\ub9b0\\uc2a4\", \"\\ud558\\ud37c\", \"\\ud589\\ubcf5\\ud55c\", \"\\ud798\\ub4e4\\ub2e4\\ub294\", \"\\uac04\\ud1b5\\uc8c4\", \"\\uac24\\ub7fd\", \"\\uadf8\\ub7ec\", \"\\ub2e4\\ub3c4\", \"\\uba54\\uac00\\ud1a4\", \"\\ubab0\\uac01\", \"\\ubcf8\\uc0ac\", \"\\ube44\\ubd84\", \"\\uc190\\ud574\\ubc30\\uc0c1\", \"\\uc1fc\\ube44\", \"\\uc2ec\\uac01\\ud558\\ub2e4\\uace0\", \"\\uc2ec\\uac01\\ud558\\ub2e4\\ub294\", \"\\uc5c4\\uc0b4\", \"\\uc6b0\\ub824\", \"\\uac15\\ub2f9\", \"\\uac15\\uc5f0\\ud68c\", \"\\uac15\\uc88c\", \"\\uad50\\uc218\", \"\\ubaa9\\uc694\\uc77c\", \"\\ubb38\\ud559\", \"\\ubbf8\\uad6d\", \"\\ubbf8\\ubb38\\ud654\\uc6d0\", \"\\ubc15\\ud76c\\uc9c4\", \"\\ube44\\ub514\\uc624\", \"\\ube4c\\ubaa8\\uc774\\uc5b4\", \"\\uc0ac\\ud68c\", \"\\uc0c1\\uc601\", \"\\uc11c\\uc6b8\", \"\\uc11c\\uc6b8\\ub300\", \"\\uc21c\\uc11c\", \"\\uc608\\uc220\", \"\\uc815\\uce58\", \"\\uc8fc\\uc81c\", \"\\uccab\\ub0a0\", \"\\ud398\\ubbf8\\ub2c8\\uc998\", \"\\ud574\\uc124\", \"\\ud604\\ub300\\uc0ac\\ud68c\", \"\\uac00\\ub2a5\", \"\\uac00\\uc138\", \"\\uac00\\uc57c\", \"\\uac00\\uc911\", \"\\uac04\\uacfc\", \"\\uac04\\uc8fc\", \"\\uac15\\ub09c\\uacbd\"], \"Freq\": [6615.0, 1998.0, 2663.0, 723.0, 554.0, 1535.0, 585.0, 319.0, 409.0, 553.0, 342.0, 2113.0, 937.0, 1146.0, 183.0, 565.0, 194.0, 427.0, 512.0, 618.0, 969.0, 240.0, 357.0, 203.0, 612.0, 135.0, 809.0, 939.0, 192.0, 179.0, 1534.5443619160158, 611.5735274496795, 507.0417872754406, 496.2292805695031, 418.61230319918656, 401.4734510330784, 385.68065052851614, 370.44153731721883, 349.1023293951242, 340.9381761837486, 337.79657773101746, 325.7170152908337, 320.9171609028075, 311.4470409513139, 303.0332159436166, 299.9414086897161, 279.4859587567577, 271.6384191604884, 258.5898037447873, 248.89563771459896, 248.6872533873478, 242.74397661559334, 233.92963166261535, 231.416865414783, 224.88957996991206, 221.21838812490273, 217.92647121681728, 216.8713215564904, 205.07295484012266, 198.59395740952888, 934.331187519845, 1098.0014720883485, 274.1702686941291, 500.5995104960833, 805.1832970967878, 855.6718017677982, 262.0902195084708, 349.88719215668067, 1190.2091604337807, 312.18079543805, 447.8270242662898, 296.0298075284435, 356.171792034393, 369.65174983674405, 292.7105183454402, 406.2399490400593, 1997.792428425202, 617.5142818009724, 422.47648777138346, 412.6487206411264, 391.70889977199187, 371.85049073920226, 357.2886854479559, 348.20105277828907, 292.34870981472767, 289.30641834435727, 287.8801571275878, 242.68763198771867, 226.78006135958896, 225.5439716590504, 224.24899419138268, 223.09231870734428, 222.3181244275772, 216.42585117487673, 217.6770590078564, 214.4184600152545, 211.1536729018864, 210.11478552958758, 183.9358274306597, 6590.3216499304835, 170.60308102794312, 166.43246371623167, 157.05959892718093, 151.02481023463838, 139.30215751438112, 137.4752783654035, 216.95362744234248, 2237.3628574643312, 305.4529611158988, 444.2290906327055, 490.3554937540657, 400.0235204451274, 720.917578565216, 632.4446072923223, 460.87624231225124, 561.1248552338334, 317.56364170965077, 922.7143097692916, 274.2498652513609, 377.39363826785916, 293.181741551699, 311.39345643164353, 264.82004962729076, 285.5147605421721, 260.95790762028037, 356.55859381415974, 288.79897795925876, 283.4652193740887, 221.35936325327987, 220.0132044567751, 215.18599455697324, 147.64876890128127, 146.4581029344305, 138.18104283525258, 134.56394312044202, 133.19273588252312, 123.15933657558985, 120.54126275786135, 113.08502643875934, 107.90966025963267, 103.55304673458953, 95.38450754586705, 91.91831981733904, 90.44186892127033, 88.71114466880351, 81.84242587827904, 80.33359840971127, 74.4271734876387, 74.20134156435408, 73.63091691676101, 72.8145521491158, 69.89484928832736, 69.44546977189682, 68.36256936366901, 68.05882046224036, 243.369730864616, 521.6735580684798, 461.26397850164625, 225.7792923182205, 124.66840770603908, 93.16835400160763, 98.76673548159081, 103.13510569241443, 98.17492341235254, 140.51190021020952, 129.6329210760439, 154.7750261174154, 195.71568022892197, 192.65063305584235, 116.32916509471242, 111.4539294380747, 163.8703759131021, 151.32872119841457, 129.61727798325416, 118.49004394116253, 239.5973483357738, 155.3997662646753, 137.17097956354567, 99.12520526074708, 97.29455692134287, 81.68277067055456, 79.20361739656207, 77.92212275384081, 71.12052291052109, 68.77909161529395, 60.890173944268554, 60.291488374006555, 59.719251952489635, 55.47878197865052, 55.34338774754822, 44.152263251846165, 42.69186589929276, 42.19024555180087, 41.56481870509903, 39.255280335024175, 38.62935269798845, 34.10572056744505, 32.54525325011823, 31.40471949401618, 30.743263564959985, 29.108901851700217, 28.188187230487568, 27.34191880196465, 25.742549813284953, 24.822122682819533, 103.52088314250962, 105.96315413580113, 44.7495345531097, 112.57529293974935, 79.48580347581004, 87.3443166818422, 57.0148821366759, 72.89066835847618, 162.3434653652343, 90.90494522964507, 124.08865746751493, 76.83865359258998, 103.71671998474308, 62.90878558899016, 58.028537415825426, 63.46680976630939, 81.14252918703572, 65.87428046834357, 69.41496086784676, 62.469838224394216, 341.339196998602, 182.96869981018372, 178.60682101615888, 176.6898371680566, 155.87829128045888, 111.95606782265239, 107.14750514188013, 95.64655384396508, 91.28866018985661, 83.68989599300644, 82.28478208729402, 74.11570954679432, 69.76931476242525, 69.40066997481772, 65.33496058887201, 55.29566575466788, 54.82870795222923, 54.370915971598336, 51.3890447018125, 50.42877300653657, 48.573968948333984, 48.252306251993424, 46.98098084450393, 46.60355714187664, 43.84344149763369, 41.84990427245752, 41.6177021636386, 41.30335974372703, 38.284101671016636, 36.94965242106475, 59.405049178843164, 77.31508046745503, 50.265204292841176, 66.75221562959192, 107.21173166868833, 175.0908597471483, 62.92751822002791, 49.660619876842624, 59.420618307992335, 66.36628384669648, 57.6135778927685, 65.27206502141453, 50.4533686710498, 143.20973008058004, 91.44445008786292, 80.59928180277137, 78.55837714849274, 72.57409849744666, 62.76155691695492, 59.60837319669151, 58.57563339678196, 57.411530068274104, 57.21546271717266, 52.13433327273467, 51.32466399229385, 50.25237742363353, 48.83328408764851, 44.389436734610356, 42.80230372634414, 41.54767425505287, 39.15101832498197, 38.1325252077673, 36.69315122167938, 36.25326368810414, 33.87402443573355, 32.89724352981795, 31.627292970389238, 30.49794981796394, 30.35892907162956, 28.88817778975343, 27.75477651150797, 27.417747498977015, 27.119738031473464, 51.72656813345888, 174.6652346018034, 68.42869636148782, 88.27964416135717, 56.84224819502314, 455.88777900567794, 264.18470938053883, 65.85990936998917, 51.259787200493456, 43.36367225424579, 40.62334961486185, 38.75544419482987, 179.16230557402758, 124.27220567900282, 91.36234250448022, 88.48451600180103, 87.10800218781355, 57.333009302002665, 56.11518557289474, 54.726001435717556, 53.24900421444977, 200.35028526730625, 46.37906103270097, 43.26842686319682, 41.664545496098626, 40.79242924999329, 40.450276567083996, 40.27440600639637, 38.247677994270845, 38.14428726834279, 37.51647148472121, 36.349871790172074, 83.26163231256947, 34.12553180607397, 33.96022725387797, 33.84462642441514, 31.114479648112198, 28.941798526798596, 26.08330759748406, 21.713928236726456, 21.404858999149813, 59.194074107994204, 531.0127878350089, 91.59422338413799, 49.81125226207382, 343.7714373060678, 49.22789369711914, 39.77172235998779, 37.353709249377644, 34.555386485570956, 318.46536128731543, 117.0541381825719, 70.04559827485375, 55.01143737765733, 35.23333114958443, 35.1730464991453, 23.59770751764358, 23.510871064454925, 21.227138736984003, 19.605892664676567, 19.51800725920408, 17.34835403842021, 40.155997667769185, 13.153071756010853, 12.847663435848675, 12.728709553177918, 11.586154123213655, 11.293521788345352, 10.767744755454569, 10.654262220572445, 10.123277662484053, 9.835888504514848, 9.706565522530795, 9.582944436005008, 9.412808970675512, 9.247488069567204, 8.50449314209948, 8.27596415102988, 8.184198255915234, 7.8821752628745205, 48.12397548448916, 68.6047561501649, 96.12590489539835, 24.826721492760708, 16.050513265187, 13.140570684948466, 64.58670481394154, 37.564537282759154, 23.655233518647435, 21.47203265129745, 24.134666508641626, 12.204280154603449, 12.724730031031624, 60.2616839046113, 45.555150346484595, 43.399498546928776, 32.96458814563516, 27.8774067368088, 24.510584410677534, 22.591939605083553, 19.23457763174287, 18.32131527512356, 17.022555315061286, 12.77332149460067, 12.369959017457278, 12.184401521374221, 11.13637189124483, 10.605986146956084, 10.487618966297793, 19.29427550638012, 9.968997940271743, 9.75178593521485, 8.88737253281032, 8.847718734176642, 8.529209450153088, 8.418599287872143, 7.375566270586821, 6.5343539062940685, 6.491233335728028, 6.33206048350983, 6.244557177154117, 6.19140124676385, 6.054526646829823, 13.164163937130064, 19.53183148335038, 11.446284572267562, 45.50570965550567, 38.17880645323913, 19.33296083950347, 18.2237288982307, 11.077168473086937, 18.09918658815723, 9.186997668811959, 9.027471013774568, 194.14704411582557, 28.226251040006932, 27.106681363967102, 26.325797437714083, 25.71907195431493, 20.178764199300463, 18.478652231544253, 18.169931666435165, 16.880677420287462, 16.388772140603116, 15.74823899311134, 14.964324378869101, 12.149194072883205, 11.923278355524376, 11.54931310542609, 11.49706981723098, 10.905661193228323, 10.442915673787585, 10.153587903847606, 9.862428562664844, 9.635189572223888, 9.595651615714674, 9.190807517647801, 9.044129010427275, 8.679660658844226, 7.665299682155635, 7.22281658281649, 6.924397279491485, 6.8801748089317085, 6.663467353136763, 16.864314251942307, 38.27213066972788, 26.362416128586624, 9.471029428471711, 14.061461628041588, 14.124475743649365, 10.598533437177993, 21.943248574200236, 9.838296603434161, 135.08980866105728, 40.02435940329368, 30.638685122620032, 22.152297908322474, 21.825808528207766, 21.67300150890528, 14.918238965077538, 13.384161911680136, 13.367296149469079, 13.080501604411342, 12.007531426365473, 11.44143664542232, 10.152507072404592, 8.59986356445315, 7.190751732531411, 7.075178988105793, 7.058857597615998, 6.789869639275174, 6.5564783355021445, 6.537574745909695, 5.600581115259941, 5.455824039714235, 4.553723510111141, 4.431692264498699, 4.280650511288202, 4.034680091037483, 3.98667251208243, 3.8862896158239244, 3.624488115061322, 3.546298690735563, 13.310173910756209, 6.022985789231066, 6.1744626643898, 7.400342353793261, 5.562823117244343, 5.465814950228897, 5.053583269727478, 5.7625110537532525, 78.27560985870812, 30.856476025393306, 29.58425340143928, 25.09894483056202, 23.41170374993966, 21.76074954118025, 101.77706480601664, 15.74609275501358, 12.180044064857613, 10.97708676181901, 10.086314710007276, 9.812822637762892, 8.902748902661344, 7.961240826559425, 5.609183059452459, 5.546335998956111, 5.0565324176203985, 4.716176009363672, 4.691030199756022, 4.652347332567937, 4.30380136372466, 4.0445159504197985, 3.977455690313813, 3.962393817715964, 3.5588743423602405, 3.0520599592846556, 2.8789891305072004, 2.7999818249899002, 2.3713005733771295, 2.358011664139407, 11.225688158207566, 13.001788964940769, 5.35767839398188, 33.209684658853554, 33.17889044543793, 26.121853159948504, 15.174303898664807, 12.82084692911128, 11.722286160071805, 11.521768465071458, 11.029266136173028, 9.468102450760368, 9.10428489954525, 7.827001042009752, 7.534595133239923, 7.03147602443416, 6.559358827352879, 5.791412618241583, 5.11656325724111, 4.770331809218543, 4.591356282369141, 4.429964246154944, 4.278518215749967, 4.070465578799393, 3.968091212989785, 3.576621701704736, 3.4088331454030296, 3.3809196030290134, 3.360425070373077, 3.243376623100655, 3.2267496550230805, 2.9531969397577185, 2.932863079378448, 5.012667403348197, 10.839546793815433, 19.296144764497782, 8.257836567356614, 4.546521859216332, 3.532175569887203, 4.621250143210031, 5.245006046800421, 14.659169548661248, 9.583302545501594, 3.1588125653281645, 3.030330418703181, 2.87852891797478, 2.693000177071824, 2.6727788589872477, 2.5901911179816217, 2.537731576569231, 2.528877339815097, 2.4229410160093106, 2.345766347306089, 2.3254344953472104, 2.2333418703310848, 2.1754552597755965, 2.025143393401614, 1.5364721059335007, 1.4511677428179375, 1.4259667399027307, 1.413613601729005, 1.3817975478168207, 1.347648138226636, 1.3019248851519378, 1.1933063138302709, 1.107603555344668, 1.026554643471781, 0.9850969275984944, 0.9647590034807857, 0.9614476185593116, 0.9535341547520988, 20.761289851545985, 1.9575619123067978, 12.350636032615816, 43.868914569133295, 5.6320718119596185, 6.2908075955589435, 5.660995459909624, 7.230413864641327, 3.8296232998924276, 2.529605793038848, 6.086794585668681, 4.195783945814463, 2.618141573831628, 4.929732987896855, 3.796494012985744, 4.01020148174355, 3.2256359528307015, 2.814410419936305, 2.8239671745917283, 2.8070966590020503, 2.5175012017053824, 2.5266180850584163, 6.189466264640848, 5.712556138319392, 5.5595693709543275, 4.620208081392638, 4.4835768828172355, 4.164582030906262, 3.054006748319202, 2.5214671361989973, 1.9277309891981176, 1.870250596057182, 1.8561173264673068, 1.6313714026540227, 1.626532686722828, 1.6105440634632382, 1.4317330258216947, 1.3797018540832227, 1.3779186297267227, 1.264944116758415, 1.121767677045157, 1.1204263682411961, 1.0171805434109356, 1.0115454408160263, 0.9365546688194049, 0.7851452361445238, 0.7772744953672486, 0.7543081021087109, 0.7526020709384429, 0.7525145647425306, 0.7470524366393293, 0.6936671729052563, 4.602392141028574, 4.956380578649365, 1.3688000765326505, 1.4830768694299605, 1.6153332522461465, 1.156659861785541, 1.627062293734926, 12.889983704827278, 0.0070560965022550695, 0.007055591695481978, 0.007055499846685155, 0.007055363881537102, 0.00705502686154246, 0.00705497478978363, 0.007054983468410102, 0.007054912592960585, 0.007054942968153235, 0.0070549690040326496, 0.007054887280300043, 0.0070548843874245525, 0.007054887280300043, 0.0070549784058779935, 0.007054891619613279, 0.0070549154858360755, 0.0070548619676395015, 0.007054856905107393, 0.0070548532890130295, 0.007054866306952737, 0.007054859074764011, 0.007054948753904216, 0.007054864137296119, 0.007054881494549062, 0.007054862690858374, 0.007054834485322342, 0.007054834485322342, 0.007054834485322342, 0.007054834485322342, 0.0070548395478544496, 0.007054856905107393, 0.007054890173175533, 0.007054846056824303, 0.0070550145668216244, 0.007054899575020878, 0.007054873539141463, 0.007054953093217452, 0.007054877878454699, 0.007054928503775783, 0.007057785218322646, 0.007054908253647349, 0.0070549740665647575, 0.007054979852315739, 0.007054877878454699, 1.462253221040591, 0.38632240202412954, 0.34712490417016917, 0.24224006964643754, 0.16587561660532882, 0.157773172256404, 0.157773172256404, 0.157773172256404, 0.157773172256404, 0.157773172256404, 0.157773172256404, 0.157773172256404, 0.1544651215119788, 0.1544651215119788, 0.15387463530831894, 0.15283215222329766, 0.4358268659763224, 0.08150145933058998, 0.08150145933058998, 0.08150145933058998, 0.08150145933058998, 0.08150145933058998, 0.08150145933058998, 0.08150145933058998, 0.08150145933058998, 0.08150145933058998, 0.08150145933058998, 0.08150145933058998, 0.08150145933058998, 0.08150145933058998, 0.15777016047030287, 0.15350027557978616, 0.15729475619871702, 0.17460111319593077, 0.13580551265862653, 0.14526437916484894, 0.13157223594010486, 0.09358279014919792, 1.7904208585938792, 1.0722274359617965, 0.6217556287152894, 0.6152933789398953, 0.5614065314748095, 0.468672356032871, 0.45445443434696775, 0.38180507576589867, 0.37075695413280046, 0.24850420502765486, 0.23189678105169542, 0.16421010215214285, 0.15422694034565324, 0.15383421131255234, 0.2486833714680215, 0.08244883648017606, 0.08244883648017606, 0.08244883648017606, 0.08244883648017606, 0.08244883648017606, 0.08244883648017606, 0.08244883648017606, 0.08244883648017606, 0.08244883648017606, 0.08232350098692244, 0.08232350098692244, 0.23167178829875296, 0.15703618841112063, 0.08244397557999508, 0.07870729946151812, 0.40326975424771017, 0.08999958446294647, 0.08386601783837731, 0.794102147078699, 0.6790208136635701, 0.6178056882568698, 0.4425179255761791, 0.4412616730211405, 0.17955724569233858, 0.1566361301264989, 0.1476597553215575, 0.2411995821828727, 0.10320808788682828, 0.10281802324200146, 0.09953680853356363, 0.09760573441028321, 0.05139580219589244, 0.05139580219589244, 0.05139580219589244, 0.05139580219589244, 0.05139580219589244, 0.05139580219589244, 0.05139580219589244, 0.0955975341143689, 0.04789603990110508, 0.0477027919054562, 0.0033513090115042635, 0.0033512816383095803, 0.0033512819762502553, 0.0033512816383095803, 0.0033512816383095803, 0.0033512677827419015, 0.0033512677827419015, 0.0033512954938772596, 0.0033512816383095803, 0.00335129752152131, 0.00335129684563996, 0.003352397518418759, 0.003351290762707808, 0.0033512900868264577, 0.0033513049562161625, 0.4942370948651423, 0.271513088391163, 0.18377312523232528, 0.13871377113368807, 0.12414883074805075, 0.1239417366113307, 0.11938044054116927, 0.0910331357705025, 0.08602537604194596, 0.08130305305118408, 0.07748309915649307, 0.07748309915649307, 0.04039766516440324, 0.04039766516440324, 0.04039766516440324, 0.04039766516440324, 0.04039766516440324, 0.04036357309111357, 0.04036357309111357, 0.002636608791112851, 0.0026365970722230774, 0.0026365970722230774, 0.0026365936867660316, 0.0026365936867660316, 0.0026365936867660316, 0.002636596551383532, 0.002636619728743306, 0.0026365905617287584, 0.0026365905617287584, 0.0026365905617287584, 0.0026365944680253497, 0.0026365944680253497, 0.0026365970722230774, 0.002636598374321941, 0.002636597593062623, 0.00263659733264285, 0.002636603322297623, 0.002636595509704441, 0.0026365978534823955, 0.0026366132182489873, 0.0026368087934983196, 0.002636608791112851, 0.002636597593062623, 0.0001341369191098897, 0.0001341369191098897, 0.0001341369191098897, 0.0001341369191098897, 0.0001341369191098897, 0.0001341369191098897, 0.0001341369191098897, 0.0001341369191098897, 0.0001341369191098897, 0.0001341369191098897, 0.0001341369191098897, 0.0001341369191098897, 0.0001341369191098897, 0.0001341369191098897, 0.0001341369191098897, 0.0001341369191098897, 0.0001341369191098897, 0.0001341369191098897, 0.0001341369191098897, 0.0001341369191098897, 0.0001341369191098897, 0.0001341369191098897, 0.0001341369191098897, 0.0001341369191098897, 0.0001341369191098897, 0.0001341369191098897, 0.0001341369191098897, 0.0001341369191098897, 0.0001341369191098897, 0.0001341369191098897, 0.0001341369191098897, 0.0001341369191098897, 0.0001341369191098897, 0.0001341369191098897, 0.0001341369191098897, 0.0001341369191098897, 0.0001341369191098897, 0.0001341369191098897, 0.0001341369191098897, 0.0001341369191098897, 0.0001341369191098897, 0.0001341369191098897, 0.0001341369191098897, 0.0001341369191098897, 0.0001341369191098897, 0.0001341369191098897, 0.0001341369191098897, 0.0001341369191098897, 0.0001341369191098897, 0.0001341369191098897, 0.0001341369191098897, 0.0001341369191098897, 0.0001341369191098897, 0.0001341369191098897, 0.0001341369191098897, 0.0001341369191098897, 0.0001341369191098897, 0.0001341369191098897, 0.0001341369191098897, 0.0001341369191098897], \"Total\": [6615.0, 1998.0, 2663.0, 723.0, 554.0, 1535.0, 585.0, 319.0, 409.0, 553.0, 342.0, 2113.0, 937.0, 1146.0, 183.0, 565.0, 194.0, 427.0, 512.0, 618.0, 969.0, 240.0, 357.0, 203.0, 612.0, 135.0, 809.0, 939.0, 192.0, 179.0, 1535.2308937184928, 612.2600207274791, 507.72828055323976, 496.91577384730226, 419.29879647698573, 402.15994431087756, 386.3671438063153, 371.128030595018, 349.78882267292335, 341.6246694615478, 338.48307100881664, 326.40350856863284, 321.60365418060667, 312.1335342291131, 303.71970922141577, 300.6279019675153, 280.1724520345569, 272.3249124382876, 259.27629702258645, 249.58213099239836, 249.3737466651472, 243.43046989339274, 234.61612494041475, 232.1033586925824, 225.57607324771146, 221.90488140270213, 218.61296449461668, 217.5578148342898, 205.75944811792206, 199.28045068732828, 937.5851829084769, 1146.0206898529927, 280.45682522867753, 543.4774353871159, 969.6697024660639, 1121.3042875823085, 273.7327112753442, 404.09142589273125, 2113.54144838268, 368.3480936146317, 721.0387469552717, 356.3055132512709, 549.4384545464094, 809.2756706710447, 394.37739396594054, 2663.78121141608, 1998.4878647457904, 618.209718121561, 423.1719240919716, 413.34415696171453, 392.40433609258, 372.5459270597904, 357.98412235572556, 348.8964890988772, 293.0441461353158, 290.0018546649454, 288.57559344817594, 243.3830683083071, 227.47549768017737, 226.23940797963883, 224.9444305119711, 223.7877550279327, 223.01356074816562, 217.12128749546514, 218.38136970951516, 215.11389633584292, 211.84910922247482, 210.810221850176, 184.63126375124813, 6615.897481030377, 171.29851734853153, 167.12790003682008, 157.75503524776934, 151.7202465552268, 139.99759383496954, 138.17071468599192, 220.24944524470808, 2663.78121141608, 322.3909370445879, 491.96756322573077, 573.9668479892374, 455.36515435570027, 939.1109985782801, 818.8004209848713, 606.4747243360821, 842.5446369802399, 395.80488967474366, 2113.54144838268, 328.2720823385073, 747.155949438838, 455.9085850781076, 809.2756706710447, 427.7955175628991, 585.6374584087309, 457.2985603481651, 357.25208141131446, 289.4924655564135, 284.1587069712434, 222.05285085043482, 220.70669205393006, 215.8794821541282, 148.34225649843623, 147.15159053158547, 138.87453043854887, 135.25743071759698, 133.88622347967808, 123.85282417274477, 121.23475035811104, 113.77851403591427, 108.6031478567876, 104.24653433174446, 96.07799514302198, 92.61180741449397, 91.13535651842525, 89.40463226595844, 82.53591347543397, 81.0270860068662, 75.12066108479362, 74.89482916150901, 74.32440451391594, 73.50803974627073, 70.58833688548229, 70.13895736905175, 69.05605696082394, 68.75230805939529, 252.14530373942185, 565.8593495357349, 512.6462438693095, 243.50741347896613, 130.73987262989283, 95.9351526633632, 104.22301584085909, 114.2811860950579, 108.95077247127938, 194.94111749510364, 187.8740032934223, 272.4277021524911, 457.2985603481651, 549.4384545464094, 189.38191543879654, 166.95474511175652, 969.6697024660639, 723.0666465599885, 405.77532512194347, 434.7689246157668, 240.29786600434005, 156.10028393324154, 137.87149723211192, 99.82572292931332, 97.99507458990911, 82.3832883391208, 79.9041350651283, 78.62264042240704, 71.82104057908732, 69.47960928386019, 61.59069161283476, 60.99200604257276, 60.41976962105584, 56.17929964721672, 56.04390541611443, 44.85278092041237, 43.392383567858964, 42.89076322036708, 42.265336373665235, 39.95579800359038, 39.32987036655466, 34.806238236011254, 33.245770918684435, 32.10523716258239, 31.443781233526202, 29.809419520266434, 28.888704899053785, 28.042436470530866, 26.44306748185117, 25.52264035138575, 109.7218848179858, 114.6283642632339, 47.21415874832665, 134.40049027256367, 100.50832916046828, 129.7318097246803, 72.58963517767233, 112.21304462064306, 427.7955175628991, 188.98345017634622, 374.55283086430103, 198.77529312299632, 434.7689246157668, 141.89573341748238, 116.71370729987223, 162.88911887939918, 462.5002889717926, 208.95965181188362, 448.61499387564373, 809.2756706710447, 342.03716514483716, 183.66666795641908, 179.30478916239423, 177.38780531429197, 156.57625942669424, 112.6540359688877, 107.84547328811544, 96.34452199020039, 91.98662833609193, 84.38786413924176, 82.98275023352933, 74.81367770065268, 70.46728290866056, 70.09863812105303, 66.03292873510732, 55.99363390090317, 55.52667609846452, 55.068884117833626, 52.08701284804779, 51.12674115277186, 49.271937094569275, 48.950274398228714, 47.67894899073922, 47.30152528811193, 44.54140964386898, 42.54787241869281, 42.31567031280692, 42.00132788996232, 38.982069817251926, 37.64762056730004, 63.25121847473582, 92.44519153711556, 57.16475405570624, 90.40153430429166, 204.23378567084953, 553.9967089647697, 86.68979293670348, 58.333788510571324, 171.62675690718558, 395.80488967474366, 187.8740032934223, 809.2756706710447, 206.27228668125676, 143.91065636389712, 92.14537637712873, 81.3002080860884, 79.25930343180977, 73.27502478076369, 63.46248320027193, 60.30929948000852, 59.27655968009897, 58.11245635159111, 57.91638900048967, 52.83525955605168, 52.02559027561086, 50.95330370695054, 49.53421037096552, 45.090363017927366, 43.50323000966115, 42.24860053836988, 39.85194460829898, 38.83345149108431, 37.39407750499639, 36.95418997142115, 34.57495071905056, 33.59816981313496, 32.32821925370625, 31.19887610128096, 31.05985535494658, 29.58910407307045, 28.45570279482499, 28.118673786822303, 27.820664314790484, 54.067902635352326, 192.0635960820364, 75.21577271936209, 100.13303243110826, 62.87614414341459, 723.0666465599885, 585.6374584087309, 95.35230748286007, 78.95752722897583, 65.49286816203418, 55.09492178372406, 64.25514118525307, 179.86405214455834, 124.97395224953354, 92.06408907501094, 89.18626257233174, 87.80974875834427, 58.03475587253337, 56.81693214342544, 55.42774800624826, 53.95075078498047, 203.11856000312304, 47.08080760323167, 43.970173433727524, 42.36629206662933, 41.49417582052399, 41.1520231376147, 40.97615257692707, 38.94942456480155, 38.84603383887349, 38.21821806139326, 37.051618360702776, 84.93881996977228, 34.827278376604674, 34.66197382750344, 34.54637299494584, 31.816226218642907, 29.64354510042407, 26.785054168014767, 22.415674807257165, 22.10660556968052, 61.166826861310895, 554.0849552362824, 97.67807117401671, 52.5835324499845, 409.01612566371386, 52.01059747031219, 69.29775095050144, 58.69683671093981, 68.96963976067718, 319.1855496792696, 117.77432657452619, 70.76578666680803, 55.7316257696116, 35.9535195415387, 35.89323489109957, 24.317895909597855, 24.2310594564092, 21.947327128938277, 20.32608105663084, 20.238195651158353, 18.068542430374485, 42.06126221003539, 13.873260147965128, 13.56785182780295, 13.448897945132193, 12.306342518384117, 12.013710180299627, 11.487933149960169, 11.37445061252672, 10.843466054438329, 10.556076896469124, 10.426753939874878, 10.303132835516056, 10.132997362629787, 9.96767646152148, 9.224681538198933, 8.996152542984156, 8.90438664786951, 8.602363654828796, 56.58443902758838, 82.29282167429481, 138.75476650244852, 33.35497244595138, 21.343780229738787, 16.196858567164856, 409.01612566371386, 182.61366940684928, 69.29775095050144, 65.49286816203418, 89.20893289861807, 27.290201238835746, 68.19789669775417, 60.982584358379704, 46.276050800252996, 44.12039900768743, 33.685488602498324, 28.5983071905772, 25.23148486444593, 23.31284005885195, 19.955478093134303, 19.042215749580336, 17.743455771924452, 13.494221948369075, 13.090859471225682, 12.905301975142626, 11.857272345013234, 11.326886605252758, 11.208519420066198, 20.666400531276448, 10.689898394040148, 10.47268639493203, 9.608272986578724, 9.568619205653102, 9.250109904471893, 9.139499741640547, 8.096466724355224, 7.255254360062474, 7.212133789496433, 7.0529609403730005, 6.965457630922522, 6.91230171205078, 6.775427100598228, 15.36007154614265, 23.372598402077504, 14.223511947668536, 100.52689261960195, 116.62570933246563, 39.890485294186114, 39.68402322393579, 19.219233183870696, 76.89654709658615, 64.21162686276587, 127.60046098497914, 194.8679015759961, 28.947108500177407, 27.827538824137577, 27.046654897884558, 26.439929414485405, 20.89962166566047, 19.199509691714727, 18.89078912660564, 17.601534880457937, 17.10962961680739, 16.469096453281814, 15.68518183903958, 12.870051533053683, 12.644135823251627, 12.270170565596569, 12.217927277401458, 11.6265186533988, 11.163773133958063, 10.874445364018085, 10.5832860435237, 10.356047032394367, 10.316509075885152, 9.91166497781828, 9.764986470597753, 9.400518123542973, 8.386157142326114, 7.943674042986969, 7.645254739661964, 7.601032269102188, 7.384324813307242, 19.451494857053717, 47.79024123531358, 36.47152391580902, 11.178815924838384, 18.829886433426996, 21.81494281947134, 14.811627797342144, 177.6976474746814, 27.547281079653377, 135.81870245299717, 40.753253195233555, 31.36757891455991, 22.881191700262352, 22.55470232628899, 22.40189530084516, 15.647132757017417, 14.113055703620015, 14.096189962097334, 13.80939539635122, 12.736425218305351, 12.170330437362198, 10.881400870293247, 9.328757356393028, 7.919645545217399, 7.804072780045673, 7.787751389555878, 7.518763431215054, 7.285372127442025, 7.266468537849575, 6.329474907199821, 6.184717831654115, 5.282617302051021, 5.1605860564385795, 5.009544303228082, 4.763573896464362, 4.71556630402231, 4.615183407763805, 4.353381907001202, 4.275192482675443, 21.272475454654096, 9.893964748860775, 11.417683810394172, 18.93658842090974, 10.054349421330278, 15.362561042870874, 14.181824403988417, 45.07002833703029, 79.00564944472333, 31.586515611408522, 30.314292990549262, 25.828984416577235, 24.141743355583223, 22.49078913029023, 105.48322278072425, 16.476132347170143, 12.910083657863083, 11.707126347834226, 10.816354299117258, 10.542862227923285, 9.63278849810634, 8.691280412574642, 6.339222645467676, 6.276375592528101, 5.786572011192389, 5.44621559537889, 5.42106979585626, 5.382386931714758, 5.0338409497398775, 4.774555536435016, 4.7074952763290305, 4.6924334200152815, 4.288913928375457, 3.782099545299872, 3.6090287372479293, 3.530021420686674, 3.1013401593923464, 3.088051250154624, 44.12189385653082, 82.29282167429481, 289.3483921397942, 33.941441558995066, 33.91064734557944, 26.853610070175044, 15.906060798806324, 13.552603835394146, 12.454043060213323, 12.253525372769749, 11.761023043304801, 10.199859355430155, 9.836041805828117, 8.558757945246036, 8.266352036476206, 7.763232960193297, 7.291115740626004, 6.5231695248798465, 5.848320157382632, 5.5020887093600646, 5.323113182510662, 5.161721164004521, 5.010275127410012, 4.8022225167527655, 4.699848113131306, 4.308378601846257, 4.140590079053439, 4.112676503170534, 4.092181976713677, 3.975133523242175, 3.958506565641646, 3.6849538398992387, 3.664619979519968, 6.845655933143682, 18.93658842090974, 39.47434860796975, 15.992646642106001, 11.417683810394172, 4.930838919447123, 18.09550578915463, 69.29775095050144, 15.401224987832316, 10.325357984672662, 3.9008680044992343, 3.772385857874251, 3.6205843571458503, 3.4350556568380974, 3.414834298158318, 3.3322465829801184, 3.2797870278304253, 3.270932778986167, 3.164996462170636, 3.087821790622336, 3.0674899345182802, 2.975397309502155, 2.9175107227960706, 2.7671988537686087, 2.2785275451045703, 2.193223208626161, 2.1680221790738003, 2.1556690409000754, 2.1238529869878904, 2.089703577397706, 2.043980330522087, 1.9353617530013405, 1.8496589945157376, 1.7686100826428506, 1.7271523756513778, 1.7068144426518552, 1.7035030577303814, 1.6955896057380193, 39.68402322393579, 3.5665227693961277, 24.857679152507018, 183.8213985431063, 15.048145450520765, 30.573707284245337, 37.09640664217076, 67.1282172338781, 18.741122373165915, 8.19332788006115, 67.38357203074025, 67.70267216589508, 15.167750756610522, 128.02030638344624, 65.8782773800475, 132.630458758902, 114.2811860950579, 42.78635490717874, 47.92940679157256, 70.40274431099743, 39.890485294186114, 243.50741347896613, 6.937384599781091, 6.4604744796009825, 6.30748770609457, 5.3681264482462705, 5.231495232570769, 4.912500366046505, 3.801925083459444, 3.26938547133924, 2.67564932433836, 2.6181689311974243, 2.604035679900201, 2.3792897423225337, 2.3744510218630706, 2.3584624238201264, 2.179651360961937, 2.1276202133800806, 2.125836964866965, 2.012862451898657, 1.8696860121853986, 1.8683447079097066, 1.7650988785511772, 1.759463775956268, 1.6844730039596465, 1.5330635758130344, 1.5251928305074902, 1.5022264372489527, 1.5005204060786845, 1.5004328998827723, 1.4949707777283472, 1.4415855185225432, 12.01204724823576, 46.553380916103926, 4.920670458742098, 10.308830099205036, 19.632920142599918, 9.18618542822827, 79.8598204911982, 14.390204755785444, 0.7639696636490827, 0.7639618662526002, 0.7639641612200556, 0.7639795205300496, 0.7639568670596941, 0.7639551948729384, 0.7639574010686391, 0.763953145608637, 0.7639581466641743, 0.7639612160122498, 0.7639529521586376, 0.7639528849885853, 0.7639532313244294, 0.7639632840849511, 0.7639553224528238, 0.7639580941944907, 0.7639526790536328, 0.7639525565572847, 0.7639524949485892, 0.7639539747744603, 0.7639532314910706, 0.7639633924736209, 0.763954566809419, 0.7639566284089344, 0.7639551651458311, 0.7639523483669259, 0.7639523483669259, 0.7639523483669259, 0.7639523483669259, 0.7639529052699133, 0.7639552784682758, 0.7639636271897017, 0.7639547177112211, 0.7639952007642501, 0.7639686917060047, 0.7639631823392306, 0.7640105875774771, 0.7639685181027079, 0.7640227143492234, 0.7679485651989156, 0.7640214309556431, 0.7641574537546164, 0.7642589647201555, 0.7639887977028033, 2.22089387846157, 1.1449630594451083, 1.1057655810269231, 1.0008807270674163, 0.9245162740263074, 0.9164138296773826, 0.9164138296773826, 0.9164138296773826, 0.9164138296773826, 0.9164138296773826, 0.9164138296773826, 0.9164138296773826, 0.9131057789329574, 0.9131057789329574, 0.9125152986780739, 0.9114728322771525, 2.7170035774346695, 0.8401421167515686, 0.8401421167515686, 0.8401421167515686, 0.8401421167515686, 0.8401421167515686, 0.8401421167515686, 0.8401421167515686, 0.8401421167515686, 0.8401421167515686, 0.8401421167515686, 0.8401421167515686, 0.8401421167515686, 0.8401421167515686, 3.4866116921037604, 4.780344512225547, 8.356019942086157, 13.70063912181281, 17.25933565423917, 35.78498938544484, 20.003670838752065, 2.3350811347231475, 2.548993458690164, 1.8307999891020696, 1.3803281818555626, 1.373865945107159, 1.3199791056588546, 1.227244909173144, 1.213027027109781, 1.1403776469214397, 1.1293295383922912, 1.0070768385665663, 0.9904693432485067, 0.9227826699915972, 0.9127995091496278, 0.9124067763503783, 2.3424279284654093, 0.8410213896204493, 0.8410213896204493, 0.8410213896204493, 0.8410213896204493, 0.8410213896204493, 0.8410213896204493, 0.8410213896204493, 0.8410213896204493, 0.8410219151816799, 0.8408960541271956, 0.8408960541271956, 4.205454309411113, 3.4203199285975665, 1.9233231344714696, 2.0985115175776112, 23.919503001495976, 4.865919050420653, 7.557789395713565, 1.5547023115939405, 1.4396209781788116, 1.378405911897581, 1.2031181027295121, 1.2018618476214031, 0.9401574266276163, 0.9172362946417404, 0.908259919836799, 1.9322434656639311, 0.8638082574807382, 0.8634181937060192, 0.8601369730488051, 0.8582059110733804, 0.8119959667111339, 0.8119959667111339, 0.8119959667111339, 0.8119959667111339, 0.8119963160180469, 0.8119964922723646, 0.8119969389637277, 4.6627440952063575, 2.8853670551270167, 6.043225146899369, 0.7639558159574636, 0.7639535864465518, 0.7639539509147724, 0.7639538962875783, 0.7639550863717625, 0.7639525283510453, 0.7639525283510453, 0.7639593852833176, 0.7639563908108205, 0.7639688413566641, 0.7639753625403911, 0.7679485651989156, 0.7639851844054294, 0.7640339255643913, 0.7642589647201555, 1.255551926469227, 1.0328279269855032, 0.9450879568364099, 0.9000286300077053, 0.8854636623521354, 0.8852565682154153, 0.8806952721452539, 0.8523479673745872, 0.8473402076460306, 0.8426178846552688, 0.8387979369596571, 0.8387979369596571, 0.8017124967684879, 0.8017124967684879, 0.8017124967684879, 0.8017124967684879, 0.8017124967684879, 0.8016784046951982, 0.8016784046951982, 0.763955222339355, 0.7639523872854465, 0.7639526475329447, 0.7639520686318385, 0.7639520686318385, 0.7639520686318385, 0.7639534203492808, 0.7639601676895333, 0.763951744940101, 0.763951744940101, 0.763951744940101, 0.7639529649779232, 0.7639529649779232, 0.7639538197178648, 0.7639572090729936, 0.7639571928366466, 0.7639583072774578, 0.7639753625403911, 0.7639555429468432, 0.763962739060172, 0.7641574537546164, 0.7679485651989156, 0.7642589647201555, 0.7640349978081831, 0.7639515387372783, 0.7639515387372783, 0.7639515387372783, 0.7639515387372783, 0.7639515387372783, 0.7639515387372783, 0.7639515387372783, 0.7639515387372783, 0.7639515387372783, 0.7639515387372783, 0.7639515387372783, 0.7639515387372783, 0.7639515387372783, 0.7639515387372783, 0.7639515387372783, 0.7639515387372783, 0.7639515438410941, 0.7639515438410941, 0.7639515438410941, 0.7639515438410941, 0.7639515438410941, 0.7639515438410941, 0.7639515438410941, 0.7639515438410941, 0.7639515438410941, 0.7639515438410941, 0.7639515438410941, 0.7639515438410941, 0.7639515438410941, 0.7639515438410941, 5.604956223606657, 8.198957826287877, 59.96272956410656, 937.5851829084769, 12.216461918368458, 252.14530373942185, 1121.3042875823085, 0.7639515839186322, 0.7639517415880874, 46.53720592912991, 0.7639515839186322, 2113.54144838268, 40.97615257692707, 303.71970922141577, 155.72093963806893, 12.578612183167222, 129.7318097246803, 842.5446369802399, 405.77532512194347, 12.71429069987073, 2663.78121141608, 52.96630287839118, 21.930758699446177, 249.3737466651472, 14.614233269810466, 2.8886673738850868, 5.490911735556673, 28.04963241596415, 52.08701284804779, 0.7639516190792565], \"Category\": [\"Default\", \"Default\", \"Default\", \"Default\", \"Default\", \"Default\", \"Default\", \"Default\", \"Default\", \"Default\", \"Default\", \"Default\", \"Default\", \"Default\", \"Default\", \"Default\", \"Default\", \"Default\", \"Default\", \"Default\", \"Default\", \"Default\", \"Default\", \"Default\", \"Default\", \"Default\", \"Default\", \"Default\", \"Default\", \"Default\", \"Topic1\", \"Topic1\", \"Topic1\", \"Topic1\", \"Topic1\", \"Topic1\", \"Topic1\", \"Topic1\", \"Topic1\", \"Topic1\", \"Topic1\", \"Topic1\", \"Topic1\", \"Topic1\", \"Topic1\", \"Topic1\", \"Topic1\", \"Topic1\", \"Topic1\", \"Topic1\", \"Topic1\", \"Topic1\", \"Topic1\", \"Topic1\", \"Topic1\", \"Topic1\", \"Topic1\", \"Topic1\", \"Topic1\", \"Topic1\", \"Topic1\", \"Topic1\", \"Topic1\", \"Topic1\", \"Topic1\", \"Topic1\", \"Topic1\", \"Topic1\", \"Topic1\", \"Topic1\", \"Topic1\", \"Topic1\", \"Topic1\", \"Topic1\", \"Topic1\", \"Topic1\", \"Topic2\", \"Topic2\", \"Topic2\", \"Topic2\", \"Topic2\", \"Topic2\", \"Topic2\", \"Topic2\", \"Topic2\", \"Topic2\", \"Topic2\", \"Topic2\", \"Topic2\", \"Topic2\", \"Topic2\", \"Topic2\", \"Topic2\", \"Topic2\", \"Topic2\", \"Topic2\", \"Topic2\", \"Topic2\", \"Topic2\", \"Topic2\", \"Topic2\", \"Topic2\", \"Topic2\", \"Topic2\", \"Topic2\", \"Topic2\", \"Topic2\", \"Topic2\", \"Topic2\", \"Topic2\", \"Topic2\", \"Topic2\", \"Topic2\", \"Topic2\", \"Topic2\", \"Topic2\", \"Topic2\", \"Topic2\", \"Topic2\", \"Topic2\", \"Topic2\", \"Topic2\", \"Topic2\", \"Topic2\", \"Topic2\", \"Topic3\", \"Topic3\", \"Topic3\", \"Topic3\", \"Topic3\", \"Topic3\", \"Topic3\", \"Topic3\", \"Topic3\", \"Topic3\", \"Topic3\", \"Topic3\", \"Topic3\", \"Topic3\", \"Topic3\", \"Topic3\", \"Topic3\", \"Topic3\", \"Topic3\", \"Topic3\", \"Topic3\", \"Topic3\", \"Topic3\", \"Topic3\", \"Topic3\", \"Topic3\", \"Topic3\", \"Topic3\", \"Topic3\", \"Topic3\", \"Topic3\", \"Topic3\", \"Topic3\", \"Topic3\", \"Topic3\", \"Topic3\", \"Topic3\", \"Topic3\", \"Topic3\", \"Topic3\", \"Topic3\", \"Topic3\", \"Topic3\", \"Topic3\", \"Topic3\", \"Topic3\", \"Topic3\", \"Topic3\", \"Topic3\", \"Topic3\", \"Topic4\", \"Topic4\", \"Topic4\", \"Topic4\", \"Topic4\", \"Topic4\", \"Topic4\", \"Topic4\", \"Topic4\", \"Topic4\", \"Topic4\", \"Topic4\", \"Topic4\", \"Topic4\", \"Topic4\", \"Topic4\", \"Topic4\", \"Topic4\", \"Topic4\", \"Topic4\", \"Topic4\", \"Topic4\", \"Topic4\", \"Topic4\", \"Topic4\", \"Topic4\", \"Topic4\", \"Topic4\", \"Topic4\", \"Topic4\", \"Topic4\", \"Topic4\", \"Topic4\", \"Topic4\", \"Topic4\", \"Topic4\", \"Topic4\", \"Topic4\", \"Topic4\", \"Topic4\", \"Topic4\", \"Topic4\", \"Topic4\", \"Topic4\", \"Topic4\", \"Topic4\", \"Topic4\", \"Topic4\", \"Topic4\", \"Topic4\", \"Topic5\", \"Topic5\", \"Topic5\", \"Topic5\", \"Topic5\", \"Topic5\", \"Topic5\", \"Topic5\", \"Topic5\", \"Topic5\", \"Topic5\", \"Topic5\", \"Topic5\", \"Topic5\", \"Topic5\", \"Topic5\", \"Topic5\", \"Topic5\", \"Topic5\", \"Topic5\", \"Topic5\", \"Topic5\", \"Topic5\", \"Topic5\", \"Topic5\", \"Topic5\", \"Topic5\", \"Topic5\", \"Topic5\", \"Topic5\", \"Topic5\", \"Topic5\", \"Topic5\", \"Topic5\", \"Topic5\", \"Topic5\", \"Topic5\", \"Topic5\", \"Topic5\", \"Topic5\", \"Topic5\", \"Topic5\", \"Topic5\", \"Topic6\", \"Topic6\", \"Topic6\", \"Topic6\", \"Topic6\", \"Topic6\", \"Topic6\", \"Topic6\", \"Topic6\", \"Topic6\", \"Topic6\", \"Topic6\", \"Topic6\", \"Topic6\", \"Topic6\", \"Topic6\", \"Topic6\", \"Topic6\", \"Topic6\", \"Topic6\", \"Topic6\", \"Topic6\", \"Topic6\", \"Topic6\", \"Topic6\", \"Topic6\", \"Topic6\", \"Topic6\", \"Topic6\", \"Topic6\", \"Topic6\", \"Topic6\", \"Topic6\", \"Topic6\", \"Topic6\", \"Topic6\", \"Topic6\", \"Topic6\", \"Topic6\", \"Topic6\", \"Topic6\", \"Topic6\", \"Topic7\", \"Topic7\", \"Topic7\", \"Topic7\", \"Topic7\", \"Topic7\", \"Topic7\", \"Topic7\", \"Topic7\", \"Topic7\", \"Topic7\", \"Topic7\", \"Topic7\", \"Topic7\", \"Topic7\", \"Topic7\", \"Topic7\", \"Topic7\", \"Topic7\", \"Topic7\", \"Topic7\", \"Topic7\", \"Topic7\", \"Topic7\", \"Topic7\", \"Topic7\", \"Topic7\", \"Topic7\", \"Topic7\", \"Topic7\", \"Topic7\", \"Topic7\", \"Topic7\", \"Topic7\", \"Topic7\", \"Topic7\", \"Topic7\", \"Topic7\", \"Topic8\", \"Topic8\", \"Topic8\", \"Topic8\", \"Topic8\", \"Topic8\", \"Topic8\", \"Topic8\", \"Topic8\", \"Topic8\", \"Topic8\", \"Topic8\", \"Topic8\", \"Topic8\", \"Topic8\", \"Topic8\", \"Topic8\", \"Topic8\", \"Topic8\", \"Topic8\", \"Topic8\", \"Topic8\", \"Topic8\", \"Topic8\", \"Topic8\", \"Topic8\", \"Topic8\", \"Topic8\", \"Topic8\", \"Topic8\", \"Topic8\", \"Topic8\", \"Topic8\", \"Topic8\", \"Topic8\", \"Topic8\", \"Topic8\", \"Topic8\", \"Topic8\", \"Topic8\", \"Topic8\", \"Topic8\", \"Topic8\", \"Topic9\", \"Topic9\", \"Topic9\", \"Topic9\", \"Topic9\", \"Topic9\", \"Topic9\", \"Topic9\", \"Topic9\", \"Topic9\", \"Topic9\", \"Topic9\", \"Topic9\", \"Topic9\", \"Topic9\", \"Topic9\", \"Topic9\", \"Topic9\", \"Topic9\", \"Topic9\", \"Topic9\", \"Topic9\", \"Topic9\", \"Topic9\", \"Topic9\", \"Topic9\", \"Topic9\", \"Topic9\", \"Topic9\", \"Topic9\", \"Topic9\", \"Topic9\", \"Topic9\", \"Topic9\", \"Topic9\", \"Topic9\", \"Topic9\", \"Topic9\", \"Topic9\", \"Topic9\", \"Topic9\", \"Topic10\", \"Topic10\", \"Topic10\", \"Topic10\", \"Topic10\", \"Topic10\", \"Topic10\", \"Topic10\", \"Topic10\", \"Topic10\", \"Topic10\", \"Topic10\", \"Topic10\", \"Topic10\", \"Topic10\", \"Topic10\", \"Topic10\", \"Topic10\", \"Topic10\", \"Topic10\", \"Topic10\", \"Topic10\", \"Topic10\", \"Topic10\", \"Topic10\", \"Topic10\", \"Topic10\", \"Topic10\", \"Topic10\", \"Topic10\", \"Topic10\", \"Topic10\", \"Topic10\", \"Topic10\", \"Topic10\", \"Topic10\", \"Topic10\", \"Topic10\", \"Topic10\", \"Topic11\", \"Topic11\", \"Topic11\", \"Topic11\", \"Topic11\", \"Topic11\", \"Topic11\", \"Topic11\", \"Topic11\", \"Topic11\", \"Topic11\", \"Topic11\", \"Topic11\", \"Topic11\", \"Topic11\", \"Topic11\", \"Topic11\", \"Topic11\", \"Topic11\", \"Topic11\", \"Topic11\", \"Topic11\", \"Topic11\", \"Topic11\", \"Topic11\", \"Topic11\", \"Topic11\", \"Topic11\", \"Topic11\", \"Topic11\", \"Topic11\", \"Topic11\", \"Topic11\", \"Topic11\", \"Topic11\", \"Topic11\", \"Topic11\", \"Topic11\", \"Topic12\", \"Topic12\", \"Topic12\", \"Topic12\", \"Topic12\", \"Topic12\", \"Topic12\", \"Topic12\", \"Topic12\", \"Topic12\", \"Topic12\", \"Topic12\", \"Topic12\", \"Topic12\", \"Topic12\", \"Topic12\", \"Topic12\", \"Topic12\", \"Topic12\", \"Topic12\", \"Topic12\", \"Topic12\", \"Topic12\", \"Topic12\", \"Topic12\", \"Topic12\", \"Topic12\", \"Topic12\", \"Topic12\", \"Topic12\", \"Topic12\", \"Topic12\", \"Topic12\", \"Topic13\", \"Topic13\", \"Topic13\", \"Topic13\", \"Topic13\", \"Topic13\", \"Topic13\", \"Topic13\", \"Topic13\", \"Topic13\", \"Topic13\", \"Topic13\", \"Topic13\", \"Topic13\", \"Topic13\", \"Topic13\", \"Topic13\", \"Topic13\", \"Topic13\", \"Topic13\", \"Topic13\", \"Topic13\", \"Topic13\", \"Topic13\", \"Topic13\", \"Topic13\", \"Topic13\", \"Topic13\", \"Topic13\", \"Topic13\", \"Topic13\", \"Topic13\", \"Topic13\", \"Topic13\", \"Topic13\", \"Topic13\", \"Topic13\", \"Topic13\", \"Topic14\", \"Topic14\", \"Topic14\", \"Topic14\", \"Topic14\", \"Topic14\", \"Topic14\", \"Topic14\", \"Topic14\", \"Topic14\", \"Topic14\", \"Topic14\", \"Topic14\", \"Topic14\", \"Topic14\", \"Topic14\", \"Topic14\", \"Topic14\", \"Topic14\", \"Topic14\", \"Topic14\", \"Topic14\", \"Topic14\", \"Topic14\", \"Topic14\", \"Topic14\", \"Topic14\", \"Topic14\", \"Topic14\", \"Topic14\", \"Topic14\", \"Topic14\", \"Topic14\", \"Topic14\", \"Topic14\", \"Topic14\", \"Topic14\", \"Topic14\", \"Topic14\", \"Topic14\", \"Topic14\", \"Topic14\", \"Topic14\", \"Topic14\", \"Topic14\", \"Topic14\", \"Topic14\", \"Topic14\", \"Topic14\", \"Topic14\", \"Topic14\", \"Topic14\", \"Topic15\", \"Topic15\", \"Topic15\", \"Topic15\", \"Topic15\", \"Topic15\", \"Topic15\", \"Topic15\", \"Topic15\", \"Topic15\", \"Topic15\", \"Topic15\", \"Topic15\", \"Topic15\", \"Topic15\", \"Topic15\", \"Topic15\", \"Topic15\", \"Topic15\", \"Topic15\", \"Topic15\", \"Topic15\", \"Topic15\", \"Topic15\", \"Topic15\", \"Topic15\", \"Topic15\", \"Topic15\", \"Topic15\", \"Topic15\", \"Topic15\", \"Topic15\", \"Topic15\", \"Topic15\", \"Topic15\", \"Topic15\", \"Topic15\", \"Topic16\", \"Topic16\", \"Topic16\", \"Topic16\", \"Topic16\", \"Topic16\", \"Topic16\", \"Topic16\", \"Topic16\", \"Topic16\", \"Topic16\", \"Topic16\", \"Topic16\", \"Topic16\", \"Topic16\", \"Topic16\", \"Topic16\", \"Topic16\", \"Topic16\", \"Topic16\", \"Topic16\", \"Topic16\", \"Topic16\", \"Topic16\", \"Topic16\", \"Topic16\", \"Topic16\", \"Topic16\", \"Topic16\", \"Topic16\", \"Topic16\", \"Topic16\", \"Topic16\", \"Topic16\", \"Topic16\", \"Topic16\", \"Topic16\", \"Topic16\", \"Topic16\", \"Topic16\", \"Topic16\", \"Topic16\", \"Topic16\", \"Topic16\", \"Topic16\", \"Topic17\", \"Topic17\", \"Topic17\", \"Topic17\", \"Topic17\", \"Topic17\", \"Topic17\", \"Topic17\", \"Topic17\", \"Topic17\", \"Topic17\", \"Topic17\", \"Topic17\", \"Topic17\", \"Topic17\", \"Topic17\", \"Topic17\", \"Topic17\", \"Topic17\", \"Topic17\", \"Topic17\", \"Topic17\", \"Topic17\", \"Topic17\", \"Topic17\", \"Topic17\", \"Topic17\", \"Topic17\", \"Topic17\", \"Topic17\", \"Topic17\", \"Topic17\", \"Topic17\", \"Topic17\", \"Topic17\", \"Topic17\", \"Topic17\", \"Topic17\", \"Topic18\", \"Topic18\", \"Topic18\", \"Topic18\", \"Topic18\", \"Topic18\", \"Topic18\", \"Topic18\", \"Topic18\", \"Topic18\", \"Topic18\", \"Topic18\", \"Topic18\", \"Topic18\", \"Topic18\", \"Topic18\", \"Topic18\", \"Topic18\", \"Topic18\", \"Topic18\", \"Topic18\", \"Topic18\", \"Topic18\", \"Topic18\", \"Topic18\", \"Topic18\", \"Topic18\", \"Topic18\", \"Topic18\", \"Topic18\", \"Topic18\", \"Topic18\", \"Topic18\", \"Topic19\", \"Topic19\", \"Topic19\", \"Topic19\", \"Topic19\", \"Topic19\", \"Topic19\", \"Topic19\", \"Topic19\", \"Topic19\", \"Topic19\", \"Topic19\", \"Topic19\", \"Topic19\", \"Topic19\", \"Topic19\", \"Topic19\", \"Topic19\", \"Topic19\", \"Topic19\", \"Topic19\", \"Topic19\", \"Topic19\", \"Topic19\", \"Topic19\", \"Topic19\", \"Topic19\", \"Topic19\", \"Topic19\", \"Topic19\", \"Topic19\", \"Topic19\", \"Topic19\", \"Topic19\", \"Topic19\", \"Topic19\", \"Topic19\", \"Topic19\", \"Topic20\", \"Topic20\", \"Topic20\", \"Topic20\", \"Topic20\", \"Topic20\", \"Topic20\", \"Topic20\", \"Topic20\", \"Topic20\", \"Topic20\", \"Topic20\", \"Topic20\", \"Topic20\", \"Topic20\", \"Topic20\", \"Topic20\", \"Topic20\", \"Topic20\", \"Topic20\", \"Topic20\", \"Topic20\", \"Topic20\", \"Topic20\", \"Topic20\", \"Topic20\", \"Topic20\", \"Topic20\", \"Topic20\", \"Topic20\", \"Topic20\", \"Topic20\", \"Topic20\", \"Topic20\", \"Topic20\", \"Topic20\", \"Topic20\", \"Topic20\", \"Topic20\", \"Topic20\", \"Topic20\", \"Topic20\", \"Topic20\", \"Topic21\", \"Topic21\", \"Topic21\", \"Topic21\", \"Topic21\", \"Topic21\", \"Topic21\", \"Topic21\", \"Topic21\", \"Topic21\", \"Topic21\", \"Topic21\", \"Topic21\", \"Topic21\", \"Topic21\", \"Topic21\", \"Topic21\", \"Topic21\", \"Topic21\", \"Topic21\", \"Topic21\", \"Topic21\", \"Topic21\", \"Topic21\", \"Topic21\", \"Topic21\", \"Topic21\", \"Topic21\", \"Topic21\", \"Topic21\", \"Topic21\", \"Topic21\", \"Topic21\", \"Topic21\", \"Topic21\", \"Topic21\", \"Topic21\", \"Topic21\", \"Topic21\", \"Topic21\", \"Topic21\", \"Topic21\", \"Topic21\", \"Topic21\", \"Topic21\", \"Topic21\", \"Topic21\", \"Topic21\", \"Topic21\", \"Topic21\", \"Topic21\", \"Topic21\", \"Topic21\", \"Topic21\", \"Topic21\", \"Topic21\", \"Topic21\", \"Topic21\", \"Topic21\", \"Topic21\"], \"logprob\": [30.0, 29.0, 28.0, 27.0, 26.0, 25.0, 24.0, 23.0, 22.0, 21.0, 20.0, 19.0, 18.0, 17.0, 16.0, 15.0, 14.0, 13.0, 12.0, 11.0, 10.0, 9.0, 8.0, 7.0, 6.0, 5.0, 4.0, 3.0, 2.0, 1.0, -3.6906, -4.6105, -4.798, -4.8195, -4.9896, -5.0314, -5.0716, -5.1119, -5.1712, -5.1949, -5.2041, -5.2406, -5.2554, -5.2854, -5.3127, -5.323, -5.3936, -5.4221, -5.4713, -5.5095, -5.5104, -5.5346, -5.5716, -5.5824, -5.611, -5.6274, -5.6424, -5.6473, -5.7032, -5.7353, -4.1867, -4.0253, -5.4128, -4.8108, -4.3355, -4.2747, -5.4579, -5.169, -3.9447, -5.283, -4.9222, -5.3361, -5.1512, -5.114, -5.3474, -5.0196, -3.2973, -4.4714, -4.851, -4.8745, -4.9266, -4.9786, -5.0186, -5.0443, -5.2192, -5.2296, -5.2346, -5.4053, -5.4731, -5.4786, -5.4844, -5.4895, -5.493, -5.5199, -5.5141, -5.5292, -5.5445, -5.5495, -5.6825, -2.1037, -5.7578, -5.7825, -5.8405, -5.8797, -5.9605, -5.9737, -5.5174, -3.1841, -5.1753, -4.8008, -4.702, -4.9056, -4.3166, -4.4475, -4.764, -4.5672, -5.1364, -4.0698, -5.2831, -4.9638, -5.2163, -5.156, -5.3181, -5.2428, -5.3327, -4.2956, -4.5064, -4.525, -4.7723, -4.7784, -4.8006, -5.1773, -5.1854, -5.2435, -5.2701, -5.2803, -5.3586, -5.3801, -5.444, -5.4908, -5.532, -5.6142, -5.6512, -5.6674, -5.6867, -5.7673, -5.7859, -5.8623, -5.8653, -5.873, -5.8842, -5.9251, -5.9316, -5.9473, -5.9517, -4.6775, -3.9151, -4.0381, -4.7525, -5.3464, -5.6377, -5.5793, -5.5361, -5.5854, -5.2268, -5.3074, -5.1301, -4.8954, -4.9112, -5.4157, -5.4585, -5.073, -5.1526, -5.3075, -5.3973, -3.7271, -4.1601, -4.2849, -4.6097, -4.6284, -4.8033, -4.8341, -4.8504, -4.9417, -4.9752, -5.097, -5.1069, -5.1165, -5.1901, -5.1926, -5.4185, -5.4521, -5.4639, -5.4789, -5.536, -5.5521, -5.6766, -5.7235, -5.7592, -5.7804, -5.8351, -5.8672, -5.8977, -5.958, -5.9944, -4.5663, -4.543, -5.405, -4.4825, -4.8305, -4.7363, -5.1628, -4.9171, -4.1164, -4.6963, -4.3851, -4.8644, -4.5644, -5.0644, -5.1452, -5.0556, -4.8099, -5.0184, -4.966, -5.0714, -3.1922, -3.8158, -3.8399, -3.8507, -3.976, -4.307, -4.3509, -4.4644, -4.511, -4.5979, -4.6149, -4.7194, -4.7799, -4.7852, -4.8455, -5.0124, -5.0209, -5.0292, -5.0856, -5.1045, -5.142, -5.1486, -5.1753, -5.1834, -5.2444, -5.291, -5.2965, -5.3041, -5.38, -5.4155, -4.9407, -4.6772, -5.1078, -4.8241, -4.3503, -3.8598, -4.8831, -5.1199, -4.9404, -4.8299, -4.9713, -4.8465, -5.104, -3.9096, -4.3582, -4.4844, -4.5101, -4.5893, -4.7346, -4.7861, -4.8036, -4.8237, -4.8271, -4.9201, -4.9358, -4.9569, -4.9855, -5.0809, -5.1173, -5.1471, -5.2065, -5.2329, -5.2713, -5.2834, -5.3513, -5.3805, -5.4199, -5.4563, -5.4608, -5.5105, -5.5505, -5.5627, -5.5737, -4.928, -3.7111, -4.6481, -4.3934, -4.8336, -2.7517, -3.2973, -4.6864, -4.937, -5.1043, -5.1696, -5.2167, -3.6387, -4.0045, -4.3122, -4.3442, -4.3599, -4.7781, -4.7996, -4.8247, -4.852, -3.527, -4.9902, -5.0596, -5.0974, -5.1185, -5.1269, -5.1313, -5.1829, -5.1856, -5.2022, -5.2338, -4.405, -5.297, -5.3018, -5.3052, -5.3893, -5.4617, -5.5657, -5.7491, -5.7634, -4.7462, -2.5522, -4.3097, -4.9188, -2.987, -4.9306, -5.1439, -5.2066, -5.2845, -2.3688, -3.3697, -3.8832, -4.1248, -4.5703, -4.5721, -4.9712, -4.9749, -5.0771, -5.1565, -5.161, -5.2788, -4.4396, -5.5557, -5.5792, -5.5885, -5.6825, -5.7081, -5.7558, -5.7664, -5.8175, -5.8463, -5.8595, -5.8723, -5.8903, -5.908, -5.9917, -6.019, -6.0301, -6.0677, -4.2586, -3.904, -3.5667, -4.9204, -5.3566, -5.5566, -3.9643, -4.5063, -4.9687, -5.0656, -4.9487, -5.6305, -5.5888, -3.7879, -4.0676, -4.1161, -4.3911, -4.5587, -4.6874, -4.769, -4.9298, -4.9785, -5.052, -5.3392, -5.3713, -5.3864, -5.4763, -5.5251, -5.5364, -4.9267, -5.5871, -5.6091, -5.7019, -5.7064, -5.7431, -5.7561, -5.8884, -6.0095, -6.0161, -6.0409, -6.0548, -6.0634, -6.0857, -5.3091, -4.9145, -5.4489, -4.0687, -4.2443, -4.9247, -4.9838, -5.4817, -4.9907, -5.6688, -5.6863, -2.4628, -4.3912, -4.4316, -4.4609, -4.4842, -4.7268, -4.8148, -4.8317, -4.9053, -4.9348, -4.9747, -5.0258, -5.2342, -5.2529, -5.2848, -5.2893, -5.3421, -5.3855, -5.4136, -5.4427, -5.466, -5.4701, -5.5132, -5.5293, -5.5704, -5.6947, -5.7542, -5.7964, -5.8028, -5.8348, -4.9062, -4.0867, -4.4595, -5.4832, -5.088, -5.0835, -5.3707, -4.643, -5.4451, -2.4796, -3.696, -3.9632, -4.2876, -4.3024, -4.3094, -4.6829, -4.7914, -4.7927, -4.8144, -4.9, -4.9483, -5.0678, -5.2338, -5.4127, -5.4289, -5.4312, -5.4701, -5.5051, -5.5079, -5.6626, -5.6888, -5.8696, -5.8967, -5.9314, -5.9906, -6.0026, -6.0281, -6.0978, -6.1196, -4.797, -5.5899, -5.5651, -5.384, -5.6694, -5.687, -5.7654, -5.6341, -2.9043, -3.8352, -3.8773, -4.0417, -4.1113, -4.1844, -2.6417, -4.5079, -4.7647, -4.8687, -4.9533, -4.9808, -5.0781, -5.1899, -5.5401, -5.5514, -5.6438, -5.7135, -5.7188, -5.7271, -5.805, -5.8671, -5.8839, -5.8877, -5.9951, -6.1487, -6.2071, -6.2349, -6.4011, -6.4067, -4.8463, -4.6994, -5.586, -3.7432, -3.7442, -3.9833, -4.5265, -4.695, -4.7846, -4.8018, -4.8455, -4.9982, -5.0373, -5.1885, -5.2266, -5.2957, -5.3652, -5.4897, -5.6136, -5.6837, -5.7219, -5.7577, -5.7925, -5.8423, -5.8678, -5.9717, -6.0197, -6.0279, -6.034, -6.0695, -6.0746, -6.1632, -6.1701, -5.6341, -4.8629, -4.2862, -5.1349, -5.7317, -5.9842, -5.7154, -5.5888, -4.0995, -4.5245, -5.6343, -5.6759, -5.7272, -5.7939, -5.8014, -5.8328, -5.8533, -5.8567, -5.8995, -5.9319, -5.9406, -5.981, -6.0073, -6.0789, -6.355, -6.4122, -6.4297, -6.4384, -6.4611, -6.4862, -6.5207, -6.6078, -6.6823, -6.7583, -6.7995, -6.8204, -6.8238, -6.8321, -3.7514, -6.1128, -4.2708, -3.0033, -5.056, -4.9454, -5.0509, -4.8062, -5.4418, -5.8565, -4.9784, -5.3504, -5.8221, -5.1892, -5.4504, -5.3957, -5.6134, -5.7498, -5.7464, -5.7524, -5.8613, -5.8576, -4.4509, -4.5311, -4.5582, -4.7433, -4.7733, -4.8471, -5.1573, -5.3489, -5.6174, -5.6477, -5.6553, -5.7843, -5.7873, -5.7972, -5.9149, -5.9519, -5.9532, -6.0387, -6.1589, -6.16, -6.2567, -6.2623, -6.3393, -6.5156, -6.5257, -6.5557, -6.558, -6.5581, -6.5654, -6.6395, -4.7472, -4.6731, -5.9598, -5.8796, -5.7942, -6.1282, -5.787, -2.7358, -10.2461, -10.2462, -10.2462, -10.2463, -10.2463, -10.2463, -10.2463, -10.2463, -10.2463, -10.2463, -10.2463, -10.2463, -10.2463, -10.2463, -10.2463, -10.2463, -10.2463, -10.2463, -10.2463, -10.2463, -10.2463, -10.2463, -10.2463, -10.2463, -10.2463, -10.2463, -10.2463, -10.2463, -10.2463, -10.2463, -10.2463, -10.2463, -10.2463, -10.2463, -10.2463, -10.2463, -10.2463, -10.2463, -10.2463, -10.2459, -10.2463, -10.2463, -10.2463, -10.2463, -4.6392, -5.9703, -6.0773, -6.437, -6.8157, -6.8658, -6.8658, -6.8658, -6.8658, -6.8658, -6.8658, -6.8658, -6.887, -6.887, -6.8908, -6.8976, -5.8497, -7.5264, -7.5264, -7.5264, -7.5264, -7.5264, -7.5264, -7.5264, -7.5264, -7.5264, -7.5264, -7.5264, -7.5264, -7.5264, -6.8658, -6.8933, -6.8688, -6.7645, -7.0157, -6.9484, -7.0474, -7.3881, -4.4367, -4.9494, -5.4944, -5.5048, -5.5965, -5.777, -5.8078, -5.982, -6.0114, -6.4115, -6.4806, -6.8258, -6.8885, -6.891, -6.4107, -7.5147, -7.5147, -7.5147, -7.5147, -7.5147, -7.5147, -7.5147, -7.5147, -7.5147, -7.5163, -7.5163, -6.4816, -6.8704, -7.5148, -7.5612, -5.9273, -7.4271, -7.4977, -4.762, -4.9185, -5.013, -5.3467, -5.3496, -6.2487, -6.3853, -6.4443, -5.9536, -6.8025, -6.8062, -6.8387, -6.8583, -7.4996, -7.4996, -7.4996, -7.4996, -7.4996, -7.4996, -7.4996, -6.8791, -7.5702, -7.5742, -10.2298, -10.2299, -10.2299, -10.2299, -10.2299, -10.2299, -10.2299, -10.2299, -10.2299, -10.2298, -10.2298, -10.2295, -10.2299, -10.2299, -10.2298, -4.9756, -5.5746, -5.9649, -6.2462, -6.3571, -6.3588, -6.3963, -6.6674, -6.724, -6.7804, -6.8286, -6.8286, -7.4798, -7.4798, -7.4798, -7.4798, -7.4798, -7.4807, -7.4807, -10.2091, -10.2091, -10.2091, -10.2091, -10.2091, -10.2091, -10.2091, -10.2091, -10.2091, -10.2091, -10.2091, -10.2091, -10.2091, -10.2091, -10.2091, -10.2091, -10.2091, -10.2091, -10.2091, -10.2091, -10.2091, -10.2091, -10.2091, -10.2091, -10.1793, -10.1793, -10.1793, -10.1793, -10.1793, -10.1793, -10.1793, -10.1793, -10.1793, -10.1793, -10.1793, -10.1793, -10.1793, -10.1793, -10.1793, -10.1793, -10.1793, -10.1793, -10.1793, -10.1793, -10.1793, -10.1793, -10.1793, -10.1793, -10.1793, -10.1793, -10.1793, -10.1793, -10.1793, -10.1793, -10.1793, -10.1793, -10.1793, -10.1793, -10.1793, -10.1793, -10.1793, -10.1793, -10.1793, -10.1793, -10.1793, -10.1793, -10.1793, -10.1793, -10.1793, -10.1793, -10.1793, -10.1793, -10.1793, -10.1793, -10.1793, -10.1793, -10.1793, -10.1793, -10.1793, -10.1793, -10.1793, -10.1793, -10.1793, -10.1793], \"loglift\": [30.0, 29.0, 28.0, 27.0, 26.0, 25.0, 24.0, 23.0, 22.0, 21.0, 20.0, 19.0, 18.0, 17.0, 16.0, 15.0, 14.0, 13.0, 12.0, 11.0, 10.0, 9.0, 8.0, 7.0, 6.0, 5.0, 4.0, 3.0, 2.0, 1.0, 1.1212, 1.1206, 1.1203, 1.1203, 1.12, 1.12, 1.1199, 1.1198, 1.1197, 1.1197, 1.1197, 1.1196, 1.1195, 1.1195, 1.1194, 1.1194, 1.1192, 1.1192, 1.119, 1.1189, 1.1189, 1.1189, 1.1188, 1.1187, 1.1186, 1.1186, 1.1185, 1.1185, 1.1183, 1.1182, 1.1182, 1.0789, 1.099, 1.0395, 0.9358, 0.8513, 1.0782, 0.9777, 0.5474, 0.9562, 0.6454, 0.9364, 0.6882, 0.3381, 0.8236, -0.7589, 1.2508, 1.25, 1.2495, 1.2495, 1.2494, 1.2493, 1.2492, 1.2492, 1.2488, 1.2488, 1.2487, 1.2483, 1.2481, 1.2481, 1.2481, 1.248, 1.248, 1.2479, 1.2479, 1.2479, 1.2479, 1.2479, 1.2474, 1.2473, 1.2471, 1.247, 1.2467, 1.2466, 1.2462, 1.2461, 1.2361, 1.0767, 1.1972, 1.1491, 1.0937, 1.1216, 0.9867, 0.9929, 0.9766, 0.8447, 1.0309, 0.4224, 1.0714, 0.5682, 0.8097, 0.2961, 0.7716, 0.5327, 0.6902, 1.9742, 1.9738, 1.9737, 1.973, 1.973, 1.9729, 1.9715, 1.9714, 1.9712, 1.971, 1.971, 1.9705, 1.9704, 1.97, 1.9698, 1.9695, 1.9689, 1.9686, 1.9685, 1.9684, 1.9677, 1.9676, 1.9669, 1.9669, 1.9668, 1.9667, 1.9663, 1.9662, 1.9661, 1.966, 1.9407, 1.8949, 1.8705, 1.9006, 1.9286, 1.9469, 1.9224, 1.8735, 1.872, 1.6488, 1.6051, 1.4108, 1.1275, 0.9281, 1.4888, 1.5721, 0.1983, 0.4121, 0.8349, 0.6762, 2.9392, 2.9377, 2.9371, 2.9351, 2.935, 2.9336, 2.9333, 2.9332, 2.9324, 2.932, 2.9307, 2.9306, 2.9305, 2.9296, 2.9296, 2.9264, 2.9259, 2.9257, 2.9254, 2.9245, 2.9242, 2.9218, 2.9209, 2.9201, 2.9196, 2.9184, 2.9176, 2.9169, 2.9153, 2.9143, 2.884, 2.8636, 2.8885, 2.765, 2.7075, 2.5465, 2.7006, 2.5107, 1.9732, 2.2103, 1.8374, 1.9917, 1.509, 2.1287, 2.2434, 1.9996, 1.2017, 1.7878, 1.0761, 0.3807, 3.1212, 3.1194, 3.1193, 3.1193, 3.1187, 3.117, 3.1167, 3.1159, 3.1156, 3.1149, 3.1148, 3.1138, 3.1132, 3.1132, 3.1126, 3.1107, 3.1105, 3.1104, 3.1097, 3.1095, 3.1089, 3.1088, 3.1085, 3.1083, 3.1074, 3.1067, 3.1066, 3.1064, 3.1051, 3.1045, 3.0605, 2.9445, 2.9946, 2.8199, 2.4787, 1.9713, 2.8028, 2.9622, 2.0625, 1.3375, 1.9412, 0.6056, 1.7151, 3.2695, 3.2667, 3.2657, 3.2655, 3.2647, 3.2632, 3.2627, 3.2624, 3.2622, 3.2622, 3.261, 3.2608, 3.2605, 3.2601, 3.2587, 3.2581, 3.2576, 3.2566, 3.2561, 3.2554, 3.2552, 3.2539, 3.2533, 3.2524, 3.2516, 3.2515, 3.2504, 3.2494, 3.2491, 3.2488, 3.2301, 3.1794, 3.1798, 3.1484, 3.1735, 2.8131, 2.4783, 2.9043, 2.8423, 2.862, 2.9696, 2.7688, 3.3173, 3.3156, 3.3136, 3.3133, 3.3132, 3.3091, 3.3088, 3.3085, 3.3081, 3.3075, 3.3062, 3.3052, 3.3045, 3.3042, 3.304, 3.304, 3.3031, 3.303, 3.3027, 3.3021, 3.3013, 3.3009, 3.3008, 3.3007, 3.2989, 3.2973, 3.2947, 3.2894, 3.289, 3.2885, 3.2787, 3.2569, 3.2671, 3.1475, 3.2663, 2.766, 2.8693, 2.6301, 4.0137, 4.0098, 4.0057, 4.0029, 3.9957, 3.9957, 3.9859, 3.9858, 3.9826, 3.9799, 3.9797, 3.9753, 3.9696, 3.9626, 3.9614, 3.9609, 3.9556, 3.9541, 3.9512, 3.9505, 3.9472, 3.9453, 3.9444, 3.9435, 3.9422, 3.9409, 3.9346, 3.9325, 3.9316, 3.9285, 3.854, 3.834, 3.6489, 3.7206, 3.7309, 3.8068, 2.1702, 2.4346, 2.9411, 2.9007, 2.7086, 3.2112, 2.3371, 4.2498, 4.246, 4.2452, 4.2401, 4.2362, 4.2327, 4.2303, 4.2249, 4.2231, 4.2202, 4.2068, 4.2051, 4.2042, 4.199, 4.196, 4.1952, 4.193, 4.1919, 4.1904, 4.1837, 4.1834, 4.1806, 4.1796, 4.1685, 4.1571, 4.1564, 4.1539, 4.1525, 4.1516, 4.1492, 4.1074, 4.0822, 4.0445, 3.4691, 3.145, 3.5374, 3.4835, 3.7107, 2.8151, 2.3173, 1.6131, 4.4131, 4.3916, 4.3906, 4.3898, 4.3892, 4.3817, 4.3786, 4.3779, 4.375, 4.3738, 4.3721, 4.3698, 4.3592, 4.3581, 4.3563, 4.356, 4.3528, 4.3501, 4.3483, 4.3463, 4.3447, 4.3444, 4.3413, 4.3402, 4.3371, 4.327, 4.3217, 4.3178, 4.3172, 4.3141, 4.2741, 4.1947, 4.0923, 4.2511, 4.1248, 3.9822, 4.0821, 2.3252, 3.3872, 4.7574, 4.7447, 4.7392, 4.7304, 4.7299, 4.7297, 4.715, 4.7097, 4.7097, 4.7085, 4.7038, 4.701, 4.6934, 4.6814, 4.6662, 4.6647, 4.6645, 4.6608, 4.6573, 4.657, 4.6404, 4.6374, 4.6143, 4.6105, 4.6055, 4.5967, 4.5948, 4.5909, 4.5795, 4.5758, 4.2939, 4.2664, 4.148, 3.8232, 4.1709, 3.7293, 3.7309, 2.7059, 4.8745, 4.8604, 4.8594, 4.8551, 4.8531, 4.8508, 4.848, 4.8384, 4.8256, 4.8194, 4.8139, 4.812, 4.805, 4.796, 4.7614, 4.7601, 4.7489, 4.7398, 4.7391, 4.738, 4.7271, 4.7178, 4.7152, 4.7147, 4.6972, 4.6693, 4.6578, 4.6521, 4.6154, 4.614, 3.515, 3.0386, 0.8947, 4.8804, 4.8804, 4.8745, 4.8551, 4.8467, 4.8416, 4.8406, 4.8379, 4.8277, 4.8249, 4.8128, 4.8095, 4.8032, 4.7964, 4.7832, 4.7685, 4.7595, 4.7543, 4.7493, 4.7443, 4.7369, 4.7329, 4.716, 4.7077, 4.7062, 4.7052, 4.6987, 4.6978, 4.6808, 4.6794, 4.5905, 4.3443, 4.1864, 4.2412, 3.9814, 4.5686, 3.5372, 2.321, 5.3144, 5.2892, 5.1527, 5.1447, 5.1344, 5.1204, 5.1187, 5.1118, 5.1072, 5.1064, 5.0966, 5.0889, 5.0868, 5.0769, 5.0702, 5.0515, 4.9697, 4.9507, 4.9448, 4.9418, 4.9339, 4.9251, 4.9127, 4.8802, 4.8509, 4.8198, 4.8023, 4.7932, 4.7917, 4.7881, 4.7159, 4.7638, 4.6643, 3.931, 4.381, 3.7827, 3.4838, 3.1354, 3.7758, 4.1885, 2.9595, 2.5827, 3.607, 2.1068, 2.51, 1.865, 1.7962, 2.6423, 2.5322, 2.1417, 2.6009, 0.7955, 5.7604, 5.7515, 5.7483, 5.7245, 5.7202, 5.7093, 5.6555, 5.6147, 5.5467, 5.5381, 5.5359, 5.4971, 5.4962, 5.4931, 5.4542, 5.4414, 5.4409, 5.41, 5.3636, 5.3632, 5.3233, 5.321, 5.2875, 5.2053, 5.2004, 5.1856, 5.1845, 5.1844, 5.1808, 5.143, 4.9152, 3.6346, 4.595, 3.9356, 3.3768, 3.8023, 1.981, 6.7459, 2.1713, 2.1713, 2.1713, 2.1712, 2.1712, 2.1712, 2.1712, 2.1712, 2.1712, 2.1712, 2.1712, 2.1712, 2.1712, 2.1712, 2.1712, 2.1712, 2.1712, 2.1712, 2.1712, 2.1712, 2.1712, 2.1712, 2.1712, 2.1712, 2.1712, 2.1712, 2.1712, 2.1712, 2.1712, 2.1712, 2.1712, 2.1712, 2.1712, 2.1712, 2.1712, 2.1712, 2.1711, 2.1712, 2.1711, 2.1664, 2.1711, 2.1709, 2.1708, 2.1711, 6.7111, 6.0426, 5.9704, 5.7103, 5.411, 5.3697, 5.3697, 5.3697, 5.3697, 5.3697, 5.3697, 5.3697, 5.3522, 5.3522, 5.349, 5.3433, 5.299, 4.7961, 4.7961, 4.7961, 4.7961, 4.7961, 4.7961, 4.7961, 4.7961, 4.7961, 4.7961, 4.7961, 4.7961, 4.7961, 4.0335, 3.6905, 3.1564, 2.7664, 2.2842, 1.6223, 2.1049, 3.9121, 6.7758, 6.5941, 6.3316, 6.3258, 6.2742, 6.1665, 6.1473, 6.0349, 6.0153, 5.7297, 5.6772, 5.4028, 5.351, 5.3489, 4.8863, 4.8067, 4.8067, 4.8067, 4.8067, 4.8067, 4.8067, 4.8067, 4.8067, 4.8067, 4.8053, 4.8053, 4.2303, 4.0481, 3.9794, 3.8458, 3.0463, 3.1389, 2.628, 6.945, 6.8653, 6.8143, 6.6166, 6.6148, 5.9613, 5.8494, 5.8002, 5.536, 5.4922, 5.4889, 5.4603, 5.4429, 4.8569, 4.8569, 4.8569, 4.8569, 4.8569, 4.8569, 4.8569, 3.7296, 3.5184, 2.7751, 2.1877, 2.1877, 2.1877, 2.1877, 2.1877, 2.1877, 2.1877, 2.1877, 2.1877, 2.1876, 2.1876, 2.1828, 2.1876, 2.1876, 2.1873, 6.9451, 6.5414, 6.2398, 6.0074, 5.9128, 5.9113, 5.879, 5.6406, 5.5899, 5.5391, 5.4955, 5.4955, 4.8894, 4.8894, 4.8894, 4.8894, 4.8894, 4.8886, 4.8886, 2.2084, 2.2084, 2.2084, 2.2084, 2.2084, 2.2084, 2.2084, 2.2084, 2.2084, 2.2084, 2.2084, 2.2084, 2.2084, 2.2084, 2.2084, 2.2084, 2.2084, 2.2084, 2.2084, 2.2084, 2.2081, 2.2032, 2.208, 2.2083, 2.2382, 2.2382, 2.2382, 2.2382, 2.2382, 2.2382, 2.2382, 2.2382, 2.2382, 2.2382, 2.2382, 2.2382, 2.2382, 2.2382, 2.2382, 2.2382, 2.2382, 2.2382, 2.2382, 2.2382, 2.2382, 2.2382, 2.2382, 2.2382, 2.2382, 2.2382, 2.2382, 2.2382, 2.2382, 2.2382, 0.2453, -0.1351, -2.1248, -4.8744, -0.5339, -3.5611, -5.0533, 2.2382, 2.2382, -1.8713, 2.2382, -5.6872, -1.7441, -3.7472, -3.0791, -0.5631, -2.8965, -4.7675, -4.0369, -0.5738, -5.9186, -2.0007, -1.119, -3.55, -0.7131, 0.9081, 0.2658, -1.365, -1.984, 2.2382]}, \"token.table\": {\"Topic\": [1, 4, 5, 2, 3, 3, 3, 6, 3, 5, 3, 7, 12, 10, 2, 6, 4, 15, 1, 2, 14, 1, 4, 6, 1, 14, 1, 14, 9, 18, 1, 2, 4, 1, 13, 13, 7, 2, 14, 11, 6, 10, 1, 13, 5, 8, 1, 15, 10, 13, 11, 10, 11, 11, 16, 18, 2, 3, 8, 1, 9, 14, 3, 10, 14, 1, 11, 2, 5, 8, 13, 10, 6, 7, 10, 13, 1, 2, 4, 5, 7, 2, 6, 7, 5, 1, 3, 9, 2, 6, 9, 11, 8, 13, 15, 7, 9, 1, 2, 1, 8, 7, 13, 4, 4, 1, 1, 19, 13, 4, 2, 1, 13, 6, 7, 11, 3, 8, 15, 7, 8, 6, 9, 3, 4, 10, 7, 5, 1, 7, 15, 1, 15, 5, 15, 1, 2, 8, 2, 5, 2, 3, 6, 3, 5, 14, 4, 2, 3, 9, 1, 5, 1, 12, 3, 12, 2, 2, 8, 18, 3, 3, 8, 12, 3, 7, 11, 2, 4, 5, 5, 1, 8, 11, 7, 3, 5, 12, 5, 8, 7, 8, 7, 13, 11, 1, 7, 12, 5, 4, 6, 15, 3, 3, 9, 12, 1, 15, 7, 9, 6, 13, 15, 12, 5, 10, 6, 4, 15, 15, 13, 18, 5, 5, 4, 9, 5, 12, 2, 3, 6, 1, 3, 1, 1, 9, 15, 6, 3, 7, 15, 2, 15, 14, 4, 8, 3, 4, 14, 3, 8, 12, 8, 1, 2, 3, 4, 1, 2, 3, 4, 15, 4, 14, 8, 4, 7, 4, 14, 7, 11, 8, 9, 6, 8, 8, 14, 15, 3, 6, 13, 10, 13, 7, 3, 11, 13, 5, 14, 12, 11, 3, 6, 11, 4, 4, 14, 5, 8, 10, 9, 13, 4, 8, 12, 12, 12, 4, 5, 11, 14, 10, 5, 6, 8, 19, 3, 9, 14, 3, 2, 3, 10, 4, 1, 2, 4, 8, 1, 3, 8, 1, 3, 3, 15, 9, 13, 4, 7, 12, 14, 1, 2, 9, 8, 2, 3, 14, 9, 13, 5, 6, 6, 3, 7, 7, 13, 2, 3, 9, 15, 6, 1, 2, 5, 1, 3, 4, 3, 5, 1, 3, 1, 2, 12, 1, 1, 13, 8, 14, 12, 5, 11, 3, 8, 3, 4, 9, 14, 4, 14, 2, 5, 6, 1, 1, 2, 4, 5, 12, 2, 4, 10, 1, 3, 13, 2, 4, 3, 3, 8, 6, 13, 9, 9, 2, 9, 9, 12, 11, 13, 10, 9, 10, 14, 1, 7, 10, 6, 1, 2, 3, 4, 5, 9, 2, 12, 12, 7, 3, 8, 1, 2, 3, 1, 8, 10, 13, 7, 14, 12, 10, 9, 11, 3, 3, 2, 3, 9, 12, 3, 2, 10, 3, 5, 13, 1, 8, 3, 14, 5, 3, 10, 3, 8, 3, 2, 11, 2, 5, 6, 3, 10, 13, 11, 9, 2, 14, 1, 2, 13, 2, 3, 14, 3, 14, 7, 2, 1, 14, 2, 3, 6, 6, 1, 2, 4, 9, 8, 10, 15, 9, 14, 14, 1, 14, 3, 5, 9, 14, 7, 3, 6, 6, 7, 13, 6, 15, 7, 2, 10, 15, 4, 7, 6, 6, 3, 7, 7, 7, 6, 3, 4, 4, 6, 10, 5, 6, 9, 15, 13, 13, 2, 5, 15, 1, 2, 6, 5, 1, 5, 2, 13, 4, 5, 3, 6, 1, 10, 4, 9, 11, 6, 10, 4, 1, 2, 3, 4, 5, 8, 2, 2, 4, 8, 3, 14, 1, 2, 9, 1, 3, 4, 6, 15, 11, 1, 3, 10, 4, 10, 15, 1, 2, 1, 9, 14, 1, 2, 3, 4, 1, 4, 3, 10, 5, 1, 12, 8, 9, 10, 19, 5, 12, 3, 14, 13, 9, 10, 11, 7, 11, 6, 6, 9, 11, 13, 2, 7, 15, 3, 4, 3, 4, 7, 11, 14, 11, 2, 9, 3, 4, 1, 4, 11, 10, 17, 1, 4, 14, 14, 4, 5, 10, 7, 8, 11, 14, 15, 9, 2, 15, 1, 3, 2, 1, 2, 9, 2, 2, 9, 3, 4, 3, 5, 14, 4, 14, 14, 2, 4, 5, 3, 14, 8, 4, 7, 11, 12, 15, 3, 2, 3, 6, 1, 2, 1, 3, 4, 2, 4, 5, 1, 14, 18, 8, 3, 1, 8, 15, 1, 10, 8, 1, 9, 15, 6, 8, 8, 9, 5, 2, 2, 9, 5, 7, 15, 10, 1, 2, 12, 6, 7, 9, 9, 3, 4, 5, 6, 10, 1, 4, 8, 2, 13, 1, 2, 2, 11, 6, 1, 2, 4, 12, 7, 10, 2, 9, 1, 1, 3, 11, 14, 8, 7, 13, 5, 6, 11, 7, 8, 13, 7, 6, 3, 6, 7, 13, 11, 3, 8, 9, 10, 15, 10, 9, 6, 12, 9, 7, 4, 11, 4, 11, 6, 11, 8, 2, 8, 12, 11, 6, 14, 7, 4, 7, 1, 4, 10, 2, 1, 2, 3, 9, 9, 10, 6, 2, 1, 4, 8, 2, 4, 10, 15, 1, 2, 5, 4, 15, 15, 2, 3, 4, 6, 10, 1, 6, 10, 15, 13, 5, 1, 9, 1, 2, 14, 12, 12, 1, 3, 14, 1, 14, 14, 8, 8, 9, 7, 13, 13, 12, 11, 2, 2, 1, 3, 4, 9, 12, 1, 15, 4, 2, 3, 3, 1, 2, 5, 3, 5, 14, 2, 11, 11, 1, 8, 10, 11, 3, 1, 5, 10, 1, 3, 6, 1, 14, 5, 9, 14, 14, 6, 12, 5, 3], \"Freq\": [0.9985012589731467, 0.7860045098737162, 0.1989884835123332, 0.9980053980265684, 0.8895437591553237, 0.6923607813349996, 0.9105955879097911, 0.9812906399076042, 0.9625794591387671, 0.9791308276552755, 0.00984646602442066, 0.9846466024420659, 0.9464882897416124, 0.9375239414456319, 0.9915270418289975, 0.9967284164687006, 0.8920676273868591, 0.6656786055711503, 0.13478394412239536, 0.7008765094364559, 0.16174073294687444, 0.9757337663513808, 0.38907392527428836, 0.6069553234278898, 0.92595013752553, 0.060718041804952785, 0.9505904820270217, 0.03335405200094813, 0.8367597753195725, 0.727873053088889, 0.12073935157096966, 0.4879882125993357, 0.3873720862901943, 0.7184104247470898, 0.2763117018258038, 0.9284235137287823, 0.9779356468723103, 0.7470203609601103, 0.21343438884574578, 0.8604342166333563, 0.21242825941314025, 0.7434989079459908, 0.7298929568970972, 0.21896788706912915, 0.9327883544815209, 0.04742991632956886, 0.8807093962496099, 0.10740358490848902, 0.921660263134914, 0.7294519755412923, 0.9815167345874205, 0.952845319449834, 0.9614883826067394, 0.06949171446625592, 0.9033922880613269, 0.784623433685753, 0.27700672230606416, 0.7232953304658342, 0.9575264633254016, 0.9990497540688932, 0.6102526437600204, 0.36615158625601224, 0.9933807716981979, 0.919587129757303, 0.6721791384339999, 0.9974360156415679, 0.9188258888031657, 0.9954551609114471, 0.8746648319570431, 0.10495977983484518, 0.9677787692441723, 0.9693201378918967, 0.9785377951461343, 0.9823774318031334, 0.9563166148744162, 0.9635425172357205, 0.4894341739815462, 0.05243937578373709, 0.040786181165128846, 0.34376924124894315, 0.06991916771164945, 0.9985346046751901, 0.01634873102486403, 0.9645751304669778, 0.9779618037964705, 0.8307477403282763, 0.15436191120964593, 0.01403290101905872, 0.10985385874105054, 0.8788308699284043, 0.7733673680924547, 0.14061224874408268, 0.9869274911456305, 0.7578615698250639, 0.7474821090370518, 0.9771739238847177, 0.011773179805839973, 0.9961761523391877, 0.003199709268755421, 0.9981570843682179, 0.9882303909269342, 0.9880904775007108, 0.7983593511895106, 0.9655745523079172, 0.9813734355526503, 0.9985656096358347, 0.9959222104670153, 0.7254757044848646, 0.8510913339569547, 0.9809871115477642, 0.998941793643394, 0.9958152486939997, 0.774935311867322, 0.7441702188260855, 0.25410690398939506, 0.8565012882248841, 0.9887799996095124, 0.9705785764043415, 0.8405869888077223, 0.9716174783388644, 0.8984335829480298, 0.980090506572431, 0.8680176661761899, 0.8103956574539446, 0.16766806705943682, 0.9613018725666359, 0.9884418660337371, 0.9892742200259034, 0.9974462129807585, 0.9499423117586969, 0.5348491637005625, 0.9981229871838843, 0.6689093960214593, 0.7760337422397638, 0.09700421777997048, 0.0955347537382965, 0.9024985246766732, 0.9029185522566838, 0.9997558830581879, 0.988157174463805, 0.48835673998228696, 0.059763936711119035, 0.4507908369067264, 0.9967980488160396, 0.9941942961629149, 0.5789877106951031, 0.9760786155865415, 0.5707431044639353, 0.4286040171453307, 0.8921784961265598, 0.9988068941788012, 0.9983001616196755, 0.9952462614121678, 0.8377743162637191, 0.9930886506016983, 0.6448825015027907, 0.996479901110611, 0.9948356630139799, 0.8881873425914182, 0.7575877494673371, 0.9954741465212367, 0.9847072507857921, 0.42690747828264164, 0.9245259283727529, 0.9916652394511466, 0.9743455992224297, 0.7751057643946118, 0.7133593137099349, 0.2544204606371168, 0.7411378635950794, 0.9827978353600773, 0.9976675774420081, 0.5858398202542229, 0.3254665668079016, 0.9814560654171076, 0.2946383045630706, 0.4306252143614109, 0.24930933463029048, 0.9871233886079787, 0.9568363325805995, 0.4110220452243451, 0.4110220452243451, 0.4377011608303878, 0.5002298980918718, 0.9939720933994307, 0.9971157139658322, 0.9421156914794019, 0.03845370169303681, 0.9944808929665717, 0.9909573170313325, 0.9941157686834123, 0.4968049352089299, 0.9976350836665715, 0.9498861571149096, 0.047974048339136856, 0.9395986404498794, 0.6096730161375019, 0.20322433871250065, 0.9508680316895435, 0.038034721267581735, 0.9758182692498206, 0.7331052277419052, 0.8142493031952954, 0.9527066733016539, 0.980590053077043, 0.9539530280947008, 0.9936720713607587, 0.9920806472657003, 0.9512503677498313, 0.5683549804578957, 0.8549463547559458, 0.7244653939150247, 0.9748071402607437, 0.9843272544160445, 0.9917283551264837, 0.9405745809889515, 0.976159613510657, 0.9559657339727851, 0.031239652502586753, 0.05727269625474238, 0.9111565313254469, 0.42947174268830185, 0.5689582915956135, 0.996368431761385, 0.9822811285448376, 0.47652823995664156, 0.7890739386348568, 0.9802868113523039, 0.3577705576097265, 0.6303576491218991, 0.9176036372276128, 0.5827482905570579, 0.41624877896932705, 0.5870256560221996, 0.9929514290075725, 0.9370544386358087, 0.9012857104434117, 0.061252426923338654, 0.02625104011000228, 0.963730025490092, 0.031727737464694386, 0.9180686868589074, 0.9299769599381364, 0.37475442738600684, 0.5045800683018735, 0.0655820247925512, 0.053536346769429546, 0.7633967063888231, 0.22206282697525345, 0.014269097315678936, 0.9904094012038718, 0.6522886694178138, 0.9987604300891516, 0.9684894233056486, 0.9934253364290204, 0.9936789166027209, 0.9907783729051233, 0.9837354744180682, 0.8785199333443366, 0.5175331254937864, 0.9465005155794094, 0.9590712562763326, 0.974605873181423, 0.14138162607036733, 0.8482897564222039, 0.2803851439224982, 0.5607702878449964, 0.6664743222293574, 0.07977050268946417, 0.9040656971472607, 0.9731456808742357, 0.20280524599090458, 0.8112209839636183, 0.9821700659031617, 0.9976927916123493, 0.369654757467856, 0.580886047449488, 0.9963196245152093, 0.9739485016192346, 0.9814314557951216, 0.9310041556752079, 0.46594157525181873, 0.37719079901337704, 0.1331261643576625, 0.9926074531619206, 0.9795224810524992, 0.9002935182896995, 0.9925401084167303, 0.24676786253230404, 0.7128849362044339, 0.9940346940700591, 0.9347150662723908, 0.9790082885578452, 0.8384692442931874, 0.15797246631610776, 0.922327176791172, 0.9679048775899532, 0.20214343296809167, 0.10107171648404584, 0.606430298904275, 0.5654157520722095, 0.9351459007787427, 0.9964240624886236, 0.6565600378596159, 0.3206455998849287, 0.6946272770108193, 0.4261667882611016, 0.47630405746829, 0.07520590381078263, 0.9890577046701419, 0.9965809487601265, 0.8595273223088378, 0.12892909834632565, 0.9628264658234552, 0.12370052425280725, 0.853707843434867, 0.020907130859629395, 0.9891785748046067, 0.9995753099685162, 0.12348073496514365, 0.8026247772734337, 0.8301795940955194, 0.16912975581573314, 0.9959223245925007, 0.6556547998375141, 0.9166701412062789, 0.9197982632699581, 0.9478510159802882, 0.05468371246040125, 0.9326370421042953, 0.46389310280323054, 0.5630360364641107, 0.4367077829045162, 0.8507065402353817, 0.9756434368743747, 0.2979373030318828, 0.5809777409121715, 0.10427805606115899, 0.831931322286096, 0.8141214599534935, 0.9933687962786042, 0.9963074130662677, 0.9786222575416919, 0.8994888037699217, 0.09178457181325732, 0.976177544363286, 0.9087457989352444, 0.35266330272346985, 0.5720982466402955, 0.07053266054469397, 0.5665404993179854, 0.9841912472263796, 0.7429431921884048, 0.14453161076702756, 0.11156826094296864, 0.9580978857727668, 0.041011475984808775, 0.9937221279556511, 0.9937027298253523, 0.9857599841206421, 0.3294305888891267, 0.6648508248489648, 0.013620919665277027, 0.9852465224550383, 0.8497087655325817, 0.9976303506174797, 0.9953703102502172, 0.9722627703552689, 0.915620556423782, 0.6519988794401963, 0.9872711704569059, 0.9878448022144377, 0.9820597634509078, 0.9959260502880941, 0.9751069403499472, 0.9281031602740982, 0.04517316266820832, 0.016426604606621206, 0.012319953454965905, 0.9832444748645268, 0.4612498938674186, 0.9982536527267759, 0.8329259609904696, 0.151441083816449, 0.9987637738013224, 0.4571989661980065, 0.38429426618264867, 0.0766117186602065, 0.08031873730505519, 0.8524361758524373, 0.6194548309193934, 0.37868559475072344, 0.9955462055629638, 0.8661406245548744, 0.13363312493132348, 0.960072538829152, 0.2066410715976957, 0.7852360720712437, 0.9992943878442397, 0.8064764848064765, 0.19062171459062172, 0.9705016276568856, 0.9016861964458821, 0.9277007122659392, 0.8645746642721436, 0.5983709989509317, 0.359022599370559, 0.8753214318231376, 0.6476576448981722, 0.9479459335836783, 0.754691630472115, 0.9672814125745374, 0.5723433341363223, 0.3642184853594779, 0.5406401952819481, 0.9540003161921532, 0.978220843796237, 0.946112961921267, 0.9962466777515729, 0.44319515518530717, 0.09077491130301472, 0.13349251662208048, 0.33106144122275954, 0.12835543350342002, 0.8557028900228001, 0.9958014941298099, 0.9295059829214365, 0.9781782165380207, 0.9922067580323549, 0.96940482626152, 0.020847415618527314, 0.6213258328928485, 0.29540714822807307, 0.08321328119100649, 0.9989343529441013, 0.9581472561014176, 0.8739688196167232, 0.10281986113137921, 0.9706905887480999, 0.4559499443863727, 0.9896321847041841, 0.9658248621757533, 0.9354625863960708, 0.9882815656394415, 0.9270345232593088, 0.9980967351203465, 0.30010535584589915, 0.3687008657535332, 0.3258286720612619, 0.7932102167242503, 0.9931142129504024, 0.5847406212728351, 0.29237031063641755, 0.6919531053850251, 0.30871753932562657, 0.9592252645981609, 0.3026923042622745, 0.691868124028056, 0.9982988657218869, 0.8733482946711385, 0.9921603266012222, 0.9944463133096016, 0.9715165640924802, 0.6931527122160054, 0.967079674853541, 0.9952585573821613, 0.9965453508354182, 0.8838779412580194, 0.9989695932093762, 0.07952141576295564, 0.9065441396976943, 0.9935069056260766, 0.9080210055668213, 0.9392999601112625, 0.8084443197083965, 0.936692786786097, 0.4827482053484362, 0.4827482053484362, 0.003778776813226319, 0.9960855679664578, 0.8329476583073406, 0.5311657339447892, 0.42961934363181475, 0.039056303966528615, 0.9873241645790006, 0.7690596032831207, 0.9762462525018779, 0.9984260683745599, 0.7561687654519959, 0.23936277467545192, 0.15904481356886807, 0.20883275520781808, 0.6306472607600334, 0.9953344174899573, 0.4389186446808485, 0.38486462439995583, 0.17513502571009226, 0.9711406482076754, 0.2700580958912413, 0.7426597637009136, 0.928724355919223, 0.45358304268764593, 0.5291802164689202, 0.8285955260451204, 0.9305393418686355, 0.05908186297578639, 0.2289548969289409, 0.4579097938578818, 0.06541568483684025, 0.19624705451052074, 0.9856216780349347, 0.34195599770621415, 0.6459168845561822, 0.9839855371659327, 0.14607803982061615, 0.7303901991030808, 0.9808568348090374, 0.93142366302371, 0.9770435627965421, 0.7943308855042557, 0.1672275548430012, 0.5936574807962646, 0.05118856197613009, 0.9418695403607936, 0.9841773802492776, 0.989847283231704, 0.039705102605824015, 0.9583367947132978, 0.9841843601055956, 0.9756241696659227, 0.9615730997043276, 0.32374480930415855, 0.6706142478443284, 0.7361050300450295, 0.98843235296438, 0.9156006226562315, 0.993625463739798, 0.9658770028760681, 0.9193666778714308, 0.04838771988797004, 0.5199334329614875, 0.9793100054835531, 0.7513164897060209, 0.21287300541670595, 0.0250438829902007, 0.23213443387419605, 0.7677473707490613, 0.989215324783321, 0.9843573690446029, 0.7514339540895986, 0.24239804970632212, 0.5066581388999047, 0.4813252319549095, 0.26531381862676084, 0.7267291553689535, 0.30413527229231296, 0.6921699300445744, 0.9963090486251361, 0.9779815150773796, 0.993052445851936, 0.9633752912720687, 0.9754063557007158, 0.18832296651705624, 0.7951414141831263, 0.9885682444522199, 0.4324420776131635, 0.24742819904670696, 0.12037047521191149, 0.15380671832633136, 0.04458165748589314, 0.9473216326554873, 0.9932512761988178, 0.6053205463332755, 0.12330603721603758, 0.26903135392590016, 0.5980803434943235, 0.3987202289962156, 0.049629186684572155, 0.9460563711746567, 0.9908255552263545, 0.9979113649684348, 0.34923693020956803, 0.4815236461980407, 0.16403552782570618, 0.47040295964680434, 0.7984758209289525, 0.6479342627990916, 0.3512677323601817, 0.9209275467037085, 0.9916127268287369, 0.9833611728840552, 0.8480101187113654, 0.16145143876519938, 0.8346734758804647, 0.9090554725720077, 0.04261197527681286, 0.04261197527681286, 0.07360231651395152, 0.4140130303909773, 0.2714085421451963, 0.23920752867034245, 0.9981714743770338, 0.979231816981422, 0.9956352894310079, 0.9479539669470317, 0.9963702289379079, 0.9982316515529824, 0.8640694335660213, 0.996285703784332, 0.9796503292385824, 0.9569551219609583, 0.6432099525051594, 0.9891239446360545, 0.8312485763933415, 0.6433979516663202, 0.21446598388877341, 0.9150022110181821, 0.14102557915168737, 0.4935895270309058, 0.3525639478792184, 0.9913541627373653, 0.9211329050919487, 0.9894614994862827, 0.9617535999260266, 0.03699052307407795, 0.5255006268905307, 0.4379171890754422, 0.997230619459251, 0.9261967532424339, 0.8422999596895183, 0.8992555890403132, 0.09948380703049019, 0.922490722170236, 0.026508354085351606, 0.05124948456501311, 0.9586420868879514, 0.5166992674362866, 0.9421795986171277, 0.8409691926262775, 0.14016153210437957, 0.1562494300237453, 0.8407707425087247, 0.5496994033676135, 0.44398797964307246, 0.9189993199589298, 0.9323971989685386, 0.4502691504975049, 0.6795570282048317, 0.3158504497290063, 0.5897653516015403, 0.6477057730708318, 0.6505482517365961, 0.285171836377686, 0.05346971932081612, 0.8410426347904703, 0.1589179397133156, 0.8667044506337659, 0.4785367699113064, 0.763892648854135, 0.8613935103651396, 0.8658925863561706, 0.10186971604190243, 0.9977448602648434, 0.9931576357582897, 0.9952527986766445, 0.33351348719888685, 0.6658400936604111, 0.952119508804801, 0.9961566292039111, 0.1302077268319923, 0.84635022440795, 0.9880521903644466, 0.995347498906052, 0.1371417870202315, 0.857136168876447, 0.4708423822772351, 0.9768363868986824, 0.7952526896838987, 0.4892414985933712, 0.8034261533790537, 0.02779147071436978, 0.16674882428621868, 0.9933938508320461, 0.5858867695344276, 0.8892690471593852, 0.9858865182202378, 0.9942902083754215, 0.9413880642040938, 0.8498531998756053, 0.6664354552920101, 0.9875420850721562, 0.9979096751736932, 0.956096999986059, 0.03824387999944236, 0.22716158325404265, 0.7718608635298654, 0.6234977445313328, 0.3203743351346769, 0.05668161313921207, 0.454296766469641, 0.38676616604847813, 0.15347863732082467, 0.7911522408667001, 0.19778806021667503, 0.546209310657937, 0.9666219531917356, 0.9498256671566648, 0.7885499506566457, 0.20808957031217037, 0.5352331375288848, 0.9969605351737796, 0.8957544980542387, 0.9408617250399683, 0.661898225329616, 0.165474556332404, 0.165474556332404, 0.5130046450546902, 0.4397182671897345, 0.9509938099398361, 0.0237748452484959, 0.9969676828996114, 0.9928742072799801, 0.9982573267232421, 0.9865807830336328, 0.9822545201716736, 0.9951960820727874, 0.47000869502519566, 0.8812043346843912, 0.7015763885839175, 0.2799393471689523, 0.017280206615367426, 0.3121076421006879, 0.44215249297597453, 0.23408073157551593, 0.9452681471901029, 0.21054302968902674, 0.09303064102538391, 0.523909399458741, 0.17137223346781247, 0.9003163752943462, 0.9769774715826124, 0.021393667260933117, 0.9839575048568221, 0.9948218299476856, 0.9352927852872435, 0.2390866332619779, 0.7601306064398056, 0.9974305012320627, 0.9608294370623698, 0.9948714463163173, 0.847024880564243, 0.15203010676794104, 0.9531039246059821, 0.04236017442693254, 0.08945491246332132, 0.8050942121698919, 0.537169692535293, 0.45758899734487923, 0.9438198546240576, 0.9985728355412964, 0.9921741210718461, 0.9647587193199177, 0.6855159038055734, 0.9904643271242487, 0.9720056743319212, 0.9430367574808767, 0.9805869444061155, 0.9927124944226898, 0.9633290178768966, 0.5772193101702756, 0.34633158610216536, 0.07215241377128445, 0.9809020158287068, 0.9602159833246985, 0.05799653316850564, 0.43497399876379234, 0.5074696652244244, 0.8186387720325022, 0.839705667832485, 0.9837614157413422, 0.10885911326447814, 0.21771822652895628, 0.43543645305791256, 0.10885911326447814, 0.9490565561572734, 0.9580997196103802, 0.9821963572283301, 0.9343088973425777, 0.885553030224506, 0.9782905486424137, 0.9692369421834867, 0.9222350177569376, 0.39783777471608556, 0.5967566620741284, 0.3290637243851423, 0.6111183452866928, 0.9222143500792267, 0.2398442994657919, 0.7495134358305996, 0.9485090276068022, 0.8969675446772336, 0.9833708882559948, 0.7227525399109748, 0.9866990437975842, 0.924727493769172, 0.06979075424672995, 0.4969424872348605, 0.4969424872348605, 0.9448861118252933, 0.9996607654078972, 0.1524149199115975, 0.8397836843405014, 0.007508124133576231, 0.9298503842152348, 0.9838874595309819, 0.9573940374052466, 0.9741791127837173, 0.9972509329485075, 0.9571380737775896, 0.04018518630363926, 0.975114115687548, 0.9964368981633447, 0.9930971217483286, 0.9656194075518748, 0.7680386315123952, 0.22924323907504712, 0.45487634840088087, 0.3158863530561673, 0.9728468540047841, 0.7645997601405422, 0.6936806642070622, 0.8784159178054877, 0.09882179075311735, 0.02196039794513719, 0.32088096943128436, 0.6417619388625687, 0.8385029409082624, 0.03376521909697701, 0.12380580335558236, 0.8648792514962094, 0.8823651078295135, 0.9978137994683183, 0.999287390091514, 0.9790789298614733, 0.9973739019832024, 0.9650875160786458, 0.030158984877457683, 0.9204627650058914, 0.794621848393263, 0.7511046434718214, 0.18777616086795534, 0.06259205362265177, 0.9998496032619996, 0.8777598516625404, 0.6319122387354419, 0.9868723411616224, 0.9734791043075198, 0.9648179998391847, 0.9922827821509177, 0.9682124649928128, 0.7245344124202259, 0.9711016920028612, 0.8482544284422546, 0.995991915068271, 0.995213875445665, 0.5852777769136528, 0.4153584223258181, 0.9886847524925793, 0.9729614126691641, 0.9289558821084357, 0.9971961201110203, 0.45878896869023766, 0.9898456673044711, 0.38018413655378086, 0.6125188866699802, 0.957559211142582, 0.26979092744859645, 0.6426726970929981, 0.08554346480077449, 0.7245300532670238, 0.18697549761729648, 0.07011581160648618, 0.9991673839924478, 0.8988473886554303, 0.9356303876864918, 0.2342602831448472, 0.7496329060635111, 0.970261875138603, 0.9038374148191283, 0.9850818527338483, 0.9985926833948789, 0.6171207950013013, 0.3630122323537067, 0.9218414001735703, 0.07728011737982027, 0.987569898543352, 0.905265158281783, 0.0890424745850934, 0.9905148995857311, 0.9548648381984614, 0.9146935378863597, 0.9171695668199751, 0.028440541736540616, 0.966978419042381, 0.9954037924386643, 0.9980636710397174], \"Term\": [\"\\uac00\\ub2a5\", \"\\uac00\\ub2a5\\uc131\", \"\\uac00\\ub2a5\\uc131\", \"\\uac00\\ubd80\\uc7a5\\uc81c\", \"\\uac00\\uc138\", \"\\uac00\\uc57c\", \"\\uac00\\uc911\", \"\\uac00\\ud574\", \"\\uac04\\uacfc\", \"\\uac04\\uc8fc\", \"\\uac10\\ub3c5\", \"\\uac10\\ub3c5\", \"\\uac10\\uc2dc\", \"\\uac10\\uc5fc\", \"\\uac15\\uac04\", \"\\uac15\\ub0a8\\uc5ed\", \"\\uac15\\ub2f9\", \"\\uac15\\ub82c\\ud55c\", \"\\uac15\\uc0ac\", \"\\uac15\\uc0ac\", \"\\uac15\\uc0ac\", \"\\uac15\\uc5f0\\ud68c\", \"\\uac15\\uc694\", \"\\uac15\\uc694\", \"\\uac15\\uc758\", \"\\uac15\\uc758\", \"\\uac15\\uc88c\", \"\\uac15\\uc88c\", \"\\uac1c\\uad00\", \"\\uac1c\\uadf8\\uc6b0\\uba3c\", \"\\uac1c\\ub150\", \"\\uac1c\\ub150\", \"\\uac1c\\ub150\", \"\\uac1c\\ub9c9\", \"\\uac1c\\ub9c9\", \"\\uac1c\\ub9c9\\uc2dd\", \"\\uac1c\\ubd09\", \"\\uac1c\\uc124\", \"\\uac1c\\uc124\", \"\\uac1c\\uc778\\uc804\", \"\\uac1c\\ud3b8\", \"\\uac1c\\ud3b8\", \"\\uac24\\ub7ec\\ub9ac\", \"\\uac24\\ub7ec\\ub9ac\", \"\\uac70\\ub300\", \"\\uac70\\ub300\", \"\\uac70\\uc6b8\", \"\\uac70\\uc6b8\", \"\\uac70\\uc808\", \"\\uac74\\uad6d\\ub300\", \"\\uac80\\uc0ac\", \"\\uac80\\uc99d\", \"\\uac80\\ucc30\", \"\\uac8c\\uc784\", \"\\uac8c\\uc784\", \"\\uacb0\\uc2ec\", \"\\uacb0\\ud63c\", \"\\uacb0\\ud63c\", \"\\uacbd\\ub0a8\", \"\\uacbd\\uc81c\", \"\\uacc4\\uba85\\ub300\", \"\\uacc4\\uba85\\ub300\", \"\\uacc4\\uc57d\", \"\\uace0\\uad50\", \"\\uace0\\ub4f1\\uad50\\uc721\", \"\\uace0\\ubbfc\", \"\\uace0\\uc0dd\", \"\\uacf5\\uaca9\", \"\\uacf5\\ub3d9\\uccb4\", \"\\uacf5\\ub3d9\\uccb4\", \"\\uacf5\\uc0ac\", \"\\uacf5\\uc0b0\\uc8fc\\uc758\", \"\\uacf5\\uc2dd\", \"\\uacf5\\uc5f0\", \"\\uacf5\\uc801\", \"\\uacf5\\ud56d\", \"\\uacfc\\uac70\", \"\\uacfc\\uac70\", \"\\uacfc\\uac70\", \"\\uacfc\\uac70\", \"\\uacfc\\uac70\", \"\\uacfc\\ud559\", \"\\uad00\\uac1d\", \"\\uad00\\uac1d\", \"\\uad00\\ub9ac\", \"\\uad00\\uc2ec\", \"\\uad00\\uc2ec\", \"\\uad00\\uc2ec\", \"\\uad11\\uace0\", \"\\uad11\\uace0\", \"\\uad11\\uae30\", \"\\uad11\\uae30\", \"\\uad11\\uc7a5\", \"\\uad11\\ucc44\", \"\\uad34\\ub9ac\", \"\\uad50\\uc0ac\", \"\\uad50\\uc0ac\", \"\\uad50\\uc218\", \"\\uad50\\uc218\", \"\\uad50\\uc721\", \"\\uad50\\ud68c\", \"\\uad6c\\ub3c4\", \"\\uad6c\\uc11d\", \"\\uad6c\\uc18d\", \"\\uad6c\\ucd95\", \"\\uad6d\\uac00\", \"\\uad6d\\ubbfc\", \"\\uad6d\\ubbfc\\ub300\", \"\\uad6d\\uc7a5\", \"\\uad6d\\uc801\", \"\\uad8c\\ub825\", \"\\uad8c\\ub9ac\", \"\\uad8c\\uc7a5\", \"\\uadf8\\uac04\", \"\\uadf8\\uac04\", \"\\uadf8\\ub8f9\\uc804\", \"\\uadf8\\ub9bc\", \"\\uadf8\\ub9bc\\uc790\", \"\\uadf8\\ubb3c\", \"\\uadf9\\uc7a5\", \"\\uadfc\\ub300\\uc0ac\", \"\\uae00\\ub85c\\ub9ac\\uc544\", \"\\uae09\\uc18d\\ub3c4\", \"\\uae30\\ub150\", \"\\uae30\\ub150\", \"\\uae30\\ubd84\", \"\\uae30\\uc0ac\", \"\\uae30\\uc5b5\", \"\\uae30\\ud68d\", \"\\uae34\\uc7a5\", \"\\uaecd\\uc9c8\", \"\\ub098\\ub77c\", \"\\ub09c\\ud574\\ud55c\", \"\\ub0a8\\uadfc\", \"\\ub0a8\\uadfc\", \"\\ub0a8\\ub140\", \"\\ub0a8\\ub140\", \"\\ub0a8\\ubd81\\ud55c\", \"\\ub0a8\\uc131\", \"\\ub0a8\\uc131\\uc131\", \"\\ub0a8\\uc790\", \"\\ub0a8\\uc790\", \"\\ub0a8\\uc790\", \"\\ub0a8\\ud3b8\", \"\\ub0b4\\ubd80\", \"\\ub110\\ub9ac\", \"\\ub124\\ud2b8\\uc6cc\\ud06c\", \"\\ub144\\ub300\", \"\\ub144\\ub300\", \"\\ub178\\ub144\", \"\\ub178\\ub3d9\", \"\\ub178\\ub3d9\\uc790\", \"\\ub178\\ub825\", \"\\ub178\\uc120\", \"\\ub178\\ucd9c\", \"\\ub179\\uc0c9\", \"\\ub17c\\ub780\", \"\\ub17c\\uc7c1\", \"\\ub180\\uc774\", \"\\ub208\\ube5b\", \"\\ub290\\ub08c\", \"\\ub2e4\\ub978\", \"\\ub2e4\\ub97c\", \"\\ub2e4\\ubb38\\ud654\", \"\\ub2e4\\uc218\", \"\\ub2e4\\ud050\\uba58\\ud130\\ub9ac\", \"\\ub2e8\\uace8\", \"\\ub2e8\\uc21c\\ud55c\", \"\\ub2e8\\uc5b4\", \"\\ub2e8\\uc5b4\", \"\\ub2e8\\uc808\", \"\\ub2e8\\uccb4\", \"\\ub2e8\\ud3b8\", \"\\ub2e8\\ud3b8\", \"\\ub2ec\\ub7ec\", \"\\ub2f9\\uc120\", \"\\ub2f9\\uc120\", \"\\ub2f9\\uc120\", \"\\ub300\\uad6c\", \"\\ub300\\ub9cc\", \"\\ub300\\uc0ac\\uad00\", \"\\ub300\\uc0ac\\uad00\", \"\\ub300\\uc804\", \"\\ub300\\uc804\", \"\\ub300\\ud1b5\\ub839\", \"\\ub300\\ud559\", \"\\ub300\\ud559\\uc0dd\", \"\\ub300\\ud559\\uc0dd\", \"\\ub300\\ud55c\\ubbfc\\uad6d\", \"\\ub300\\ud56d\", \"\\ub355\\ubd84\", \"\\ub370\\uce74\\ub974\\ud2b8\", \"\\ub3c4\\uc2dc\", \"\\ub3c5\\uc790\", \"\\ub3c5\\uc790\", \"\\ub3c5\\uc7ac\", \"\\ub3c5\\ucc3d\", \"\\ub3c5\\ucc3d\", \"\\ub3d9\\ub4f1\", \"\\ub3d9\\ub4f1\", \"\\ub3d9\\ub8cc\", \"\\ub3d9\\uc22d\\uc544\\ud2b8\\uc13c\\ud130\", \"\\ub3d9\\uc544\\uc77c\\ubcf4\", \"\\ub3d9\\ucc38\", \"\\ub450\\ub824\\uc6c0\", \"\\ub4b7\\uace8\\ubaa9\", \"\\ub4dc\\ub77c\\ub9c8\", \"\\ub514\\uc9c0\\ud138\", \"\\ub77c\\uce89\", \"\\ub78c\\uc138\\uc2a4\", \"\\ub7ec\\ube0c\", \"\\ub974\\ub178\", \"\\ub9c8\\ub974\\ud06c\\uc2a4\", \"\\ub9c8\\uc744\", \"\\ub9e4\\uccb4\", \"\\uba85\\uae30\", \"\\uba85\\uc81c\", \"\\ubaa8\\ub2c8\\ud130\\ub9c1\", \"\\ubaa8\\ub378\", \"\\ubaa8\\ub378\", \"\\ubaa8\\ub378\", \"\\ubaa8\\uc2b5\", \"\\ubaa8\\uc2b5\", \"\\ubaa9\\uc18c\\ub9ac\", \"\\ubaa9\\uc694\\uc77c\", \"\\ubb34\\uac70\\uc6b4\", \"\\ubb34\\uad00\\uc2ec\", \"\\ubb34\\uae30\", \"\\ubb34\\ub300\", \"\\ubb34\\ub300\", \"\\ubb34\\ub825\\uac10\", \"\\ubb34\\uc758\\uc2dd\", \"\\ubb34\\uc758\\uc2dd\", \"\\ubb34\\ud06c\\uc9c0\", \"\\ubb38\\uba85\", \"\\ubb38\\uc778\", \"\\ubb38\\uc81c\", \"\\ubb38\\uc81c\", \"\\ubb38\\uc81c\", \"\\ubb38\\ud559\", \"\\ubb38\\ud559\", \"\\ubb38\\ud559\\uc0ac\", \"\\ubb38\\ud559\\uc0c1\", \"\\ubb38\\ud654\", \"\\ubb38\\ud654\", \"\\ubb38\\ud654\", \"\\ubb38\\ud654\", \"\\ubbf8\\uad6d\", \"\\ubbf8\\uad6d\", \"\\ubbf8\\uad6d\", \"\\ubbf8\\ub514\\uc5b4\", \"\\ubbf8\\ub85c\", \"\\ubbf8\\uc220\", \"\\ubbf8\\uc988\", \"\\ubbfc\\uc871\", \"\\ubbfc\\uc871\\uc8fc\\uc758\", \"\\ubbfc\\uc8fc\\ub2f9\", \"\\ubbfc\\uc911\", \"\\ubc15\\uc0ac\\uacfc\\uc815\", \"\\ubc15\\uc0ac\\ud559\\uc704\", \"\\ubc15\\uc18c\\ud604\", \"\\ubc15\\uc218\", \"\\ubc18\\ubc1c\", \"\\ubc1c\\uad74\", \"\\ubc1c\\uad74\", \"\\ubc1c\\uc871\", \"\\ubc1c\\uc871\", \"\\ubc24\\uc2dc\", \"\\ubc29\\uc1a1\", \"\\ubc29\\uc1a1\", \"\\ubc29\\uc548\", \"\\ubc29\\uc740\\uc9c4\", \"\\ubc29\\uc740\\uc9c4\", \"\\ubc30\\uc6b0\", \"\\ubc30\\uc81c\", \"\\ubc30\\uce58\", \"\\ubc30\\uce58\", \"\\ubc31\\uc778\", \"\\ubc95\\ub300\", \"\\ubc95\\ub960\", \"\\ubca0\\ub2c8\\uc2a4\\ube44\\uc5d4\\ub0a0\\ub808\", \"\\ubcc0\\uc2e0\", \"\\ubcc0\\uc2e0\", \"\\ubcc0\\uc2e0\", \"\\ubcc0\\ud601\", \"\\ubcc0\\ud615\", \"\\ubcc4\\uac1c\", \"\\ubcd1\\uc6d0\", \"\\ubcf4\\ub3c4\", \"\\ubcf4\\ub3c4\", \"\\ubcf4\\ubd80\\uc544\\ub974\", \"\\ubcf4\\uc870\", \"\\ubcf4\\ud3b8\", \"\\ubcf4\\ud638\", \"\\ubcf4\\ud638\", \"\\ubcf5\\uadc0\", \"\\ubcf5\\uc9c0\", \"\\ubcf8\\ub2a5\", \"\\ubcf8\\ub2a5\", \"\\ubcf8\\ub2a5\", \"\\ubd07\\ubb3c\", \"\\ubd09\\uc0ac\", \"\\ubd80\\uc0b0\", \"\\ubd80\\uc871\", \"\\ubd80\\uc871\", \"\\ubd81\\uacbd\", \"\\ubd84\\uc11d\", \"\\ubd84\\uc11d\", \"\\ubd84\\uc11d\", \"\\ubd88\\ub9cc\", \"\\ubd88\\ud3c9\\ub4f1\", \"\\ube44\\ub514\\uc624\", \"\\ube44\\ub514\\uc624\", \"\\ube44\\uba85\", \"\\ube44\\ud310\", \"\\ube44\\ud310\", \"\\ube44\\ud310\", \"\\ube48\\uace4\", \"\\uc0ac\\uac74\", \"\\uc0ac\\uad00\", \"\\uc0ac\\uad00\", \"\\uc0ac\\ub78c\", \"\\uc0ac\\ub78c\", \"\\uc0ac\\ub791\", \"\\uc0ac\\ub824\", \"\\uc0ac\\ub974\\ud2b8\\ub974\", \"\\uc0ac\\uc9c4\\uc791\\uac00\", \"\\uc0ac\\ud0dc\", \"\\uc0ac\\ud0dc\", \"\\uc0ac\\ud45c\", \"\\uc0ac\\ud559\\uacfc\", \"\\uc0ac\\ud68c\", \"\\uc0ac\\ud68c\", \"\\uc0ac\\ud68c\\uc0c1\", \"\\uc0ac\\ud68c\\uc790\", \"\\uc0ac\\ud68c\\ud559\", \"\\uc0ac\\ud68c\\ud559\", \"\\uc0ac\\ud68c\\ud559\", \"\\uc0ac\\ud6c4\", \"\\uc0b0\\ubd80\\uc778\\uacfc\", \"\\uc0b0\\uc5c5\", \"\\uc0b4\\uc778\", \"\\uc0b4\\ud574\", \"\\uc0b6\", \"\\uc0b6\", \"\\uc0c1\\uc601\", \"\\uc0c1\\uc6d0\\uc758\\uc6d0\", \"\\uc0c1\\uc9d5\", \"\\uc0c1\\uc9d5\", \"\\uc0c1\\uc9d5\", \"\\uc0c1\\uc9d5\\uacc4\", \"\\uc0c1\\ud488\", \"\\uc0c1\\ud669\", \"\\uc0c1\\ud669\", \"\\uc0c1\\ud669\", \"\\uc0dd\\uac01\", \"\\uc0dd\\uac01\", \"\\uc0dd\\uba85\", \"\\uc0dd\\ubb3c\\ud559\", \"\\uc0dd\\ud0dc\", \"\\uc0dd\\ud65c\", \"\\uc0dd\\ud65c\", \"\\uc11c\\uad6c\", \"\\uc11c\\uad6c\", \"\\uc11c\\uae30\", \"\\uc11c\\uc6b8\", \"\\uc11c\\uc6b8\\ub300\", \"\\uc11c\\uc6b8\\uc2dc\", \"\\uc11c\\ud3c9\", \"\\uc11d\\uc0ac\\uacfc\\uc815\", \"\\uc120\\uac70\", \"\\uc120\\uc0dd\", \"\\uc120\\uc0dd\\ub2d8\", \"\\uc120\\ud0dd\", \"\\uc124\\ubb38\\uc870\\uc0ac\", \"\\uc131\", \"\\uc131\", \"\\uc131\", \"\\uc131\", \"\\uc131\\ub9bd\", \"\\uc131\\uc2e0\\uc5ec\\ub300\", \"\\uc131\\ucc28\\ubcc4\", \"\\uc131\\ucc30\", \"\\uc131\\ucc30\", \"\\uc131\\ud3ed\\ub825\", \"\\uc138\\uacc4\", \"\\uc138\\uacc4\", \"\\uc138\\uacc4\", \"\\uc138\\uacc4\", \"\\uc138\\uacc4\\uc0ac\", \"\\uc138\\uae30\", \"\\uc138\\uae30\", \"\\uc138\\ub300\", \"\\uc138\\uc0c1\", \"\\uc138\\uc0c1\", \"\\uc138\\uc885\\ub300\", \"\\uc18c\\ube44\", \"\\uc18c\\ube44\", \"\\uc18c\\uc124\", \"\\uc18c\\uc124\\uac00\", \"\\uc18c\\uc124\\uac00\", \"\\uc18c\\uc18d\", \"\\uc18c\\uc6a9\\ub3cc\\uc774\", \"\\uc18c\\uc720\\uc790\", \"\\uc218\\ub9ce\\uc740\", \"\\uc218\\uc0c1\\uc791\", \"\\uc218\\uc0c1\\uc791\", \"\\uc218\\uc11d\", \"\\uc218\\uc694\", \"\\uc218\\uc6d0\", \"\\uc218\\uc6d0\\ub300\", \"\\uc218\\uc815\", \"\\uc218\\uce58\", \"\\uc218\\uce58\", \"\\uc219\\ub300\", \"\\uc21c\\uc11c\", \"\\uc21c\\uc218\", \"\\uc21c\\uc704\", \"\\uc2a4\\ud0c0\", \"\\uc2dc\\ub300\", \"\\uc2dc\\ub300\", \"\\uc2dc\\ub300\", \"\\uc2dc\\ub300\", \"\\uc2dc\\ubaac\", \"\\uc2dc\\ubaac\", \"\\uc2dc\\ubbfc\", \"\\uc2dc\\ubbfc\\uc0ac\\ud68c\", \"\\uc2dc\\ubbfc\\uc6b4\\ub3d9\", \"\\uc2dc\\uc704\", \"\\uc2dc\\uc778\", \"\\uc2dc\\uc778\", \"\\uc2dc\\uc791\", \"\\uc2dc\\uc791\", \"\\uc2dc\\uc791\", \"\\uc2dc\\uc7a5\", \"\\uc2dc\\uc9d1\", \"\\uc2dc\\uccad\\uc790\", \"\\uc2dc\\uccad\\uc790\", \"\\uc2dc\\ud589\", \"\\uc2dd\\ub7c9\", \"\\uc2dd\\ubbfc\\uc9c0\", \"\\uc2e0\\uacbd\", \"\\uc2e0\\ube44\", \"\\uc2e0\\uc740\\uacbd\", \"\\uc2e0\\uc791\", \"\\uc2e0\\uccb4\", \"\\uc2e0\\ud654\", \"\\uc2e0\\ud654\", \"\\uc2e0\\ud654\", \"\\uc2ec\\ubd80\\ub984\", \"\\uc544\\ub0b4\", \"\\uc544\\ub984\\ub2e4\", \"\\uc544\\ub984\\ub2e4\", \"\\uc544\\ubc84\\uc9c0\", \"\\uc544\\ubc84\\uc9c0\", \"\\uc544\\uc26c\\uc6c0\", \"\\uc544\\uc2dc\\uc544\", \"\\uc544\\uc2dc\\uc544\", \"\\uc544\\uc774\", \"\\uc545\\uc601\\ud5a5\", \"\\uc548\\uc804\", \"\\uc57d\\uc790\", \"\\uc591\\uc2ec\", \"\\uc5b4\\ub835\\ub2e4\\uace0\", \"\\uc5b4\\ub978\", \"\\uc5b4\\uba38\\ub2c8\", \"\\uc5b5\\uc555\", \"\\uc5b8\\ub860\\uc0ac\", \"\\uc5b8\\uc5b4\", \"\\uc5bc\\ub9c8\", \"\\uc5bc\\ub9c8\", \"\\uc5c4\\ub9c8\", \"\\uc5d0\\ub108\\uc9c0\", \"\\uc5d0\\ub85c\\ud2f1\", \"\\uc5d0\\ud53c\\uc18c\\ub4dc\", \"\\uc5d8\\ub9ac\\uc544\\ub370\", \"\\uc5ec\\ub300\", \"\\uc5ec\\ub300\", \"\\uc5ec\\uc131\", \"\\uc5ec\\uc131\", \"\\uc5ec\\uc131\\uac74\\uac15\", \"\\uc5ec\\uc131\\ubb38\\uc81c\", \"\\uc5ec\\uc131\\ubb38\\uc81c\", \"\\uc5ec\\uc131\\ubb38\\uc81c\", \"\\uc5ec\\uc131\\uc0c1\", \"\\uc5ec\\uc131\\uc5f0\\uad6c\", \"\\uc5ec\\uc131\\uc601\\ud654\", \"\\uc5ec\\uc131\\uc6b4\\ub3d9\", \"\\uc5ec\\uc131\\ud559\", \"\\uc5ec\\uc131\\ud559\", \"\\uc5ec\\uc790\", \"\\uc5ec\\uc790\", \"\\uc5ec\\uc790\", \"\\uc5ec\\ud559\\uc0dd\", \"\\uc5ed\\uc0ac\", \"\\uc5ed\\uc0ac\", \"\\uc5ed\\uc0ac\", \"\\uc5ed\\uc0ac\\ud559\", \"\\uc5ed\\uc0ac\\ud559\\uc790\", \"\\uc5ed\\uc0ac\\ud559\\uc790\", \"\\uc5ee\\uc74c\", \"\\uc5f0\\uad6c\", \"\\uc5f0\\uad6c\", \"\\uc5f0\\uad6c\\ubaa8\\uc784\", \"\\uc5f0\\uad6c\\uc18c\", \"\\uc5f0\\uad6c\\uc18c\", \"\\uc5f0\\uad6c\\ud68c\", \"\\uc5f0\\uad6c\\ud68c\", \"\\uc5f0\\uad6c\\ud68c\", \"\\uc5f0\\uad6c\\ud68c\", \"\\uc5f0\\uadf9\", \"\\uc5f0\\uae30\", \"\\uc5f0\\uae30\", \"\\uc5f0\\uae30\\uc790\", \"\\uc5f0\\uc218\", \"\\uc5f0\\uc218\", \"\\uc5f0\\uc560\", \"\\uc5f0\\uc7ac\", \"\\uc5f0\\ucd9c\", \"\\uc5f4\\uc815\", \"\\uc5f4\\uc815\", \"\\uc5fc\\uc18c\", \"\\uc601\\uc0c1\", \"\\uc601\\uc0c1\", \"\\uc601\\ud5a5\\ub825\", \"\\uc601\\ud63c\", \"\\uc601\\ud654\", \"\\uc601\\ud654\", \"\\uc601\\ud654\\uc81c\", \"\\uc608\\uc0b0\", \"\\uc608\\uc0c1\", \"\\uc608\\uc220\", \"\\uc608\\uc220\", \"\\uc608\\uc220\\uc758\\uc804\\ub2f9\", \"\\uc608\\uc678\", \"\\uc624\\ub77d\", \"\\uc624\\ube60\", \"\\uc624\\ud574\", \"\\uc62e\\uae40\", \"\\uc62e\\uae40\", \"\\uc678\\uad6d\\uc5b4\\ub300\", \"\\uc694\\uc778\", \"\\uc695\\ub9dd\", \"\\uc695\\ub9dd\", \"\\uc695\\ub9dd\", \"\\uc6b4\\ub3d9\", \"\\uc6b4\\ub3d9\", \"\\uc6d0\\ub798\", \"\\uc704\\uacc4\", \"\\uc704\\uae30\", \"\\uc704\\uae30\", \"\\uc704\\uc6d0\\uc7a5\", \"\\uc704\\uc6d0\\uc7a5\", \"\\uc704\\uce58\", \"\\uc704\\uce58\", \"\\uc704\\ud611\", \"\\uc704\\ud611\", \"\\uc720\\uad50\", \"\\uc720\\ubc1c\", \"\\uc720\\uc77c\", \"\\uc720\\ud559\", \"\\uc740\\ud3d0\", \"\\uc74c\\uc2dd\", \"\\uc74c\\uc2dd\", \"\\uc758\\ub3c4\", \"\\uc758\\ubbf8\", \"\\uc758\\ubbf8\", \"\\uc758\\ubbf8\", \"\\uc758\\ubbf8\", \"\\uc758\\ubbf8\", \"\\uc758\\uc0ac\\uc18c\\ud1b5\", \"\\uc758\\uc6d0\", \"\\uc774\\ub150\", \"\\uc774\\ub150\", \"\\uc774\\ub150\", \"\\uc774\\ub300\", \"\\uc774\\ub300\", \"\\uc774\\ub860\", \"\\uc774\\ub860\", \"\\uc774\\ub860\\uac00\", \"\\uc774\\ub984\", \"\\uc774\\ubbf8\\uc9c0\", \"\\uc774\\ubbf8\\uc9c0\", \"\\uc774\\ubbf8\\uc9c0\", \"\\uc774\\uc131\\uc911\\uc2ec\\uc8fc\\uc758\", \"\\uc774\\uc2b9\\uc5f0\", \"\\uc774\\uc57c\\uae30\", \"\\uc774\\uc57c\\uae30\", \"\\uc774\\uc591\", \"\\uc774\\uc6a9\\uc790\", \"\\uc774\\uc775\", \"\\uc774\\uc9d1\\ud2b8\", \"\\uc774\\ud574\", \"\\uc774\\ud574\", \"\\uc774\\ud654\\uc5ec\\ub300\", \"\\uc774\\ud654\\uc5ec\\ub300\", \"\\uc774\\ud654\\uc5ec\\ub300\", \"\\uc778\\uac04\", \"\\uc778\\uac04\", \"\\uc778\\uac04\", \"\\uc778\\uac04\", \"\\uc778\\uad8c\", \"\\uc778\\ubb38\\ud559\", \"\\uc778\\uc0dd\", \"\\uc778\\uc5f0\", \"\\uc778\\ud130\\ub137\", \"\\uc778\\ud130\\ubdf0\", \"\\uc778\\ud504\\ub77c\", \"\\uc77c\\ubcf8\", \"\\uc77c\\ubcf8\\uad70\", \"\\uc77c\\ubcf8\\uc778\", \"\\uc77c\\uc790\", \"\\uc77c\\uc81c\", \"\\uc785\\uc0ac\", \"\\uc788\\uc5c8\\uc2b5\\ub2c8\\ub2e4\", \"\\uc788\\uc5c8\\uc2b5\\ub2c8\\ub2e4\", \"\\uc790\\uad81\", \"\\uc790\\uadf9\", \"\\uc790\\uadf9\", \"\\uc790\\uadf9\", \"\\uc790\\ub140\", \"\\uc790\\ub791\", \"\\uc790\\ub9e4\", \"\\uc790\\ubcf8\", \"\\uc790\\ubcf8\", \"\\uc790\\uc2e0\\uac10\", \"\\uc790\\uc2e0\\uac10\", \"\\uc790\\uc720\", \"\\uc790\\uc804\", \"\\uc790\\ud06c\\ub77c\\uce89\", \"\\uc791\\uac00\", \"\\uc791\\uac00\", \"\\uc791\\ud488\", \"\\uc791\\ud488\", \"\\uc791\\ud488\", \"\\uc7a5\\ubbf8\", \"\\uc7a5\\ud544\\ud654\", \"\\uc7ac\\ub2a5\", \"\\uc800\\uc11c\", \"\\uc800\\uc11c\", \"\\uc800\\ud56d\", \"\\uc800\\ud56d\", \"\\uc804\\ub7b5\", \"\\uc804\\ub7b5\", \"\\uc804\\ubb38\\uc9c1\", \"\\uc804\\uc5fc\\ubcd1\", \"\\uc804\\uc77c\", \"\\uc804\\uc7c1\", \"\\uc804\\uc7c1\", \"\\uc808\\uac10\", \"\\uc815\\ub144\", \"\\uc815\\ubcf4\", \"\\uc815\\ubcf4\", \"\\uc815\\ubcf4\", \"\\uc815\\ubd80\", \"\\uc815\\ubd80\", \"\\uc815\\uc0ac\", \"\\uc815\\uc138\\ud654\", \"\\uc815\\uc2e0\\ubb38\\ud654\\uc5f0\\uad6c\\uc6d0\", \"\\uc815\\uc2e0\\ubd84\\uc11d\", \"\\uc815\\uc2e0\\ubd84\\uc11d\\ud559\", \"\\uc815\\uc2e0\\ubd84\\uc11d\\ud559\", \"\\uc815\\ucc45\", \"\\uc815\\uccb4\", \"\\uc815\\uccb4\\uc131\", \"\\uc815\\uce58\", \"\\uc815\\uce58\", \"\\uc81c\\uad6d\\uc8fc\\uc758\", \"\\uc81c\\ub3c4\", \"\\uc81c\\uc758\\uc131\", \"\\uc81c\\uc758\\uc131\", \"\\uc81c\\uc791\", \"\\uc870\\uac74\", \"\\uc870\\uc120\", \"\\uc870\\uc120\", \"\\uc870\\uc625\\ub77c\", \"\\uc870\\uc791\", \"\\uc870\\ud615\", \"\\uc870\\ud61c\\uc815\", \"\\uc874\\uc7ac\", \"\\uc874\\uc7ac\", \"\\uc874\\uc7ac\", \"\\uc874\\uc911\", \"\\uc878\\uc5c5\\uc0dd\", \"\\uc885\\uacb0\", \"\\uc885\\ub958\", \"\\uc885\\uc18d\", \"\\uc885\\ud569\\ubcd1\\uc6d0\", \"\\uc88c\\uc775\", \"\\uc8fc\\ub3c4\\ud558\\uace0\", \"\\uc8fc\\ubd80\", \"\\uc8fc\\uc758\", \"\\uc8fc\\uc778\\uacf5\", \"\\uc8fc\\uc778\\uacf5\", \"\\uc8fc\\uc7a5\", \"\\uc8fc\\uc7a5\", \"\\uc8fc\\uc81c\", \"\\uc8fc\\uc81c\", \"\\uc8fc\\uc81c\", \"\\uc8fc\\uccb4\", \"\\uc8fc\\uccb4\", \"\\uc8fc\\uccb4\", \"\\uc8fc\\ucd95\", \"\\uc8fc\\ucd95\", \"\\uc8fc\\ud55c\", \"\\uc911\\uac04\", \"\\uc911\\uacac\", \"\\uc911\\uad6d\", \"\\uc911\\uad6d\", \"\\uc911\\uc131\\uc801\", \"\\uc911\\uc694\", \"\\uc911\\ud559\\uad50\", \"\\uc99d\\uc5b8\", \"\\uc9c0\\ub09c\\ud574\", \"\\uc9c0\\ub09c\\ud574\", \"\\uc9c0\\ub09c\\ud574\", \"\\uc9c0\\ubaa9\", \"\\uc9c0\\ubaa9\", \"\\uc9c0\\ubc29\", \"\\uc9c0\\ubc29\", \"\\uc9c0\\uc5ed\", \"\\uc9c0\\uc704\", \"\\uc9c0\\uc740\\uc774\", \"\\uc9c0\\uc74c\", \"\\uc9c0\\uc810\", \"\\uc9c0\\uc9c0\", \"\\uc9c0\\uccb4\", \"\\uc9c0\\ud0f1\", \"\\uc9c4\\ubcf4\", \"\\uc9c4\\ubcf4\", \"\\uc9c4\\ubcf4\", \"\\uc9c4\\uc2e4\", \"\\uc9c4\\uc2e4\", \"\\uc9c4\\uc2e4\", \"\\uc9c4\\uc804\", \"\\uc9c4\\ud589\", \"\\uc9c4\\ud589\", \"\\uc9c4\\ud589\", \"\\uc9c4\\ud589\", \"\\uc9c4\\ud589\\uc790\", \"\\uc9c8\\ubb38\", \"\\uc9c8\\ubb38\", \"\\uc9d1\\uad8c\", \"\\uc9d1\\ub2e8\", \"\\uc9d1\\ud589\", \"\\ucc28\\ubcc4\", \"\\ucc28\\ubcc4\", \"\\ucc28\\uc774\", \"\\ucc28\\uc778\\ud45c\", \"\\ucc29\\ucde8\", \"\\ucc38\\uc5ec\", \"\\ucc38\\uc5ec\", \"\\ucc98\\ub9ac\", \"\\ucc98\\ub9ac\", \"\\ucca0\\uac70\", \"\\ucca0\\uac70\", \"\\ucca0\\ud559\", \"\\ucca0\\ud559\", \"\\uccab\\ub0a0\", \"\\uccad\\ub144\", \"\\uccad\\uc18c\\ub144\", \"\\uccad\\ucd98\", \"\\uccb4\\ub974\\ub178\\ube4c\", \"\\ucd08\\uccad\", \"\\ucd09\\uad6c\", \"\\ucd09\\uc9c4\", \"\\ucd1b\\ubd88\", \"\\ucd2c\\uc601\", \"\\ucd94\\uc0c1\\ud654\", \"\\ucd94\\uc9c4\", \"\\ucd94\\uc9c4\", \"\\ucd94\\uc9c4\", \"\\ucd95\\uc18c\", \"\\ucd95\\uc801\", \"\\ucd9c\\uc5f0\", \"\\ucd9c\\uc5f0\", \"\\ucd9c\\uc5f0\", \"\\ucd9c\\uc5f0\\uc790\", \"\\ucd9c\\uc785\", \"\\ucd9c\\ud310\\uc0ac\", \"\\ucda9\\uc871\", \"\\ucda9\\uc871\", \"\\ucda9\\uc871\", \"\\ucda9\\uc871\", \"\\ucde8\\ud5a5\", \"\\uce68\\ub7b5\", \"\\uce74\\uba54\\ub77c\", \"\\ucee4\\ud53c\", \"\\ud06c\\ub9ac\\uc2a4\\ud14c\\ubc14\", \"\\ud074\\ub7fd\", \"\\ud0c0\\uc774\", \"\\ud0d0\\uc0c9\", \"\\ud0dc\\ud3c9\\uc591\", \"\\ud0dc\\ud3c9\\uc591\", \"\\ud0e4\\ub7f0\\ud2b8\", \"\\ud0e4\\ub7f0\\ud2b8\", \"\\ud14c\\uc774\\ube14\", \"\\ud1a0\\ub860\\ud68c\", \"\\ud1a0\\ub860\\ud68c\", \"\\ud1a0\\ud06c\\uc1fc\", \"\\ud1b5\\ubcf4\", \"\\ud1b5\\uc81c\", \"\\ud1f4\\uc784\", \"\\ud2b8\\ub7fc\\ud504\", \"\\ud2b9\\uc815\", \"\\ud2b9\\uc815\", \"\\ud30c\\uad34\", \"\\ud30c\\uad34\", \"\\ud328\\ud134\", \"\\ud398\\ubbf8\\ub2c8\\uc2a4\\ud2b8\", \"\\ud398\\ubbf8\\ub2c8\\uc998\", \"\\ud398\\ubbf8\\ub2c8\\uc998\", \"\\ud398\\ubbf8\\ub2c8\\uc998\", \"\\ud398\\ubbf8\\ub2c8\\uc998\\uc774\\ub860\", \"\\ud398\\uc774\\uc9c0\", \"\\ud3b8\\uc131\", \"\\ud3c9\\uade0\", \"\\ud3c9\\ub4f1\", \"\\ud3c9\\ud654\", \"\\ud3c9\\ud654\", \"\\ud3ec\\ub7fc\", \"\\ud3ec\\ub974\\ub178\", \"\\ud3ec\\uc2a4\\ud2b8\\ubaa8\\ub354\\ub2c8\\uc998\", \"\\ud3ec\\uc778\\ud2b8\", \"\\ud3ec\\ud654\", \"\\ud3ed\\ub825\", \"\\ud3ed\\ub825\", \"\\ud3ed\\ub825\", \"\\ud3ed\\ud589\", \"\\ud45c\\uc2dc\", \"\\ud45c\\uc81c\", \"\\ud45c\\ud604\", \"\\ud45c\\ud604\", \"\\ud45c\\ud604\", \"\\ud504\\ub85c\", \"\\ud504\\ub85c\", \"\\ud504\\ub85c\\uadf8\\ub7a8\", \"\\ud504\\ub85c\\uadf8\\ub7a8\", \"\\ud504\\ub85c\\uadf8\\ub7a8\", \"\\ud504\\ub85c\\uc774\\ud2b8\", \"\\ud50c\\ub7ab\\ud3fc\", \"\\ud53c\\ud574\", \"\\ud53c\\ud574\\uc790\", \"\\ud544\\uc790\", \"\\ud559\\uad50\", \"\\ud559\\ubb38\", \"\\ud559\\ubb38\", \"\\ud559\\uc0dd\\uc6b4\\ub3d9\", \"\\ud559\\uc0dd\\ud68c\\uc7a5\", \"\\ud559\\uc220\", \"\\ud559\\uc220\", \"\\ud559\\uc220\", \"\\ud55c\\uad6d\", \"\\ud55c\\uad6d\\uc5ec\\uc131\\uc5f0\\uad6c\\uc18c\", \"\\ud55c\\uad6d\\uc5ec\\uc131\\ud559\\ud68c\", \"\\ud55c\\uad6d\\uc778\", \"\\ud55c\\ubc18\\ub3c4\", \"\\ud55c\\ud0c4\", \"\\ud560\\ub9ac\\uc6b0\\ub4dc\", \"\\ud560\\uba38\\ub2c8\", \"\\ud560\\uc544\\ubc84\\uc9c0\", \"\\ud569\\ubc95\", \"\\ud574\\uad70\", \"\\ud574\\ubc29\", \"\\ud574\\uc11d\", \"\\ud574\\uc124\", \"\\ud574\\uc124\", \"\\ud574\\uccb4\", \"\\ud574\\uccb4\\uc8fc\\uc758\", \"\\ud574\\ud504\\ub2dd\", \"\\ud589\\ub3d9\", \"\\ud5c8\\uc0c1\", \"\\ud601\\uba85\", \"\\ud604\\ub300\", \"\\ud604\\ub300\", \"\\ud604\\ub300\\uc0ac\\ud68c\", \"\\ud604\\uc2e4\", \"\\ud604\\uc2e4\", \"\\ud604\\uc2e4\", \"\\ud604\\uc7ac\", \"\\ud604\\uc7ac\", \"\\ud604\\uc7ac\", \"\\ud610\\uc624\", \"\\ud638\\ub791\\uc774\", \"\\ud64d\\ub9ac\\ub098\", \"\\ud64d\\ucf69\", \"\\ud64d\\ucf69\", \"\\ud654\\uc7a5\\uc2e4\", \"\\ud654\\uc7a5\\ud488\", \"\\ud654\\uc81c\", \"\\ud655\\ub300\", \"\\ud658\\uc790\", \"\\ud658\\uc790\", \"\\ud65c\\ub3d9\", \"\\ud65c\\ub3d9\", \"\\ud68c\\uc0ac\", \"\\ud68c\\uc7a5\", \"\\ud68c\\uc7a5\", \"\\ud68d\\ub4dd\", \"\\ud6a1\\ud3ec\", \"\\ud6a8\\uc131\", \"\\ud6a8\\uc131\\uc5ec\\ub300\", \"\\ud6c4\\ubcf4\", \"\\ud6c4\\ubcf4\", \"\\ud76c\\ub9dd\", \"\\ud76c\\uc0dd\"]}, \"R\": 30, \"lambda.step\": 0.01, \"plot.opts\": {\"xlab\": \"PC1\", \"ylab\": \"PC2\"}, \"topic.order\": [12, 18, 16, 3, 13, 8, 14, 10, 4, 1, 9, 6, 19, 5, 15, 2, 20, 21, 11, 17, 7]};\n",
       "\n",
       "function LDAvis_load_lib(url, callback){\n",
       "  var s = document.createElement('script');\n",
       "  s.src = url;\n",
       "  s.async = true;\n",
       "  s.onreadystatechange = s.onload = callback;\n",
       "  s.onerror = function(){console.warn(\"failed to load library \" + url);};\n",
       "  document.getElementsByTagName(\"head\")[0].appendChild(s);\n",
       "}\n",
       "\n",
       "if(typeof(LDAvis) !== \"undefined\"){\n",
       "   // already loaded: just create the visualization\n",
       "   !function(LDAvis){\n",
       "       new LDAvis(\"#\" + \"ldavis_el2036024262862757127453999385\", ldavis_el2036024262862757127453999385_data);\n",
       "   }(LDAvis);\n",
       "}else if(typeof define === \"function\" && define.amd){\n",
       "   // require.js is available: use it to load d3/LDAvis\n",
       "   require.config({paths: {d3: \"https://d3js.org/d3.v5\"}});\n",
       "   require([\"d3\"], function(d3){\n",
       "      window.d3 = d3;\n",
       "      LDAvis_load_lib(\"https://cdn.jsdelivr.net/gh/bmabey/pyLDAvis@3.3.1/pyLDAvis/js/ldavis.v3.0.0.js\", function(){\n",
       "        new LDAvis(\"#\" + \"ldavis_el2036024262862757127453999385\", ldavis_el2036024262862757127453999385_data);\n",
       "      });\n",
       "    });\n",
       "}else{\n",
       "    // require.js not available: dynamically load d3 & LDAvis\n",
       "    LDAvis_load_lib(\"https://d3js.org/d3.v5.js\", function(){\n",
       "         LDAvis_load_lib(\"https://cdn.jsdelivr.net/gh/bmabey/pyLDAvis@3.3.1/pyLDAvis/js/ldavis.v3.0.0.js\", function(){\n",
       "                 new LDAvis(\"#\" + \"ldavis_el2036024262862757127453999385\", ldavis_el2036024262862757127453999385_data);\n",
       "            })\n",
       "         });\n",
       "}\n",
       "</script>"
      ],
      "text/plain": [
       "<IPython.core.display.HTML object>"
      ]
     },
     "execution_count": 79,
     "metadata": {},
     "output_type": "execute_result"
    }
   ],
   "source": [
    "pyLDAvis.display(vis_merge9099)"
   ]
  },
  {
   "cell_type": "code",
   "execution_count": null,
   "id": "4a0600e1",
   "metadata": {},
   "outputs": [],
   "source": []
  },
  {
   "cell_type": "markdown",
   "id": "7e6c6279",
   "metadata": {},
   "source": [
    "# 데이터분리\n",
    "## 분리 후, 불용어 제거: 조선일보 제외 한글자 단어 및 불용어 제거 필요"
   ]
  },
  {
   "cell_type": "code",
   "execution_count": 10,
   "id": "6f0ba786",
   "metadata": {},
   "outputs": [],
   "source": [
    "################################################\n",
    "########## 조건별 검색 후 데이터 따로 ############\n",
    "################################################\n",
    "\n",
    "# 플랫폼별, 시기별 데이터 조회 \n",
    "# conserv9010, liberal9010, conserv1121, liberal1121\n",
    "\n",
    "conserv10 = merge9099[(merge9099['date']>='1990-01-01') & (merge9099['date']<='2010-12-31') & (merge9099['platform'] != '한겨레') & (merge9099['platform'] != '경향신문')]\n",
    "liberal10 =  merge9099[(merge9099['date']>='1990-01-01') & (merge9099['date']<='2010-12-31') & (merge9099['platform'] != '조선일보') & (merge9099['platform'] != '중앙일보') & (merge9099['platform'] != '동아일보')]\n",
    "conserv21 = merge9099[(merge9099['date']>='2011-01-01') & (merge9099['date']<='2021-12-31') & (merge9099['platform'] != '한겨레') & (merge9099['platform'] != '경향신문')]\n",
    "liberal21 =  merge9099[(merge9099['date']>='2011-01-01') & (merge9099['date']<='2021-12-31') & (merge9099['platform'] != '조선일보') & (merge9099['platform'] != '중앙일보') & (merge9099['platform'] != '동아일보')] "
   ]
  },
  {
   "cell_type": "code",
   "execution_count": 12,
   "id": "55bff0f6",
   "metadata": {
    "scrolled": true
   },
   "outputs": [
    {
     "data": {
      "text/html": [
       "<div>\n",
       "<style scoped>\n",
       "    .dataframe tbody tr th:only-of-type {\n",
       "        vertical-align: middle;\n",
       "    }\n",
       "\n",
       "    .dataframe tbody tr th {\n",
       "        vertical-align: top;\n",
       "    }\n",
       "\n",
       "    .dataframe thead th {\n",
       "        text-align: right;\n",
       "    }\n",
       "</style>\n",
       "<table border=\"1\" class=\"dataframe\">\n",
       "  <thead>\n",
       "    <tr style=\"text-align: right;\">\n",
       "      <th></th>\n",
       "      <th>date</th>\n",
       "      <th>URL</th>\n",
       "      <th>word</th>\n",
       "      <th>platform</th>\n",
       "    </tr>\n",
       "  </thead>\n",
       "  <tbody>\n",
       "    <tr>\n",
       "      <th>0</th>\n",
       "      <td>1990-09-18 00:00:00</td>\n",
       "      <td>https://newslibrary.chosun.com/view/article_vi...</td>\n",
       "      <td>미국 현대사회 문학 강좌 목요일 서울 미문화원 강당 첫날 페미니즘 예술 주제 문학 ...</td>\n",
       "      <td>조선일보</td>\n",
       "    </tr>\n",
       "    <tr>\n",
       "      <th>1</th>\n",
       "      <td>1991-06-07 00:00:00</td>\n",
       "      <td>https://newslibrary.chosun.com/view/article_vi...</td>\n",
       "      <td>내일 부산 학술회 계기 찬반 실태 성차별 성적도구 묘사 강력 비판 태백산맥 그대 문...</td>\n",
       "      <td>조선일보</td>\n",
       "    </tr>\n",
       "    <tr>\n",
       "      <th>2</th>\n",
       "      <td>1992-03-16 00:00:00</td>\n",
       "      <td>https://newslibrary.chosun.com/view/article_vi...</td>\n",
       "      <td>미코미디프로 코스비가족 종영 흑인 중산층 대가족 미국인 허전함 묘사 한국 인기 제작...</td>\n",
       "      <td>조선일보</td>\n",
       "    </tr>\n",
       "    <tr>\n",
       "      <th>3</th>\n",
       "      <td>1992-04-12 00:00:00</td>\n",
       "      <td>https://newslibrary.chosun.com/view/article_vi...</td>\n",
       "      <td>여성문학 문학 여성 문학 세계 성 문학작품 시작 모습 페미니즘 용어 배경</td>\n",
       "      <td>조선일보</td>\n",
       "    </tr>\n",
       "    <tr>\n",
       "      <th>4</th>\n",
       "      <td>1992-05-19 00:00:00</td>\n",
       "      <td>https://newslibrary.chosun.com/view/article_vi...</td>\n",
       "      <td>여권회복 생태계 질서 가부장제 성립 여성 몫 고작 분단 남북 여성 정기 정해 통일 ...</td>\n",
       "      <td>조선일보</td>\n",
       "    </tr>\n",
       "    <tr>\n",
       "      <th>5</th>\n",
       "      <td>1992-06-04 00:00:00</td>\n",
       "      <td>https://newslibrary.chosun.com/view/article_vi...</td>\n",
       "      <td>근대 교육 남성 비판 어설린 대제 이야기 이색 강의 어설린학 남녀 차이 영속화 브린...</td>\n",
       "      <td>조선일보</td>\n",
       "    </tr>\n",
       "    <tr>\n",
       "      <th>6</th>\n",
       "      <td>1992-06-11 00:00:00</td>\n",
       "      <td>https://newslibrary.chosun.com/view/article_vi...</td>\n",
       "      <td>남성은 아이 아버지 증명 방법 불안감 불확실 성 아이 아버지 그런데도 일찍이 가부장...</td>\n",
       "      <td>조선일보</td>\n",
       "    </tr>\n",
       "    <tr>\n",
       "      <th>7</th>\n",
       "      <td>1992-06-16 00:00:00</td>\n",
       "      <td>https://newslibrary.chosun.com/view/article_vi...</td>\n",
       "      <td>한국여성문학연구회 회장 정영자 학술발표회 페미니즘비평 방법론 적용 주제 부산 코모도...</td>\n",
       "      <td>조선일보</td>\n",
       "    </tr>\n",
       "    <tr>\n",
       "      <th>8</th>\n",
       "      <td>1992-06-20 00:00:00</td>\n",
       "      <td>https://newslibrary.chosun.com/view/article_vi...</td>\n",
       "      <td>지난달 일개 소식 여성문화예술기획 대표 이혜경 행사 여성 예술 연속 공개 강좌 마련...</td>\n",
       "      <td>조선일보</td>\n",
       "    </tr>\n",
       "    <tr>\n",
       "      <th>9</th>\n",
       "      <td>1993-01-12 00:00:00</td>\n",
       "      <td>https://newslibrary.chosun.com/view/article_vi...</td>\n",
       "      <td>한국영어영문학회 충남 관광호텔 학술 토론회 토론자 페미니즘 프랑스혁명 낭만주의 영어...</td>\n",
       "      <td>조선일보</td>\n",
       "    </tr>\n",
       "  </tbody>\n",
       "</table>\n",
       "</div>"
      ],
      "text/plain": [
       "                  date                                                URL  \\\n",
       "0  1990-09-18 00:00:00  https://newslibrary.chosun.com/view/article_vi...   \n",
       "1  1991-06-07 00:00:00  https://newslibrary.chosun.com/view/article_vi...   \n",
       "2  1992-03-16 00:00:00  https://newslibrary.chosun.com/view/article_vi...   \n",
       "3  1992-04-12 00:00:00  https://newslibrary.chosun.com/view/article_vi...   \n",
       "4  1992-05-19 00:00:00  https://newslibrary.chosun.com/view/article_vi...   \n",
       "5  1992-06-04 00:00:00  https://newslibrary.chosun.com/view/article_vi...   \n",
       "6  1992-06-11 00:00:00  https://newslibrary.chosun.com/view/article_vi...   \n",
       "7  1992-06-16 00:00:00  https://newslibrary.chosun.com/view/article_vi...   \n",
       "8  1992-06-20 00:00:00  https://newslibrary.chosun.com/view/article_vi...   \n",
       "9  1993-01-12 00:00:00  https://newslibrary.chosun.com/view/article_vi...   \n",
       "\n",
       "                                                word platform  \n",
       "0  미국 현대사회 문학 강좌 목요일 서울 미문화원 강당 첫날 페미니즘 예술 주제 문학 ...     조선일보  \n",
       "1  내일 부산 학술회 계기 찬반 실태 성차별 성적도구 묘사 강력 비판 태백산맥 그대 문...     조선일보  \n",
       "2  미코미디프로 코스비가족 종영 흑인 중산층 대가족 미국인 허전함 묘사 한국 인기 제작...     조선일보  \n",
       "3           여성문학 문학 여성 문학 세계 성 문학작품 시작 모습 페미니즘 용어 배경     조선일보  \n",
       "4  여권회복 생태계 질서 가부장제 성립 여성 몫 고작 분단 남북 여성 정기 정해 통일 ...     조선일보  \n",
       "5  근대 교육 남성 비판 어설린 대제 이야기 이색 강의 어설린학 남녀 차이 영속화 브린...     조선일보  \n",
       "6  남성은 아이 아버지 증명 방법 불안감 불확실 성 아이 아버지 그런데도 일찍이 가부장...     조선일보  \n",
       "7  한국여성문학연구회 회장 정영자 학술발표회 페미니즘비평 방법론 적용 주제 부산 코모도...     조선일보  \n",
       "8  지난달 일개 소식 여성문화예술기획 대표 이혜경 행사 여성 예술 연속 공개 강좌 마련...     조선일보  \n",
       "9  한국영어영문학회 충남 관광호텔 학술 토론회 토론자 페미니즘 프랑스혁명 낭만주의 영어...     조선일보  "
      ]
     },
     "execution_count": 12,
     "metadata": {},
     "output_type": "execute_result"
    }
   ],
   "source": [
    "conserv10.head(10)"
   ]
  },
  {
   "cell_type": "code",
   "execution_count": 23,
   "id": "8d5a9422",
   "metadata": {},
   "outputs": [],
   "source": [
    "conserv10.to_excel(\"conserv10.xlsx\", index = False)"
   ]
  },
  {
   "cell_type": "code",
   "execution_count": 24,
   "id": "0edca59c",
   "metadata": {},
   "outputs": [],
   "source": [
    "liberal10.to_excel(\"liberal10.xlsx\", index = False)"
   ]
  },
  {
   "cell_type": "code",
   "execution_count": 25,
   "id": "3fd409d2",
   "metadata": {},
   "outputs": [],
   "source": [
    "conserv21.to_excel(\"conserv21.xlsx\", index = False)"
   ]
  },
  {
   "cell_type": "code",
   "execution_count": 26,
   "id": "4b23ad7c",
   "metadata": {},
   "outputs": [],
   "source": [
    "liberal21.to_excel(\"liberal21.xlsx\", index = False)"
   ]
  },
  {
   "cell_type": "markdown",
   "id": "b5b3f27a",
   "metadata": {},
   "source": [
    "## 불용어(1)제거"
   ]
  },
  {
   "cell_type": "code",
   "execution_count": 33,
   "id": "174bc3b9",
   "metadata": {},
   "outputs": [],
   "source": [
    "okt_merge9099 = Okt()"
   ]
  },
  {
   "cell_type": "code",
   "execution_count": 34,
   "id": "8479e665",
   "metadata": {},
   "outputs": [],
   "source": [
    "#불용어 사전(1) 코드로 가져와서 list로 변환\n",
    "\n",
    "with open(r'C:\\Users\\Hyejin\\Documents\\Python Scripts\\02_feminism\\stopword1.txt', encoding = 'utf-8') as f:\n",
    "     words_infile = f.readlines()\n",
    "    \n",
    "stopword_hj = []\n",
    "for words_infile in words_infile:\n",
    "    words_infile = words_infile.replace('\\n', '')\n",
    "    stopword_hj.append(words_infile)\n",
    "f.close()"
   ]
  },
  {
   "cell_type": "code",
   "execution_count": 35,
   "id": "7c629bf6",
   "metadata": {},
   "outputs": [
    {
     "data": {
      "text/plain": [
       "'\\n빅카인즈 데이터의 경우 이미 명사화 되어있기 때문에 okt_stem을 돌리면 깨짐\\n조선일보 아카이브의 경우 따로 명사추출후 합치는게 나을듯\\n\\n'"
      ]
     },
     "execution_count": 35,
     "metadata": {},
     "output_type": "execute_result"
    }
   ],
   "source": [
    "\"\"\"\n",
    "빅카인즈 데이터의 경우 이미 명사화 되어있기 때문에 okt_stem을 돌리면 깨짐\n",
    "조선일보 아카이브의 경우 따로 명사추출후 합치는게 나을듯\n",
    "하지만 한단어 삭제 이후 프로세스 위해서는 okt돌려야함(왤까?)\n",
    "\n",
    "\"\"\"\n",
    "### 1차 불용어 정리 \n",
    "####### 우선 한글자 단어 삭제\n",
    "words_spacing = \" \".join(merge9099['word'].tolist())"
   ]
  },
  {
   "cell_type": "code",
   "execution_count": 47,
   "id": "f5d980d0",
   "metadata": {},
   "outputs": [
    {
     "data": {
      "text/plain": [
       "632437"
      ]
     },
     "execution_count": 47,
     "metadata": {},
     "output_type": "execute_result"
    }
   ],
   "source": [
    "len(words_spacing)"
   ]
  },
  {
   "cell_type": "code",
   "execution_count": 49,
   "id": "a697d956",
   "metadata": {},
   "outputs": [],
   "source": [
    "#한글자단어 삭제; 핵, 힘, 몸, 돈, 성, 꿈, 몫, 삶 \n",
    "# 성적, 성과, 성의, 성은 ->성으로 바꿈\n",
    "# or x==\"핵\" or x==\"힘\" or x==\"몸\" or x==\"성\" or x==\"돈\" or x==\"꿈\" or x==\"몫\" or x==\"삶\"\n",
    "remove_oneword = [x for x in words_spacing if len(x)>1]\n",
    "#len(remove_one_word_t) #len(words_spacing) == 103047, 많이 줄었음"
   ]
  },
  {
   "cell_type": "code",
   "execution_count": 50,
   "id": "4b4803f3",
   "metadata": {},
   "outputs": [
    {
     "name": "stdout",
     "output_type": "stream",
     "text": [
      "[]\n"
     ]
    }
   ],
   "source": [
    "print(remove_oneword)"
   ]
  },
  {
   "cell_type": "code",
   "execution_count": 40,
   "id": "fbda194d",
   "metadata": {},
   "outputs": [],
   "source": [
    "from collections import Counter\n",
    "#frequent_t = Counter(remove_one_word_t).most_common()\n",
    "frequent_w = Counter(words_spacing).most_common()"
   ]
  },
  {
   "cell_type": "code",
   "execution_count": 41,
   "id": "12f2b1ef",
   "metadata": {},
   "outputs": [
    {
     "name": "stdout",
     "output_type": "stream",
     "text": [
      "[(' ', 188765), ('성', 12145), ('사', 8793), ('여', 7834), ('자', 7731), ('이', 6994), ('대', 6535), ('정', 5728), ('지', 5453), ('미', 5334), ('인', 5261), ('기', 5135), ('가', 4596), ('시', 4455), ('주', 4424), ('국', 4354), ('리', 4330), ('의', 4182), ('동', 4113), ('스', 3964), ('화', 3939), ('학', 3879), ('들', 3872), ('제', 3823), ('상', 3670), ('장', 3639), ('회', 3535), ('남', 3444), ('니', 3405), ('적', 3327), ('문', 3305), ('부', 3261), ('소', 2958), ('한', 2930), ('수', 2921), ('페', 2814), ('아', 2769), ('전', 2735), ('구', 2655), ('원', 2562), ('생', 2439), ('영', 2408), ('신', 2366), ('공', 2361), ('세', 2308), ('해', 2293), ('교', 2290), ('비', 2282), ('도', 2274), ('일', 2231), ('즘', 2226), ('계', 2198), ('고', 2189), ('트', 2184), ('연', 2175), ('작', 2115), ('경', 2086), ('유', 2076), ('위', 2039), ('조', 2007), ('보', 1995), ('년', 1986), ('진', 1978), ('민', 1959), ('체', 1935), ('중', 1927), ('치', 1920), ('서', 1898), ('력', 1880), ('실', 1828), ('선', 1809), ('명', 1722), ('식', 1694), ('관', 1679), ('마', 1663), ('로', 1615), ('모', 1595), ('역', 1590), ('차', 1581), ('현', 1554), ('어', 1539), ('권', 1523), ('과', 1511), ('단', 1508), ('운', 1499), ('간', 1497), ('각', 1468), ('재', 1446), ('개', 1428), ('노', 1420), ('방', 1399), ('다', 1389), ('행', 1367), ('람', 1362), ('평', 1360), ('반', 1340), ('발', 1291), ('론', 1279), ('심', 1254), ('라', 1253), ('결', 1230), ('거', 1221), ('분', 1220), ('오', 1214), ('안', 1213), ('등', 1195), ('용', 1186), ('무', 1168), ('별', 1141), ('강', 1132), ('표', 1127), ('출', 1122), ('설', 1091), ('드', 1084), ('산', 1074), ('감', 1071), ('프', 1071), ('나', 1064), ('포', 1049), ('청', 1047), ('하', 1031), ('판', 1029), ('폭', 1028), ('당', 1027), ('업', 1025), ('통', 1015), ('임', 994), ('피', 992), ('언', 982), ('호', 945), ('법', 943), ('요', 935), ('우', 923), ('불', 913), ('양', 898), ('집', 873), ('배', 861), ('본', 860), ('르', 855), ('편', 853), ('독', 849), ('종', 822), ('그', 820), ('물', 815), ('터', 814), ('활', 810), ('태', 803), ('건', 801), ('논', 786), ('목', 772), ('야', 772), ('예', 771), ('만', 768), ('술', 765), ('족', 762), ('직', 760), ('레', 746), ('변', 744), ('김', 730), ('향', 730), ('파', 716), ('음', 696), ('박', 685), ('책', 678), ('입', 661), ('품', 658), ('점', 657), ('매', 651), ('석', 651), ('육', 646), ('게', 630), ('존', 630), ('외', 629), ('격', 624), ('은', 623), ('타', 618), ('극', 617), ('면', 612), ('저', 610), ('질', 599), ('랑', 598), ('러', 597), ('후', 596), ('메', 588), ('금', 587), ('희', 585), ('복', 584), ('디', 583), ('버', 583), ('울', 582), ('쟁', 578), ('초', 574), ('내', 573), ('참', 571), ('토', 566), ('데', 566), ('녀', 564), ('추', 560), ('애', 556), ('티', 551), ('바', 546), ('형', 544), ('더', 541), ('e', 539), ('근', 538), ('혐', 536), ('크', 528), ('급', 527), ('갈', 525), ('씨', 520), ('절', 518), ('월', 517), ('환', 512), ('능', 509), ('최', 489), ('투', 484), ('래', 479), ('순', 478), ('란', 478), ('합', 477), ('속', 475), ('담', 474), ('준', 473), ('망', 471), ('확', 465), ('난', 464), ('특', 460), ('o', 447), ('i', 441), ('혼', 439), ('카', 439), ('황', 438), ('천', 430), ('n', 429), ('름', 428), ('코', 426), ('백', 423), ('험', 420), ('처', 414), ('범', 410), ('취', 401), ('념', 400), ('할', 399), ('약', 397), ('a', 394), ('머', 389), ('철', 386), ('s', 383), ('류', 381), ('열', 381), ('에', 378), ('립', 378), ('t', 375), ('증', 373), ('광', 364), ('항', 361), ('견', 360), ('응', 359), ('젠', 358), ('북', 356), ('베', 352), ('억', 343), ('규', 342), ('농', 339), ('네', 339), ('c', 335), ('령', 331), ('살', 330), ('창', 326), ('루', 321), ('번', 319), ('r', 317), ('습', 316), ('움', 312), ('군', 311), ('검', 308), ('찰', 304), ('색', 297), ('즈', 297), ('압', 295), ('획', 292), ('글', 290), ('병', 289), ('택', 289), ('협', 287), ('욕', 285), ('커', 284), ('징', 283), ('슬', 280), ('테', 277), ('숙', 277), ('말', 273), ('친', 273), ('료', 273), ('탈', 272), ('는', 268), ('례', 263), ('탄', 260), ('폐', 260), ('객', 258), ('악', 257), ('죄', 257), ('달', 255), ('림', 255), ('필', 254), ('혜', 253), ('락', 253), ('총', 251), ('날', 248), ('송', 248), ('승', 245), ('브', 243), ('축', 243), ('침', 241), ('득', 240), ('워', 236), ('착', 233), ('혁', 233), ('두', 232), ('l', 230), ('d', 229), ('손', 227), ('있', 226), ('풍', 219), ('델', 218), ('허', 212), ('누', 212), ('패', 211), ('련', 211), ('함', 210), ('린', 210), ('m', 210), ('히', 209), ('윤', 203), ('좌', 202), ('럼', 202), ('얼', 201), ('키', 201), ('록', 197), ('익', 196), ('려', 196), ('없', 195), ('얘', 194), ('올', 194), ('충', 189), ('접', 189), ('슈', 187), ('층', 185), ('귀', 185), ('뉴', 183), ('홍', 183), ('벌', 182), ('케', 181), ('뷰', 179), ('럽', 174), ('플', 173), ('완', 172), ('엄', 172), ('새', 172), ('클', 171), ('채', 167), ('답', 166), ('g', 165), ('온', 164), ('균', 161), ('율', 160), ('빈', 160), ('덕', 159), ('넷', 159), ('헌', 158), ('효', 157), ('을', 155), ('랜', 155), ('막', 148), ('션', 148), ('퇴', 148), ('w', 148), ('길', 145), ('촌', 145), ('찬', 144), ('털', 144), ('봉', 143), ('너', 142), ('곡', 140), ('턴', 139), ('낙', 139), ('골', 138), ('램', 137), ('른', 137), ('옥', 137), ('량', 135), ('뮤', 135), ('염', 135), ('략', 133), ('겨', 132), ('엘', 131), ('f', 131), ('엔', 130), ('u', 130), ('센', 128), ('괴', 127), ('쪽', 126), ('p', 126), ('와', 124), ('눈', 124), ('츠', 124), ('블', 123), ('흑', 121), ('섹', 120), ('롱', 120), ('늘', 119), ('b', 119), ('핵', 117), ('퍼', 117), ('링', 116), ('밀', 115), ('알', 115), ('몸', 112), ('먼', 112), ('h', 112), ('걸', 111), ('돌', 111), ('던', 110), ('틀', 110), ('혹', 109), ('느', 109), ('굴', 109), ('삶', 106), ('잡', 106), ('흥', 105), ('앙', 104), ('흐', 104), ('웨', 103), ('훈', 102), ('짜', 101), ('맥', 100), ('k', 99), ('곤', 98), ('쇼', 97), ('률', 97), ('님', 95), ('캐', 95), ('싱', 95), ('촉', 94), ('암', 93), ('널', 93), ('측', 93), ('탁', 91), ('캠', 91), ('웃', 90), ('삼', 89), ('묵', 88), ('죽', 88), ('었', 87), ('까', 87), ('힘', 87), ('묘', 85), ('춘', 85), ('몰', 83), ('젊', 83), ('v', 82), ('칭', 81), ('콘', 80), ('휴', 80), ('탕', 79), ('y', 79), ('런', 78), ('왕', 78), ('콜', 77), ('벽', 77), ('슨', 76), ('탐', 74), ('옹', 74), ('솔', 74), ('잠', 72), ('텔', 71), ('것', 71), ('멸', 71), ('팔', 70), ('째', 70), ('칙', 69), ('훼', 69), ('낌', 67), ('촛', 64), ('큼', 64), ('쿠', 64), ('렌', 63), ('뿌', 63), ('쓰', 63), ('돈', 62), ('몬', 61), ('촬', 61), ('궁', 61), ('냥', 61), ('싸', 61), ('룹', 60), ('헤', 60), ('칼', 60), ('맨', 60), ('쇄', 59), ('삭', 59), ('셔', 58), ('잔', 58), ('댓', 58), ('뒷', 57), ('를', 57), ('탱', 57), ('랫', 57), ('큐', 56), ('젝', 56), ('엠', 56), ('빠', 55), ('벨', 55), ('틴', 55), ('릭', 55), ('팀', 55), ('갤', 54), ('핑', 54), ('며', 54), ('녹', 53), ('퀴', 53), ('따', 53), ('칠', 52), ('짓', 52), ('융', 52), ('렉', 52), ('컬', 51), ('릴', 50), ('푸', 50), ('멘', 50), ('왜', 50), ('액', 50), ('짐', 49), ('십', 49), ('넘', 49), ('많', 48), ('흉', 48), ('척', 48), ('빌', 47), ('셀', 47), ('줄', 47), ('놀', 47), ('섭', 47), ('긍', 47), ('뢰', 47), ('휘', 47), ('냉', 47), ('흔', 46), ('했', 46), ('졸', 46), ('킹', 46), ('꾼', 46), ('폴', 45), ('괄', 45), ('컴', 45), ('텐', 45), ('닛', 45), ('꿈', 44), ('끼', 44), ('몽', 44), ('힐', 44), ('x', 44), ('붕', 43), ('쌍', 43), ('깃', 43), ('팅', 43), ('헨', 43), ('긴', 43), ('맹', 43), ('렇', 42), ('홀', 42), ('걱', 42), ('컷', 42), ('롬', 42), ('풀', 41), ('갑', 41), ('뇌', 40), ('덴', 39), ('흡', 39), ('앞', 38), ('밤', 38), ('으', 38), ('든', 38), ('픽', 38), ('륙', 37), ('믹', 37), ('쾌', 37), ('렵', 36), ('슴', 36), ('꽃', 36), ('웅', 36), ('납', 35), ('딩', 35), ('렐', 35), ('j', 35), ('옮', 34), ('냐', 34), ('같', 33), ('톤', 33), ('칸', 33), ('컨', 33), ('쉬', 32), ('낭', 32), ('롭', 32), ('혈', 32), ('캉', 32), ('잉', 32), ('깔', 31), ('숭', 31), ('갱', 31), ('숨', 31), ('또', 30), ('벤', 30), ('텍', 30), ('빛', 30), ('볼', 30), ('퓨', 30), ('튼', 30), ('엽', 30), ('렬', 29), ('옛', 29), ('셜', 29), ('앨', 29), ('킨', 29), ('샌', 29), ('닐', 28), ('듯', 28), ('럴', 28), ('팽', 28), ('횡', 28), ('첫', 27), ('릇', 27), ('멀', 27), ('헬', 27), ('욱', 27), ('딸', 27), ('팬', 27), ('앤', 27), ('씀', 27), ('릿', 26), ('딱', 26), ('쯤', 26), ('씩', 26), ('픔', 25), ('뒤', 25), ('궐', 25), ('튜', 25), ('웹', 25), ('닥', 24), ('밍', 24), ('섬', 24), ('쇠', 24), ('톨', 24), ('폼', 24), ('둔', 24), ('멕', 24), ('닝', 23), ('틱', 23), ('뜻', 23), ('땅', 23), ('꼴', 23), ('콧', 23), ('쿨', 23), ('즌', 23), ('핀', 22), ('엮', 22), ('높', 22), ('된', 22), ('때', 22), ('믿', 22), ('듀', 22), ('롤', 22), ('둥', 22), ('듬', 21), ('켓', 21), ('콤', 21), ('셸', 21), ('셰', 21), ('곳', 21), ('즐', 21), ('슐', 21), ('퀄', 21), ('샤', 20), ('닌', 20), ('닭', 20), ('z', 20), ('꼬', 19), ('덩', 19), ('빨', 19), ('멤', 19), ('깨', 19), ('홈', 19), ('맞', 19), ('닉', 19), ('밥', 19), ('첩', 19), ('펀', 19), ('뤼', 18), ('윈', 18), ('륜', 18), ('펜', 18), ('톡', 18), ('겔', 18), ('캘', 18), ('숫', 18), ('q', 18), ('꾸', 17), ('넓', 17), ('깥', 17), ('랭', 17), ('숍', 17), ('즉', 17), ('짝', 17), ('힌', 17), ('-', 17), ('봄', 16), ('뜨', 16), ('얄', 16), ('폰', 16), ('핍', 16), ('템', 16), ('았', 16), ('흘', 16), ('깊', 16), ('젤', 16), ('둠', 16), ('캔', 16), ('받', 16), ('룡', 16), ('넥', 16), ('찍', 15), ('봐', 15), ('겸', 15), ('뷔', 15), ('끊', 15), ('샐', 15), ('밑', 15), ('켈', 15), ('값', 15), ('쓸', 15), ('잇', 15), ('럭', 15), ('툰', 15), ('뚱', 14), ('몫', 14), ('끄', 14), ('룸', 14), ('빅', 14), ('밖', 14), ('쥬', 14), ('멍', 14), ('왼', 14), ('녘', 14), ('랙', 14), ('끝', 14), ('셋', 14), ('옷', 14), ('콩', 14), ('찌', 14), ('쿄', 14), ('밋', 14), ('딜', 14), ('폄', 14), ('렴', 14), ('낯', 13), ('훌', 13), ('멜', 13), ('겠', 13), ('되', 13), ('꼽', 13), ('틈', 13), ('셉', 13), ('쥐', 13), ('먹', 12), ('윌', 12), ('첼', 12), ('랄', 12), ('핏', 12), ('돼', 12), ('넬', 12), ('솜', 12), ('껍', 12), ('겐', 12), ('딕', 12), ('궤', 12), ('뱀', 12), ('뱃', 12), ('엉', 11), ('뚜', 11), ('졌', 11), ('헐', 11), ('낸', 11), ('뿐', 11), ('븐', 11), ('첨', 11), ('못', 11), ('덜', 11), ('툼', 11), ('캅', 11), ('쁨', 11), ('끔', 11), ('롯', 11), ('펙', 11), ('팩', 11), ('펭', 11), ('잣', 11), ('훅', 11), ('렷', 10), ('겁', 10), ('륭', 10), ('갖', 10), ('멋', 10), ('몇', 10), ('쉽', 10), ('듭', 10), ('낮', 10), ('둘', 10), ('퓰', 10), ('뮬', 10), ('녕', 10), ('넌', 10), ('댄', 10), ('맛', 10), ('럿', 10), ('밸', 10), ('쉴', 9), ('께', 9), ('벼', 9), ('섯', 9), ('촘', 9), ('닷', 9), ('겹', 9), ('굿', 9), ('짙', 9), ('탤', 9), ('귄', 9), ('켄', 9), ('픈', 9), ('큰', 9), ('쁜', 9), ('밭', 9), ('붓', 9), ('녁', 9), ('팎', 9), ('팥', 9), ('턱', 9), ('캡', 9), ('앗', 9), ('쓴', 9), ('띠', 9), ('윗', 9), ('맘', 9), ('걀', 9), ('떠', 8), ('썰', 8), ('옆', 8), ('뚝', 8), ('춤', 8), ('랍', 8), ('릉', 8), ('찾', 8), ('얀', 8), ('엥', 8), ('빙', 8), ('죠', 8), ('햇', 8), ('벅', 8), ('찮', 8), ('겉', 8), ('탑', 8), ('흰', 8), ('밴', 8), ('캄', 8), ('릎', 8), ('칫', 7), ('곽', 7), ('냄', 7), ('봇', 7), ('헛', 7), ('웬', 7), ('뛰', 7), ('굳', 7), ('홉', 7), ('좋', 7), ('앵', 7), ('탠', 7), ('삐', 7), ('룩', 7), ('싫', 7), ('잘', 7), ('렁', 7), ('꺼', 7), ('팝', 7), ('늠', 7), ('웰', 7), ('맑', 7), ('빗', 7), ('숏', 7), ('삽', 6), ('잖', 6), ('톱', 6), ('짧', 6), ('튀', 6), ('깡', 6), ('딴', 6), ('뭄', 6), ('깝', 6), ('쩌', 6), ('덤', 6), ('킴', 6), ('쿤', 6), ('딘', 6), ('줌', 6), ('휩', 6), ('웠', 6), ('늦', 6), ('뱅', 6), ('킬', 6), ('쑤', 6), ('펠', 6), ('셈', 6), ('풋', 6), ('쇳', 6), ('팡', 6), ('펼', 6), ('윙', 6), ('곰', 6), ('컵', 6), ('쁘', 5), ('샹', 5), ('똥', 5), ('썹', 5), ('뭔', 5), ('볍', 5), ('쩍', 5), ('뜩', 5), ('껏', 5), ('꼭', 5), ('퀸', 5), ('엑', 5), ('숲', 5), ('딤', 5), ('핸', 5), ('뼈', 5), ('엣', 5), ('왓', 5), ('똘', 5), ('짱', 5), ('흙', 5), ('쌈', 5), ('랩', 5), ('캬', 5), ('떨', 4), ('뎅', 4), ('씬', 4), ('놈', 4), ('렀', 4), ('맷', 4), ('뭇', 4), ('샘', 4), ('써', 4), ('엇', 4), ('랴', 4), ('퉁', 4), ('햄', 4), ('랬', 4), ('였', 4), ('쳐', 4), ('뮈', 4), ('붙', 4), ('낱', 4), ('옳', 4), ('킷', 4), ('끈', 4), ('췌', 4), ('엌', 4), ('똑', 4), ('쏘', 4), ('낫', 4), ('괜', 4), ('훗', 4), ('렘', 4), ('꽂', 4), ('댁', 4), ('텀', 4), ('탉', 4), ('콰', 4), ('홋', 4), ('맵', 4), ('쾨', 4), ('츨', 4), ('좡', 4), ('숱', 3), ('므', 3), ('둑', 3), ('흠', 3), ('슷', 3), ('곱', 3), ('붉', 3), ('읍', 3), ('헝', 3), ('떤', 3), ('볕', 3), ('돔', 3), ('뻔', 3), ('젖', 3), ('퐁', 3), ('않', 3), ('핫', 3), ('쾰', 3), ('쉼', 3), ('깜', 3), ('횟', 3), ('엎', 3), ('빼', 3), ('툭', 3), ('쁠', 3), ('륨', 3), ('듣', 3), ('셨', 3), ('넋', 3), ('져', 3), ('톰', 3), ('엊', 3), ('좀', 3), ('쏠', 3), ('떡', 3), ('꼼', 3), ('줍', 3), ('깐', 3), ('렛', 3), ('밈', 3), ('꽁', 3), ('큘', 3), ('팟', 3), ('넛', 3), ('딧', 3), ('튿', 3), ('쳇', 3), ('뉘', 3), ('굣', 3), ('룬', 3), ('왁', 3), ('딥', 3), ('벡', 3), ('퀘', 3), ('벵', 3), ('씹', 3), ('팜', 3), ('찻', 3), ('헉', 2), ('떳', 2), ('샬', 2), ('킥', 2), ('퍽', 2), ('곧', 2), ('틸', 2), ('겊', 2), ('뻐', 2), ('뿔', 2), ('돋', 2), ('릅', 2), ('옴', 2), ('넨', 2), ('잎', 2), ('촐', 2), ('쭉', 2), ('숟', 2), ('빚', 2), ('늙', 2), ('툴', 2), ('갚', 2), ('갯', 2), ('났', 2), ('쨌', 2), ('뮐', 2), ('쐐', 2), ('펄', 2), ('놋', 2), ('땐', 2), ('붐', 2), ('샷', 2), ('켸', 2), ('룻', 2), ('넉', 2), ('긋', 2), ('뽑', 2), ('팍', 2), ('빤', 2), ('힙', 2), ('꺽', 2), ('닙', 2), ('갗', 2), ('읽', 2), ('챔', 2), ('춧', 2), ('곁', 2), ('뿅', 2), ('뺨', 2), ('낼', 2), ('갓', 2), ('뻘', 2), ('펨', 2), ('닮', 2), ('챠', 2), ('횃', 2), ('렙', 2), ('욘', 2), ('뎀', 2), ('앰', 2), ('꼰', 2), ('휠', 2), ('뵈', 2), ('펌', 2), ('왈', 2), ('웍', 2), ('듦', 2), ('뼉', 2), ('좆', 2), ('됨', 2), ('뺌', 2), ('늬', 2), ('묶', 2), ('뫼', 2), ('샨', 2), ('뷴', 2), ('콥', 2), ('튤', 2), ('깎', 2), ('떼', 2), ('뼛', 2), ('얌', 2), ('톈', 2), ('랠', 2), ('펴', 2), ('쉐', 2), ('탬', 2), ('쎄', 2), ('뇨', 2), ('깅', 2), ('쓱', 1), ('궂', 1), ('뤗', 1), ('빔', 1), ('눌', 1), ('꾀', 1), ('썽', 1), ('쉰', 1), ('앳', 1), ('죵', 1), ('놓', 1), ('쨋', 1), ('낡', 1), ('찔', 1), ('끽', 1), ('섀', 1), ('눅', 1), ('잭', 1), ('젓', 1), ('찡', 1), ('틋', 1), ('늄', 1), ('싼', 1), ('햅', 1), ('윽', 1), ('줏', 1), ('벙', 1), ('칵', 1), ('얽', 1), ('굉', 1), ('땠', 1), ('뭐', 1), ('텁', 1), ('꿉', 1), ('봬', 1), ('푹', 1), ('렝', 1), ('앉', 1), ('콕', 1), ('좔', 1), ('굵', 1), ('쑥', 1), ('얇', 1), ('냘', 1), ('꼈', 1), ('뜰', 1), ('꿰', 1), ('섣', 1), ('셩', 1), ('빴', 1), ('쿰', 1), ('삑', 1), ('껑', 1), ('쩐', 1), ('눕', 1), ('좇', 1), ('랐', 1), ('낳', 1), ('욤', 1), ('쌔', 1), ('껴', 1), ('쉘', 1), ('쳤', 1), ('몹', 1), ('멈', 1), ('뿜', 1), ('팻', 1), ('젭', 1), ('렸', 1), ('덧', 1), ('숴', 1), ('궈', 1), ('쥴', 1), ('뭉', 1), ('텝', 1), ('쩜', 1), ('쿼', 1), ('끌', 1), ('깁', 1), ('찐', 1), ('빵', 1), ('귓', 1), ('짠', 1), ('슭', 1), ('펫', 1), ('눔', 1), ('잿', 1), ('잰', 1), ('쌀', 1), ('굶', 1), ('햐', 1), ('뜬', 1), ('잦', 1), ('늉', 1), ('썬', 1), ('톄', 1), ('쥔', 1), ('뷸', 1), ('샛', 1), ('띵', 1), ('멩', 1), ('젬', 1), ('꿀', 1), ('팁', 1), ('숄', 1), ('꿍', 1), ('삿', 1), ('늑', 1), ('퀼', 1), ('윔', 1), ('돗', 1), ('칩', 1), ('괌', 1), ('쿵', 1), ('떴', 1), ('섕', 1), ('댈', 1), ('똬', 1), ('밉', 1), ('굽', 1), ('괘', 1), ('씸', 1), ('헵', 1), ('츌', 1), ('랏', 1), ('묏', 1), ('짬', 1), ('띔', 1), ('땡', 1), ('쯔', 1), ('씽', 1), ('슘', 1), ('쵸', 1), ('꽹', 1), ('넝', 1)]\n"
     ]
    }
   ],
   "source": [
    "print(frequent_w)"
   ]
  },
  {
   "cell_type": "code",
   "execution_count": null,
   "id": "5fb011f8",
   "metadata": {},
   "outputs": [],
   "source": []
  },
  {
   "cell_type": "code",
   "execution_count": null,
   "id": "078c52f3",
   "metadata": {},
   "outputs": [],
   "source": []
  },
  {
   "cell_type": "code",
   "execution_count": null,
   "id": "b4cbd7b0",
   "metadata": {},
   "outputs": [],
   "source": []
  },
  {
   "cell_type": "code",
   "execution_count": null,
   "id": "52ed71bb",
   "metadata": {},
   "outputs": [],
   "source": []
  },
  {
   "cell_type": "code",
   "execution_count": 22,
   "id": "74fe4a0c",
   "metadata": {},
   "outputs": [],
   "source": [
    "\"\"\"\n",
    "리스트-> 메모장으로 변환하여 스페이싱재수정 및 konlpy에 카테고리별 정리 필요\n",
    "\"\"\"\n",
    "with open('lib10.txt','w',encoding='UTF-8') as f:\n",
    "    for name in stem_f:\n",
    "        f.write(name+'\\n')"
   ]
  },
  {
   "cell_type": "code",
   "execution_count": null,
   "id": "e2bbfcfd",
   "metadata": {},
   "outputs": [],
   "source": []
  },
  {
   "cell_type": "code",
   "execution_count": null,
   "id": "14a84f98",
   "metadata": {},
   "outputs": [],
   "source": []
  },
  {
   "cell_type": "code",
   "execution_count": null,
   "id": "a4a139a9",
   "metadata": {},
   "outputs": [],
   "source": []
  },
  {
   "cell_type": "code",
   "execution_count": null,
   "id": "cf37968a",
   "metadata": {},
   "outputs": [],
   "source": []
  },
  {
   "cell_type": "markdown",
   "id": "5cde03ba",
   "metadata": {},
   "source": [
    "# 불용어(2)_여자,남자# 불용어_여자,남자,페미니즘,페미니즘"
   ]
  },
  {
   "cell_type": "code",
   "execution_count": null,
   "id": "ba8b9a72",
   "metadata": {},
   "outputs": [],
   "source": [
    "# freq_sw = \"여성 남성 여성들 남성들 페미니즘 여자 남자\"\n",
    "###### 불용어제거 ######\n",
    "\"\"\"\n",
    "앞서 pos 나눈 뒤에 거를 것\n",
    "\n",
    "여성\n",
    "남성\n",
    "여성들\n",
    "남성들\n",
    "페미니즘\n",
    "여자\n",
    "남자\n",
    "\"\"\"\n",
    "okt_merge9099 = Okt()\n",
    "\n",
    "with open(r'C:\\Users\\Hyejin\\Documents\\Python Scripts\\02_feminism\\freq_sw.txt', encoding = 'utf-8') as f:\n",
    "    stopword = f.readlines()\n",
    "    \n",
    "freq_sw = stopword[0].split(\" \")"
   ]
  },
  {
   "cell_type": "code",
   "execution_count": null,
   "id": "fb6cd931",
   "metadata": {},
   "outputs": [],
   "source": []
  },
  {
   "cell_type": "code",
   "execution_count": null,
   "id": "addb905e",
   "metadata": {},
   "outputs": [],
   "source": []
  },
  {
   "cell_type": "code",
   "execution_count": null,
   "id": "eb900828",
   "metadata": {},
   "outputs": [],
   "source": []
  },
  {
   "cell_type": "code",
   "execution_count": null,
   "id": "f65e0454",
   "metadata": {},
   "outputs": [],
   "source": []
  },
  {
   "cell_type": "code",
   "execution_count": null,
   "id": "f9458a0f",
   "metadata": {},
   "outputs": [],
   "source": []
  },
  {
   "cell_type": "code",
   "execution_count": null,
   "id": "04e41881",
   "metadata": {},
   "outputs": [],
   "source": []
  },
  {
   "cell_type": "code",
   "execution_count": null,
   "id": "2da020e2",
   "metadata": {},
   "outputs": [],
   "source": []
  },
  {
   "cell_type": "code",
   "execution_count": null,
   "id": "74298e11",
   "metadata": {},
   "outputs": [],
   "source": []
  },
  {
   "cell_type": "code",
   "execution_count": null,
   "id": "b39ffc12",
   "metadata": {},
   "outputs": [],
   "source": []
  }
 ],
 "metadata": {
  "kernelspec": {
   "display_name": "Python 3 (ipykernel)",
   "language": "python",
   "name": "python3"
  },
  "language_info": {
   "codemirror_mode": {
    "name": "ipython",
    "version": 3
   },
   "file_extension": ".py",
   "mimetype": "text/x-python",
   "name": "python",
   "nbconvert_exporter": "python",
   "pygments_lexer": "ipython3",
   "version": "3.9.7"
  }
 },
 "nbformat": 4,
 "nbformat_minor": 5
}
