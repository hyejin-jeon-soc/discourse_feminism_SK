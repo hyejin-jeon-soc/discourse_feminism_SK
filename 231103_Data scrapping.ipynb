{
 "cells": [
  {
   "cell_type": "markdown",
   "id": "ff415f67",
   "metadata": {},
   "source": [
    "# Crime driver install & Set up\n"
   ]
  },
  {
   "cell_type": "code",
   "execution_count": 32,
   "id": "37a2b649",
   "metadata": {},
   "outputs": [
    {
     "name": "stdout",
     "output_type": "stream",
     "text": [
      "^C\n"
     ]
    },
    {
     "data": {
      "text/plain": [
       "'C:\\\\Users\\\\Hyejin\\\\Documents\\\\Python Scripts\\\\00_parenthood discourse\\\\01_data collection'"
      ]
     },
     "execution_count": 32,
     "metadata": {},
     "output_type": "execute_result"
    }
   ],
   "source": [
    "# ! pip install selenium\n",
    "# ! pip install bs4\n",
    "\n",
    "#https://github.com/ByungjunKim/NationStateChosun/blob/main/DBE.ipynb\n",
    "\n",
    "\"\"\"\n",
    "#https://chancoding.tistory.com/136 참조\n",
    "\n",
    "Chrome is up to date\n",
    "Version 119.0.6045.106 (Official Build) (64-bit) \n",
    "\n",
    "크롬드라이버 설치를 위해 현재 버전 확인 \n",
    "\n",
    "%config Completer.use_jedi = False ##코드자동완성 tab\n",
    "\"\"\"\n",
    "\n",
    "import os\n",
    "os.getcwd() #현재 워킹디렉토리 설정하여 크롬드라이버 .exe파일 cwd에 옮겨놓아야 함"
   ]
  },
  {
   "cell_type": "code",
   "execution_count": 40,
   "id": "3c2ff196",
   "metadata": {},
   "outputs": [
    {
     "name": "stdout",
     "output_type": "stream",
     "text": [
      "Google\n"
     ]
    }
   ],
   "source": [
    "from selenium import webdriver\n",
    "\n",
    "URL = \"https://google.com\"\n",
    "\n",
    "options = webdriver.ChromeOptions()\n",
    "options.add_argument('--headless')\n",
    "options.add_argument('--disable-dev-shm-usage')\n",
    "options.add_argument('--no-sandbox')\n",
    "\n",
    "driver = webdriver.Chrome(\n",
    "options=options\n",
    ")\n",
    "\n",
    "driver.get(URL)\n",
    "title = driver.title\n",
    "driver.close()\n",
    "\n",
    "print(title)"
   ]
  },
  {
   "cell_type": "code",
   "execution_count": 18,
   "id": "2c6157c7",
   "metadata": {},
   "outputs": [],
   "source": [
    "import selenium\n",
    "from selenium import webdriver\n",
    "from selenium.webdriver.common.keys import Keys"
   ]
  },
  {
   "cell_type": "markdown",
   "id": "18e2b881",
   "metadata": {},
   "source": [
    "# Import library"
   ]
  },
  {
   "cell_type": "code",
   "execution_count": 19,
   "id": "10bea29d",
   "metadata": {},
   "outputs": [],
   "source": [
    "import pandas as pd\n",
    "import numpy as np\n",
    "import requests\n",
    "from bs4 import BeautifulSoup\n",
    "from selenium import webdriver\n",
    "from selenium.webdriver.chrome.service import Service\n",
    "from selenium.webdriver.support.ui import Select\n",
    "from selenium.webdriver.chrome.options import Options\n",
    "from selenium.common.exceptions import NoSuchElementException\n",
    "from selenium.webdriver.support.ui import WebDriverWait\n",
    "from selenium.webdriver.common.by import By\n",
    "from selenium.webdriver.support import expected_conditions as EC\n",
    "import time\n",
    "from time import sleep\n",
    "from bs4 import BeautifulSoup\n",
    "import requests\n",
    "import re\n",
    "import os\n",
    "import urllib.request\n",
    "from urllib.request import Request, urlopen\n",
    "from urllib.parse import quote_plus\n",
    "import chardet\n",
    "import math"
   ]
  },
  {
   "cell_type": "markdown",
   "id": "df8cca6e",
   "metadata": {},
   "source": [
    "# Set directory"
   ]
  },
  {
   "cell_type": "code",
   "execution_count": 11,
   "id": "1eeac1ff",
   "metadata": {},
   "outputs": [
    {
     "data": {
      "text/plain": [
       "'C:\\\\Users\\\\Hyejin\\\\Documents\\\\Python Scripts\\\\00_parenthood discourse\\\\01_data collection'"
      ]
     },
     "execution_count": 11,
     "metadata": {},
     "output_type": "execute_result"
    }
   ],
   "source": [
    "import os\n",
    "os.getcwd() "
   ]
  },
  {
   "cell_type": "markdown",
   "id": "bbb594dd",
   "metadata": {},
   "source": [
    "# Scrapping"
   ]
  },
  {
   "cell_type": "markdown",
   "id": "4e0d00c5",
   "metadata": {},
   "source": [
    "## Open chrome Driver"
   ]
  },
  {
   "cell_type": "code",
   "execution_count": 27,
   "id": "f05113b1",
   "metadata": {},
   "outputs": [],
   "source": [
    "driver = webdriver.Chrome()\n",
    "\n",
    "#위의 코드 실행시켰을 때 빈 흰색 크롬창이 나타나면 제대로 설치 된 것임 -> 잘 나타나네요\n",
    "# 위의 코드에서 나오는 드라이버 = 흰색 크롬창으로 모든 작업 진행해야함"
   ]
  },
  {
   "cell_type": "code",
   "execution_count": 28,
   "id": "cc3b2dc0",
   "metadata": {},
   "outputs": [],
   "source": [
    "driver.get('https://www.chosun.com/subscribe/signin/')\n",
    "time.sleep(5)\n",
    "\n",
    "# 아이디 입력\n",
    "user = driver.find_element(By.ID, 'username')\n",
    "user.send_keys('lhjren92@gmail.com')\n",
    "\n",
    "# 비밀번호 입력\n",
    "pswd = driver.find_element(By.ID, 'subsPassword')\n",
    "pswd.send_keys('hl2363@NG427')\n",
    "\n",
    "# 로그인 클릭\n",
    "sign = driver.find_element(By.ID, 'subsSignIn')\n",
    "sign.click()"
   ]
  },
  {
   "cell_type": "markdown",
   "id": "8f71de8c",
   "metadata": {},
   "source": [
    "## Mount Google Drive & Set Directory"
   ]
  },
  {
   "cell_type": "code",
   "execution_count": 41,
   "id": "f1ab20db",
   "metadata": {},
   "outputs": [
    {
     "ename": "ModuleNotFoundError",
     "evalue": "No module named 'google.colab'",
     "output_type": "error",
     "traceback": [
      "\u001b[1;31m---------------------------------------------------------------------------\u001b[0m",
      "\u001b[1;31mModuleNotFoundError\u001b[0m                       Traceback (most recent call last)",
      "\u001b[1;32m~\\AppData\\Local\\Temp/ipykernel_16700/3578177376.py\u001b[0m in \u001b[0;36m<module>\u001b[1;34m\u001b[0m\n\u001b[1;32m----> 1\u001b[1;33m \u001b[1;32mfrom\u001b[0m \u001b[0mgoogle\u001b[0m\u001b[1;33m.\u001b[0m\u001b[0mcolab\u001b[0m \u001b[1;32mimport\u001b[0m \u001b[0mdrive\u001b[0m\u001b[1;33m\u001b[0m\u001b[1;33m\u001b[0m\u001b[0m\n\u001b[0m\u001b[0;32m      2\u001b[0m \u001b[0mdrive\u001b[0m\u001b[1;33m.\u001b[0m\u001b[0mmount\u001b[0m\u001b[1;33m(\u001b[0m\u001b[1;34m''\u001b[0m\u001b[1;33m)\u001b[0m\u001b[1;33m\u001b[0m\u001b[1;33m\u001b[0m\u001b[0m\n",
      "\u001b[1;31mModuleNotFoundError\u001b[0m: No module named 'google.colab'"
     ]
    }
   ],
   "source": [
    "from google.colab import drive\n",
    "drive.mount('')"
   ]
  },
  {
   "cell_type": "code",
   "execution_count": null,
   "id": "942cf8d2",
   "metadata": {},
   "outputs": [],
   "source": [
    "directory = \"C:\\\\Users\\\\Hyejin\\\\Documents\\\\Python Scripts\\\\00_parenthood discourse\\\\01_data collection\""
   ]
  },
  {
   "cell_type": "markdown",
   "id": "f011f79b",
   "metadata": {},
   "source": [
    "## Chosun archieve"
   ]
  },
  {
   "cell_type": "code",
   "execution_count": null,
   "id": "bc6f6e75",
   "metadata": {},
   "outputs": [],
   "source": [
    "keyword = input(\"검색어 : \")\n",
    "\n",
    "for page_num in range(0,100):\n",
    "    url = \"https://newslibrary.chosun.com/search/search_result.html?case_num=1&sort=1&page={page_num}&size=100&query={keyword}&date=date_select&ds=19900101&de=20221231&field=&type=&wrt=&set_date=#\"\n",
    "    \n",
    "    response = request.get(url)\n",
    "    html = response.text\n",
    "    soup = BeautifulSoup()\n",
    "    \n",
    "# 일반적 방법// 페이지 형태상 셀레늄이 더 나음"
   ]
  },
  {
   "cell_type": "code",
   "execution_count": 30,
   "id": "6bb3b6df",
   "metadata": {},
   "outputs": [
    {
     "name": "stdout",
     "output_type": "stream",
     "text": [
      "1 부모 만나러 병원간 수지 1999.12.31\n",
      "2 각본없는 드라마에 웃고 울었다 1999.12.31\n",
      "3 소년소녀 가장(家長)들 “변호사아빠 생겼어요” 1999.12.30\n",
      "4 힝기스는 엄마품에…세레나는 방학숙제 1999.12.30\n",
      "5 클로벌에티켓 제2부 교통질서 328 천천히 가면 안되나요? 1999.12.28\n",
      "6 나의 20세기 <33> ‘전원일기’와 어머니상(像) 김혜자 1999.12.28\n",
      "7 ‘영아돌보기’정부가 나서야 1999.12.25\n",
      "8 의식잃는 엄마 1999.12.25\n",
      "9 너무 예쁜 우리 아기，지혜로운 엄마의 아주 특별한 선물 1999.12.25\n",
      "10 “치，선생님은 나만 미워해” 1999.12.24\n"
     ]
    },
    {
     "ename": "ElementNotInteractableException",
     "evalue": "Message: element not interactable\n  (Session info: chrome=119.0.6045.106)\nStacktrace:\n\tGetHandleVerifier [0x00007FF7154082B2+55298]\n\t(No symbol) [0x00007FF715375E02]\n\t(No symbol) [0x00007FF71523045D]\n\t(No symbol) [0x00007FF715272B4C]\n\t(No symbol) [0x00007FF7152687BF]\n\t(No symbol) [0x00007FF7152920AA]\n\t(No symbol) [0x00007FF7152680CF]\n\t(No symbol) [0x00007FF7152922C0]\n\t(No symbol) [0x00007FF7152AAAA4]\n\t(No symbol) [0x00007FF715291E83]\n\t(No symbol) [0x00007FF71526670A]\n\t(No symbol) [0x00007FF715267964]\n\tGetHandleVerifier [0x00007FF715780AAB+3694587]\n\tGetHandleVerifier [0x00007FF7157D728E+4048862]\n\tGetHandleVerifier [0x00007FF7157CF173+4015811]\n\tGetHandleVerifier [0x00007FF7154A47D6+695590]\n\t(No symbol) [0x00007FF715380CE8]\n\t(No symbol) [0x00007FF71537CF34]\n\t(No symbol) [0x00007FF71537D062]\n\t(No symbol) [0x00007FF71536D3A3]\n\tBaseThreadInitThunk [0x00007FFE8BF47344+20]\n\tRtlUserThreadStart [0x00007FFE8C3226B1+33]\n",
     "output_type": "error",
     "traceback": [
      "\u001b[1;31m---------------------------------------------------------------------------\u001b[0m",
      "\u001b[1;31mElementNotInteractableException\u001b[0m           Traceback (most recent call last)",
      "\u001b[1;32m~\\AppData\\Local\\Temp/ipykernel_16700/3320052588.py\u001b[0m in \u001b[0;36m<module>\u001b[1;34m\u001b[0m\n\u001b[0;32m     77\u001b[0m     \u001b[1;31m# 다음 페이지 버튼 누르기\u001b[0m\u001b[1;33m\u001b[0m\u001b[1;33m\u001b[0m\u001b[0m\n\u001b[0;32m     78\u001b[0m         \u001b[1;32mif\u001b[0m \u001b[0mi\u001b[0m\u001b[1;33m*\u001b[0m\u001b[1;36m10\u001b[0m \u001b[1;33m+\u001b[0m \u001b[0mj\u001b[0m \u001b[1;33m+\u001b[0m \u001b[1;36m1\u001b[0m \u001b[1;33m<\u001b[0m \u001b[0msearchN\u001b[0m\u001b[1;33m:\u001b[0m\u001b[1;33m\u001b[0m\u001b[1;33m\u001b[0m\u001b[0m\n\u001b[1;32m---> 79\u001b[1;33m             \u001b[0mdriver\u001b[0m\u001b[1;33m.\u001b[0m\u001b[0mfind_element\u001b[0m\u001b[1;33m(\u001b[0m\u001b[0mBy\u001b[0m\u001b[1;33m.\u001b[0m\u001b[0mXPATH\u001b[0m\u001b[1;33m,\u001b[0m \u001b[1;34m'//*[@id=\"paginate_m_kwd\"]/button[2]'\u001b[0m\u001b[1;33m)\u001b[0m\u001b[1;33m.\u001b[0m\u001b[0mclick\u001b[0m\u001b[1;33m(\u001b[0m\u001b[1;33m)\u001b[0m\u001b[1;33m\u001b[0m\u001b[1;33m\u001b[0m\u001b[0m\n\u001b[0m\u001b[0;32m     80\u001b[0m             \u001b[0mtime\u001b[0m\u001b[1;33m.\u001b[0m\u001b[0msleep\u001b[0m\u001b[1;33m(\u001b[0m\u001b[1;36m10\u001b[0m\u001b[1;33m)\u001b[0m\u001b[1;33m\u001b[0m\u001b[1;33m\u001b[0m\u001b[0m\n\u001b[0;32m     81\u001b[0m         \u001b[1;32melse\u001b[0m\u001b[1;33m:\u001b[0m\u001b[1;33m\u001b[0m\u001b[1;33m\u001b[0m\u001b[0m\n",
      "\u001b[1;32m~\\anaconda3\\lib\\site-packages\\selenium\\webdriver\\remote\\webelement.py\u001b[0m in \u001b[0;36mclick\u001b[1;34m(self)\u001b[0m\n\u001b[0;32m     86\u001b[0m     \u001b[1;32mdef\u001b[0m \u001b[0mclick\u001b[0m\u001b[1;33m(\u001b[0m\u001b[0mself\u001b[0m\u001b[1;33m)\u001b[0m \u001b[1;33m->\u001b[0m \u001b[1;32mNone\u001b[0m\u001b[1;33m:\u001b[0m\u001b[1;33m\u001b[0m\u001b[1;33m\u001b[0m\u001b[0m\n\u001b[0;32m     87\u001b[0m         \u001b[1;34m\"\"\"Clicks the element.\"\"\"\u001b[0m\u001b[1;33m\u001b[0m\u001b[1;33m\u001b[0m\u001b[0m\n\u001b[1;32m---> 88\u001b[1;33m         \u001b[0mself\u001b[0m\u001b[1;33m.\u001b[0m\u001b[0m_execute\u001b[0m\u001b[1;33m(\u001b[0m\u001b[0mCommand\u001b[0m\u001b[1;33m.\u001b[0m\u001b[0mCLICK_ELEMENT\u001b[0m\u001b[1;33m)\u001b[0m\u001b[1;33m\u001b[0m\u001b[1;33m\u001b[0m\u001b[0m\n\u001b[0m\u001b[0;32m     89\u001b[0m \u001b[1;33m\u001b[0m\u001b[0m\n\u001b[0;32m     90\u001b[0m     \u001b[1;32mdef\u001b[0m \u001b[0msubmit\u001b[0m\u001b[1;33m(\u001b[0m\u001b[0mself\u001b[0m\u001b[1;33m)\u001b[0m\u001b[1;33m:\u001b[0m\u001b[1;33m\u001b[0m\u001b[1;33m\u001b[0m\u001b[0m\n",
      "\u001b[1;32m~\\anaconda3\\lib\\site-packages\\selenium\\webdriver\\remote\\webelement.py\u001b[0m in \u001b[0;36m_execute\u001b[1;34m(self, command, params)\u001b[0m\n\u001b[0;32m    394\u001b[0m             \u001b[0mparams\u001b[0m \u001b[1;33m=\u001b[0m \u001b[1;33m{\u001b[0m\u001b[1;33m}\u001b[0m\u001b[1;33m\u001b[0m\u001b[1;33m\u001b[0m\u001b[0m\n\u001b[0;32m    395\u001b[0m         \u001b[0mparams\u001b[0m\u001b[1;33m[\u001b[0m\u001b[1;34m'id'\u001b[0m\u001b[1;33m]\u001b[0m \u001b[1;33m=\u001b[0m \u001b[0mself\u001b[0m\u001b[1;33m.\u001b[0m\u001b[0m_id\u001b[0m\u001b[1;33m\u001b[0m\u001b[1;33m\u001b[0m\u001b[0m\n\u001b[1;32m--> 396\u001b[1;33m         \u001b[1;32mreturn\u001b[0m \u001b[0mself\u001b[0m\u001b[1;33m.\u001b[0m\u001b[0m_parent\u001b[0m\u001b[1;33m.\u001b[0m\u001b[0mexecute\u001b[0m\u001b[1;33m(\u001b[0m\u001b[0mcommand\u001b[0m\u001b[1;33m,\u001b[0m \u001b[0mparams\u001b[0m\u001b[1;33m)\u001b[0m\u001b[1;33m\u001b[0m\u001b[1;33m\u001b[0m\u001b[0m\n\u001b[0m\u001b[0;32m    397\u001b[0m \u001b[1;33m\u001b[0m\u001b[0m\n\u001b[0;32m    398\u001b[0m     \u001b[1;32mdef\u001b[0m \u001b[0mfind_element\u001b[0m\u001b[1;33m(\u001b[0m\u001b[0mself\u001b[0m\u001b[1;33m,\u001b[0m \u001b[0mby\u001b[0m\u001b[1;33m=\u001b[0m\u001b[0mBy\u001b[0m\u001b[1;33m.\u001b[0m\u001b[0mID\u001b[0m\u001b[1;33m,\u001b[0m \u001b[0mvalue\u001b[0m\u001b[1;33m=\u001b[0m\u001b[1;32mNone\u001b[0m\u001b[1;33m)\u001b[0m \u001b[1;33m->\u001b[0m \u001b[0mWebElement\u001b[0m\u001b[1;33m:\u001b[0m\u001b[1;33m\u001b[0m\u001b[1;33m\u001b[0m\u001b[0m\n",
      "\u001b[1;32m~\\anaconda3\\lib\\site-packages\\selenium\\webdriver\\remote\\webdriver.py\u001b[0m in \u001b[0;36mexecute\u001b[1;34m(self, driver_command, params)\u001b[0m\n\u001b[0;32m    426\u001b[0m         \u001b[0mresponse\u001b[0m \u001b[1;33m=\u001b[0m \u001b[0mself\u001b[0m\u001b[1;33m.\u001b[0m\u001b[0mcommand_executor\u001b[0m\u001b[1;33m.\u001b[0m\u001b[0mexecute\u001b[0m\u001b[1;33m(\u001b[0m\u001b[0mdriver_command\u001b[0m\u001b[1;33m,\u001b[0m \u001b[0mparams\u001b[0m\u001b[1;33m)\u001b[0m\u001b[1;33m\u001b[0m\u001b[1;33m\u001b[0m\u001b[0m\n\u001b[0;32m    427\u001b[0m         \u001b[1;32mif\u001b[0m \u001b[0mresponse\u001b[0m\u001b[1;33m:\u001b[0m\u001b[1;33m\u001b[0m\u001b[1;33m\u001b[0m\u001b[0m\n\u001b[1;32m--> 428\u001b[1;33m             \u001b[0mself\u001b[0m\u001b[1;33m.\u001b[0m\u001b[0merror_handler\u001b[0m\u001b[1;33m.\u001b[0m\u001b[0mcheck_response\u001b[0m\u001b[1;33m(\u001b[0m\u001b[0mresponse\u001b[0m\u001b[1;33m)\u001b[0m\u001b[1;33m\u001b[0m\u001b[1;33m\u001b[0m\u001b[0m\n\u001b[0m\u001b[0;32m    429\u001b[0m             response['value'] = self._unwrap_value(\n\u001b[0;32m    430\u001b[0m                 response.get('value', None))\n",
      "\u001b[1;32m~\\anaconda3\\lib\\site-packages\\selenium\\webdriver\\remote\\errorhandler.py\u001b[0m in \u001b[0;36mcheck_response\u001b[1;34m(self, response)\u001b[0m\n\u001b[0;32m    241\u001b[0m                 \u001b[0malert_text\u001b[0m \u001b[1;33m=\u001b[0m \u001b[0mvalue\u001b[0m\u001b[1;33m[\u001b[0m\u001b[1;34m'alert'\u001b[0m\u001b[1;33m]\u001b[0m\u001b[1;33m.\u001b[0m\u001b[0mget\u001b[0m\u001b[1;33m(\u001b[0m\u001b[1;34m'text'\u001b[0m\u001b[1;33m)\u001b[0m\u001b[1;33m\u001b[0m\u001b[1;33m\u001b[0m\u001b[0m\n\u001b[0;32m    242\u001b[0m             \u001b[1;32mraise\u001b[0m \u001b[0mexception_class\u001b[0m\u001b[1;33m(\u001b[0m\u001b[0mmessage\u001b[0m\u001b[1;33m,\u001b[0m \u001b[0mscreen\u001b[0m\u001b[1;33m,\u001b[0m \u001b[0mstacktrace\u001b[0m\u001b[1;33m,\u001b[0m \u001b[0malert_text\u001b[0m\u001b[1;33m)\u001b[0m  \u001b[1;31m# type: ignore[call-arg]  # mypy is not smart enough here\u001b[0m\u001b[1;33m\u001b[0m\u001b[1;33m\u001b[0m\u001b[0m\n\u001b[1;32m--> 243\u001b[1;33m         \u001b[1;32mraise\u001b[0m \u001b[0mexception_class\u001b[0m\u001b[1;33m(\u001b[0m\u001b[0mmessage\u001b[0m\u001b[1;33m,\u001b[0m \u001b[0mscreen\u001b[0m\u001b[1;33m,\u001b[0m \u001b[0mstacktrace\u001b[0m\u001b[1;33m)\u001b[0m\u001b[1;33m\u001b[0m\u001b[1;33m\u001b[0m\u001b[0m\n\u001b[0m",
      "\u001b[1;31mElementNotInteractableException\u001b[0m: Message: element not interactable\n  (Session info: chrome=119.0.6045.106)\nStacktrace:\n\tGetHandleVerifier [0x00007FF7154082B2+55298]\n\t(No symbol) [0x00007FF715375E02]\n\t(No symbol) [0x00007FF71523045D]\n\t(No symbol) [0x00007FF715272B4C]\n\t(No symbol) [0x00007FF7152687BF]\n\t(No symbol) [0x00007FF7152920AA]\n\t(No symbol) [0x00007FF7152680CF]\n\t(No symbol) [0x00007FF7152922C0]\n\t(No symbol) [0x00007FF7152AAAA4]\n\t(No symbol) [0x00007FF715291E83]\n\t(No symbol) [0x00007FF71526670A]\n\t(No symbol) [0x00007FF715267964]\n\tGetHandleVerifier [0x00007FF715780AAB+3694587]\n\tGetHandleVerifier [0x00007FF7157D728E+4048862]\n\tGetHandleVerifier [0x00007FF7157CF173+4015811]\n\tGetHandleVerifier [0x00007FF7154A47D6+695590]\n\t(No symbol) [0x00007FF715380CE8]\n\t(No symbol) [0x00007FF71537CF34]\n\t(No symbol) [0x00007FF71537D062]\n\t(No symbol) [0x00007FF71536D3A3]\n\tBaseThreadInitThunk [0x00007FFE8BF47344+20]\n\tRtlUserThreadStart [0x00007FFE8C3226B1+33]\n"
     ]
    }
   ],
   "source": [
    "for kwd in ['엄마']:\n",
    "\n",
    "    # 빈 데이터프레임 만들기 - 날짜, 지면(사회, 정치), 제목, 본문\n",
    "    df = pd.DataFrame(columns=['날짜', '지면', '종류', '제목', 'sub1', 'sub2', 'sub3', 'sub4'])\n",
    "\n",
    "    # 뉴스 라이브러리 검색 페이지로 이동\n",
    "    \n",
    "    driver.get('https://newslibrary.chosun.com/search/search.html')\n",
    "    time.sleep(5)\n",
    "\n",
    "    # search query 입력\n",
    "    search = driver.find_element(By.ID, 'query')\n",
    "    search.send_keys(kwd)\n",
    "    time.sleep(2)\n",
    "\n",
    "    # 검색기간 설정 클릭\n",
    "    filter = driver.find_element(By.XPATH, \"//label[@for='date_select']\")\n",
    "    filter.click()\n",
    "    time.sleep(2)\n",
    "\n",
    "    # 검색기간 입력\n",
    "    ds = driver.find_element(By.ID, \"ds\")\n",
    "    ds.send_keys(\"19900101\")\n",
    "\n",
    "    de = driver.find_element(By.ID, \"de\")\n",
    "    de.send_keys(\"20221231\")\n",
    "\n",
    "    #time.sleep(2)\n",
    "\n",
    "    # 검색 클릭\n",
    "    searchbutton = driver.find_element(By.XPATH, \"//*[@id='set_box_id']/div[2]/button\")\n",
    "    searchbutton.click()\n",
    "\n",
    "    # 검색결과 건수 retrieve\n",
    "    searchN = int(driver.find_element(By.XPATH, '//*[@id=\"total\"]').text.strip('건').replace(',',''))\n",
    "\n",
    "    # scrap\n",
    "    for i in range(0, math.floor(searchN/10)+1):\n",
    "\n",
    "        # 기사목록 불러오기\n",
    "        all_links = driver.find_elements(By.ID, 'result_list_kwd')[0].find_elements(By.TAG_NAME, 'dt')\n",
    "\n",
    "        for j in range(0, len(all_links)):\n",
    "            # 기사로 넘어가기 전에 제목 scrap\n",
    "            title = all_links[j].find_element(By.TAG_NAME, 'a').text                      # 제목\n",
    "\n",
    "            # 기사로 넘어가기\n",
    "            all_links[j].find_element(By.TAG_NAME, 'a').click()\n",
    "            WebDriverWait(driver, 60).until(EC.presence_of_element_located((By.XPATH, '//*[@id=\"reporter_info\"]/li[3]')))\n",
    "\n",
    "            # 기사로 넘어간 후에 내용 scrap\n",
    "            date =  driver.find_element(By.XPATH, '//*[@id=\"reporter_info\"]/li[1]').text   # 날짜\n",
    "            page = driver.find_element(By.XPATH, '//*[@id=\"reporter_info\"]/li[2]').text   # 지면\n",
    "            cat = driver.find_element(By.XPATH, '//*[@id=\"reporter_info\"]/li[3]').text    # 종류\n",
    "            sub1 = driver.find_element(By.XPATH, '//*[@id=\"subtitle1\"]').text             # sub1\n",
    "            sub2 = driver.find_element(By.XPATH, '//*[@id=\"subtitle2\"]').text             # sub2\n",
    "            sub3 = driver.find_element(By.XPATH, '//*[@id=\"subtitle3\"]').text             # sub3\n",
    "            sub4 = driver.find_element(By.XPATH, '//*[@id=\"subtitle4\"]').text             # sub4\n",
    "\n",
    "            # 데이터프레임에 저장\n",
    "            df = df.append({'날짜':date, '지면':page, '종류':cat, '제목':title, 'sub1':sub1, 'sub2':sub2, 'sub3':sub3, 'sub4':sub4},\n",
    "                        ignore_index = True)\n",
    "\n",
    "            # check\n",
    "            print(i*10 + j + 1, title, date)\n",
    "\n",
    "            # 검색 결과로 돌아가기\n",
    "            driver.back()\n",
    "            WebDriverWait(driver, 60).until(EC.presence_of_element_located((By.XPATH, '//*[@id=\"paginate_m_kwd\"]/button[2]')))\n",
    "            #time.sleep(10)\n",
    "\n",
    "            # set the element again to avoid stale-element\n",
    "            all_links = driver.find_elements(By.ID, 'result_list_kwd')[0].find_elements(By.TAG_NAME, 'dt')\n",
    "\n",
    "\n",
    "\n",
    "    # 다음 페이지 버튼 누르기\n",
    "        if i*10 + j + 1 < searchN:\n",
    "            driver.find_element(By.XPATH, '//*[@id=\"paginate_m_kwd\"]/button[2]').click()\n",
    "            time.sleep(10)\n",
    "        else:\n",
    "            pass\n",
    "            \n",
    "            \n",
    "            \n",
    "\n",
    "df.to_excel(directory + 'care_' + kwd + '_9022.xlsx', index = False)\n",
    "\n",
    "\n",
    "\"\"\"\n",
    "//*[@id=\"paginate_m_kwd\"]/button[2]\n",
    "https://www.reddit.com/r/learnpython/comments/17lmezu/google_chrome_unexpectedly_closes_by_itself_while/\n",
    "\"\"\"\n"
   ]
  },
  {
   "cell_type": "code",
   "execution_count": null,
   "id": "067f8c2a",
   "metadata": {},
   "outputs": [],
   "source": [
    "\"\"\"\n",
    "\n",
    "https://newslibrary.chosun.com/search/search_result.html?case_num=1&sort=1&page=3&size=100&query=%EC%96%91%EC%9C%A1&date=date_select&ds=19900101&de=20221231&field=&type=&wrt=&set_date=#\n",
    "\n",
    "\"\"\""
   ]
  },
  {
   "cell_type": "code",
   "execution_count": null,
   "id": "f79babe8",
   "metadata": {},
   "outputs": [],
   "source": []
  }
 ],
 "metadata": {
  "kernelspec": {
   "display_name": "Python 3 (ipykernel)",
   "language": "python",
   "name": "python3"
  },
  "language_info": {
   "codemirror_mode": {
    "name": "ipython",
    "version": 3
   },
   "file_extension": ".py",
   "mimetype": "text/x-python",
   "name": "python",
   "nbconvert_exporter": "python",
   "pygments_lexer": "ipython3",
   "version": "3.9.7"
  }
 },
 "nbformat": 4,
 "nbformat_minor": 5
}
